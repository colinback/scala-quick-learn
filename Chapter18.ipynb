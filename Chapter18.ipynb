{
 "cells": [
  {
   "cell_type": "markdown",
   "metadata": {},
   "source": [
    "# Chapter 18"
   ]
  },
  {
   "cell_type": "markdown",
   "metadata": {},
   "source": [
    "## 18.1\n",
    "实现一个Bug类，对沿着水平线爬行的虫子建模。move方法向当前方向移动，turn方法让虫子转身，show方法打印出当前的位置。让这些方法可以被串接调用。例如：\n",
    "```\n",
    "bugsy.move(4).show().move(6).show().turn().move(5).show()\n",
    "```\n",
    "上述代码应显示 4 10 5。"
   ]
  },
  {
   "cell_type": "code",
   "execution_count": 1,
   "metadata": {},
   "outputs": [
    {
     "name": "stdout",
     "output_type": "stream",
     "text": [
      "current position: 4\n",
      "current position: 10\n",
      "current position: 5\n"
     ]
    },
    {
     "data": {
      "text/plain": [
       "defined \u001b[32mclass\u001b[39m \u001b[36mBug\u001b[39m\n",
       "\u001b[36mbugsy\u001b[39m: \u001b[32mBug\u001b[39m = $sess.cmd0Wrapper$Helper$Bug@2e8d9f13\n",
       "\u001b[36mres0_2\u001b[39m: \u001b[32mBug\u001b[39m = $sess.cmd0Wrapper$Helper$Bug@2e8d9f13"
      ]
     },
     "execution_count": 1,
     "metadata": {},
     "output_type": "execute_result"
    }
   ],
   "source": [
    "class Bug(var pos: Int = 0) {\n",
    "    var forward: Int = 1\n",
    "    \n",
    "    def move(n: Int):this.type = {\n",
    "        pos += forward * n\n",
    "        this\n",
    "    }\n",
    "    \n",
    "    def show():this.type = {\n",
    "        println(\"current position: \" + pos)\n",
    "        this\n",
    "    }\n",
    "    \n",
    "    def turn():this.type = {\n",
    "        forward = -forward\n",
    "        this\n",
    "    }\n",
    "}\n",
    "\n",
    "val bugsy = new Bug\n",
    "bugsy.move(4).show().move(6).show().turn().move(5).show()"
   ]
  },
  {
   "cell_type": "markdown",
   "metadata": {},
   "source": [
    "## 18.2\n",
    "为前一个练习中的Bug类提供一个流利接口，达到能编写如下代码的效果：\n",
    "```\n",
    "bugsy move 4 and show and then move 6 and show turn around move 5 and show\n",
    "```"
   ]
  },
  {
   "cell_type": "code",
   "execution_count": 23,
   "metadata": {},
   "outputs": [
    {
     "name": "stdout",
     "output_type": "stream",
     "text": [
      "4 10 5 "
     ]
    },
    {
     "data": {
      "text/plain": [
       "defined \u001b[32mclass\u001b[39m \u001b[36mBugAction\u001b[39m\n",
       "defined \u001b[32mobject\u001b[39m \u001b[36mshow\u001b[39m\n",
       "defined \u001b[32mobject\u001b[39m \u001b[36mthen\u001b[39m\n",
       "defined \u001b[32mobject\u001b[39m \u001b[36maround\u001b[39m\n",
       "defined \u001b[32mclass\u001b[39m \u001b[36mBug\u001b[39m\n",
       "\u001b[36mbugsy\u001b[39m: \u001b[32mwrapper\u001b[39m.\u001b[32mwrapper\u001b[39m.\u001b[32mBug\u001b[39m = $sess.cmd22Wrapper$Helper$Bug@53233476\n",
       "\u001b[36mres22_6\u001b[39m: \u001b[32mwrapper\u001b[39m.\u001b[32mwrapper\u001b[39m.\u001b[32mBug\u001b[39m = $sess.cmd22Wrapper$Helper$Bug@53233476"
      ]
     },
     "execution_count": 23,
     "metadata": {},
     "output_type": "execute_result"
    }
   ],
   "source": [
    "abstract class BugAction\n",
    "case object show extends BugAction\n",
    "case object then extends BugAction\n",
    "case object around extends BugAction\n",
    "\n",
    "class Bug(var pos: Int = 0) {\n",
    "    var forward: Int = 1\n",
    "    \n",
    "    def move(num: Int): this.type = { pos += forward * num; this }\n",
    "\n",
    "    def turn(obj: around.type): this.type = { forward = -forward; this}\n",
    "    \n",
    "    def and(act: BugAction): this.type = {\n",
    "        act match {\n",
    "            case s: show.type => { print(pos + \" \"); this }\n",
    "            case t: then.type => this\n",
    "        }\n",
    "    }\n",
    "}\n",
    "\n",
    "val bugsy = new Bug\n",
    "bugsy move 4 and show and then move 6 and show turn around move 5 and show"
   ]
  },
  {
   "cell_type": "markdown",
   "metadata": {},
   "source": [
    "## 18.3\n",
    "完成18.1节中的流利接口，以便我们可以做出如下调用：\n",
    "book set Title to “Scala for the Impatient” set Author to “Cay Horstmann”"
   ]
  },
  {
   "cell_type": "code",
   "execution_count": 24,
   "metadata": {},
   "outputs": [
    {
     "name": "stdout",
     "output_type": "stream",
     "text": [
      "Scala for the Impatient\n",
      "Cay Horstmann\n"
     ]
    },
    {
     "data": {
      "text/plain": [
       "defined \u001b[32mclass\u001b[39m \u001b[36mDocument\u001b[39m\n",
       "defined \u001b[32mclass\u001b[39m \u001b[36mBookAction\u001b[39m\n",
       "defined \u001b[32mobject\u001b[39m \u001b[36mTitle\u001b[39m\n",
       "defined \u001b[32mobject\u001b[39m \u001b[36mAuthor\u001b[39m\n",
       "defined \u001b[32mclass\u001b[39m \u001b[36mBook\u001b[39m\n",
       "\u001b[36mbook\u001b[39m: \u001b[32mBook\u001b[39m = $sess.cmd23Wrapper$Helper$Book@41bae2b\n",
       "\u001b[36mres23_6\u001b[39m: \u001b[32mBook\u001b[39m = $sess.cmd23Wrapper$Helper$Book@41bae2b"
      ]
     },
     "execution_count": 24,
     "metadata": {},
     "output_type": "execute_result"
    }
   ],
   "source": [
    "class Document {\n",
    "    var title: String = \"\"\n",
    "    var author: String = \"\"\n",
    "    def setTitle(title: String):this.type = {this.title = title; this}\n",
    "    def setAuthor(author: String):this.type = {this.author= author; this}\n",
    "}\n",
    "\n",
    "class BookAction\n",
    "case object Title extends BookAction\n",
    "case object Author extends BookAction\n",
    "\n",
    "class Book extends Document{\n",
    "    private var nextAction: BookAction = _\n",
    "    \n",
    "    def set(action: BookAction): this.type = {\n",
    "        action match {\n",
    "            case Title => { nextAction = Title; this }\n",
    "            case Author => { nextAction = Author; this }\n",
    "        }\n",
    "    }\n",
    "    \n",
    "    def to(arg: String): this.type = {\n",
    "      nextAction match {\n",
    "        case Title => { title = arg; this }\n",
    "        case Author => { author = arg; this }\n",
    "      }\n",
    "    }\n",
    "}\n",
    "\n",
    "val book = new Book\n",
    "book set Title to \"Scala for the Impatient\" set Author to \"Cay Horstmann\"\n",
    "println(book.title)\n",
    "println(book.author)"
   ]
  },
  {
   "cell_type": "markdown",
   "metadata": {},
   "source": [
    "## 18.4\n",
    "实现18.2节中被嵌套在Network类中的Member类的equals方法。两个成员要想相等，必须属于同一个网络。"
   ]
  },
  {
   "cell_type": "code",
   "execution_count": 28,
   "metadata": {},
   "outputs": [
    {
     "data": {
      "text/plain": [
       "\u001b[32mimport \u001b[39m\u001b[36mscala.collection.mutable.ArrayBuffer\n",
       "\n",
       "\u001b[39m\n",
       "defined \u001b[32mclass\u001b[39m \u001b[36mNetwork\u001b[39m\n",
       "\u001b[36mnetwork1\u001b[39m: \u001b[32mwrapper.wrapper.Network\u001b[39m#\u001b[32mMember\u001b[39m = $sess.cmd27Wrapper$Helper$Network$Member@2c9352fc\n",
       "\u001b[36mnetwork2\u001b[39m: \u001b[32mwrapper.wrapper.Network\u001b[39m#\u001b[32mMember\u001b[39m = $sess.cmd27Wrapper$Helper$Network$Member@c2ef256\n",
       "\u001b[36mres27_4\u001b[39m: \u001b[32mBoolean\u001b[39m = \u001b[32mfalse\u001b[39m"
      ]
     },
     "execution_count": 28,
     "metadata": {},
     "output_type": "execute_result"
    }
   ],
   "source": [
    "import scala.collection.mutable.ArrayBuffer\n",
    "\n",
    "class Network {\n",
    "    class Member(val name: String) {\n",
    "        val contacts = new ArrayBuffer[Member]\n",
    "        \n",
    "        override def equals(other: Any): Boolean = {\n",
    "            other match {\n",
    "                case that: Member => {\n",
    "                    that.isInstanceOf[Member] && name == that.name\n",
    "                }\n",
    "                case _ => false\n",
    "            }\n",
    "        }\n",
    "    }\n",
    "    \n",
    "    private val members = new ArrayBuffer[Member]\n",
    "    \n",
    "    def join(name: String) = {\n",
    "        val m = new Member(name)\n",
    "        members += m\n",
    "        m\n",
    "    }\n",
    "}\n",
    "\n",
    "val network1 = new Network().join(\"1\")\n",
    "val network2 = new Network().join(\"1\")\n",
    "network1.equals(network2)"
   ]
  },
  {
   "cell_type": "markdown",
   "metadata": {},
   "source": [
    "## 18.5\n",
    "考虑如下类型别名\n",
    "```\n",
    "type NetworkMember = n.Member forSome { val n : Network }\n",
    "```\n",
    "和函数\n",
    "```\n",
    "def process(m1: NetworkMember, m2: NetworkMember) = (m1, m2)\n",
    "```\n",
    "这与18.8节中的process函数有什么不同？"
   ]
  },
  {
   "cell_type": "markdown",
   "metadata": {},
   "source": [
    "A: process接受相同或不同网络的成员, 而18.8节中的函数(process)则拒绝那些来自不同网络的成员。"
   ]
  },
  {
   "cell_type": "markdown",
   "metadata": {},
   "source": [
    "## 18.6\n",
    "Scala类库中的Either类型可以被用于要么返回结果，要么返回某种失败信息的算法。编写一个带有两个参数的函数：一个已排序整数数组和一个整数值。要么返回该整数值在数组中的下标，要么返回最接近该值的元素的下标。使用一个中置类型作为返回类型。"
   ]
  },
  {
   "cell_type": "code",
   "execution_count": 30,
   "metadata": {},
   "outputs": [
    {
     "data": {
      "text/plain": [
       "defined \u001b[32mfunction\u001b[39m \u001b[36mgetIndex\u001b[39m\n",
       "\u001b[36mres29_1\u001b[39m: \u001b[32mEither\u001b[39m[\u001b[32mInt\u001b[39m, \u001b[32mInt\u001b[39m] = \u001b[33mRight\u001b[39m(\u001b[32m3\u001b[39m)\n",
       "\u001b[36mres29_2\u001b[39m: \u001b[32mEither\u001b[39m[\u001b[32mInt\u001b[39m, \u001b[32mInt\u001b[39m] = \u001b[33mLeft\u001b[39m(\u001b[32m1\u001b[39m)"
      ]
     },
     "execution_count": 30,
     "metadata": {},
     "output_type": "execute_result"
    }
   ],
   "source": [
    "def getIndex(arr: Seq[Int], v: Int): Int Either Int = {\n",
    "    if (arr.contains(v)) {\n",
    "        Left(arr.indexOf(v))\n",
    "    } else {\n",
    "        Right(arr.indexOf(arr.reduce((a, b) => if (math.abs(a - v) > math.abs(b - v)) b else a)))\n",
    "    }\n",
    "}\n",
    "\n",
    "getIndex(Seq(2,3,4,5,-2,-3),6)\n",
    "getIndex(Seq(2,3,4,5,-2,-3),3)"
   ]
  },
  {
   "cell_type": "markdown",
   "metadata": {},
   "source": [
    "## 18.7\n",
    "实现一个方法，接受任何具备如下方法的类的对象和一个处理该对象的函数。调用该函数，并在完成或有任何异常发生时调用close方法。\n",
    "```\n",
    "def close(): Unit\n",
    "```"
   ]
  },
  {
   "cell_type": "code",
   "execution_count": 31,
   "metadata": {},
   "outputs": [
    {
     "data": {
      "text/plain": [
       "defined \u001b[32mfunction\u001b[39m \u001b[36mtryWithClose\u001b[39m"
      ]
     },
     "execution_count": 31,
     "metadata": {},
     "output_type": "execute_result"
    }
   ],
   "source": [
    "def tryWithClose[T <: {def close(): Unit}](obj: T, func: T => Unit) {\n",
    "    try {\n",
    "        func(obj)\n",
    "    } finally {\n",
    "        obj.close()\n",
    "    }\n",
    "}"
   ]
  },
  {
   "cell_type": "markdown",
   "metadata": {},
   "source": [
    "## 18.8\n",
    "编写一个函数printValues，带有三个参数f、from和to，打印出所有给定区间范围内的输入值经过f计算后的结果。这里的f应该是任何带有接受Int产出Int的apply方法的对象。例如：\n",
    "```\n",
    "printValues((x: Int) => x*x, 3, 6) //将打印 9 16 25 36\n",
    "printValues(Array(1, 1, 2, 3, 5, 8, 13, 21, 34, 55), 3, 6) //将打印 3 5 8 13\n",
    "```"
   ]
  },
  {
   "cell_type": "code",
   "execution_count": 34,
   "metadata": {},
   "outputs": [
    {
     "name": "stdout",
     "output_type": "stream",
     "text": [
      "9 16 25 36 \n",
      "3 5 8 13 \n"
     ]
    },
    {
     "data": {
      "text/plain": [
       "defined \u001b[32mfunction\u001b[39m \u001b[36mprintValues\u001b[39m"
      ]
     },
     "execution_count": 34,
     "metadata": {},
     "output_type": "execute_result"
    }
   ],
   "source": [
    "def printValues(f: {def apply(param:Int):Int}, from: Int, to: Int) {\n",
    "    for(i <- from to to) {\n",
    "        print(f.apply(i) + \" \")\n",
    "    }\n",
    "    println()\n",
    "}\n",
    "\n",
    "printValues((x: Int) => x*x, 3, 6)\n",
    "\n",
    "printValues(Array(1, 1, 2, 3, 5, 8, 13, 21, 34, 55), 3, 6)"
   ]
  },
  {
   "cell_type": "markdown",
   "metadata": {},
   "source": [
    "## 18.9\n",
    "考虑如下对物理度量建模的类\n",
    "```scala\n",
    "abstract class Dim[T](val value: Double, val name: String) {\n",
    "    protected def create(v: Double): T\n",
    "    def +(other: Dim[T]) = create(value + other.value)\n",
    "    override def toString() = value + \" \" + name\n",
    "}\n",
    "```\n",
    "以下是具体子类:\n",
    "```scala\n",
    "class Seconds(v: Double) extends Dim[Seconds] (v, \"s\") {\n",
    "    override def create(v: Double) = new Seconds(v)\n",
    "}\n",
    "```\n",
    "但不清楚状况的人可能会定义\n",
    "```scala\n",
    "class Meters(v: Double) extends Dim[Meters](v, \"m\") {\n",
    "    override def create(v: Double) = new Seconds(v)\n",
    "}\n",
    "```\n",
    "允许米（Meters）和秒（Seconds）相加。使用自身类型来防止发生这样的情况。"
   ]
  },
  {
   "cell_type": "code",
   "execution_count": 36,
   "metadata": {},
   "outputs": [
    {
     "name": "stderr",
     "output_type": "stream",
     "text": [
      "cmd36.sc:10: illegal inheritance;\n",
      " self-type Helper.this.Meters does not conform to Helper.this.Dim[Helper.this.Seconds]'s selftype Helper.this.Dim[Helper.this.Seconds] with Helper.this.Seconds\n",
      "class Meters(v: Double) extends Dim[Seconds](v, \"m\"){\n",
      "                                ^"
     ]
    },
    {
     "ename": "",
     "evalue": "",
     "output_type": "error",
     "traceback": [
      "Compilation Failed"
     ]
    }
   ],
   "source": [
    "/*\n",
    "public abstract class Dim<T>\n",
    "{\n",
    "    private final double value;\n",
    "    private final String name;\n",
    "\n",
    "    public double value() {\n",
    "        return this.value;\n",
    "    }\n",
    "\n",
    "    public String name() {\n",
    "        return this.name;\n",
    "    }\n",
    "\n",
    "    public abstract T create(final double v);\n",
    "\n",
    "    public T $plus(final Dim<T> other) {\n",
    "        return this.create(this.value() + other.value());\n",
    "    }\n",
    "\n",
    "    @Override\n",
    "    public String toString() {\n",
    "        return this.value() + \" \" + this.name();\n",
    "    }\n",
    "\n",
    "    public Dim(final double value, final String name) {\n",
    "        this.value = value;\n",
    "        this.name = name;\n",
    "    }\n",
    "}\n",
    "*/\n",
    "abstract class Dim[T](val value: Double, val name: String){\n",
    "  this: T =>\n",
    "  protected def create(v: Double): T\n",
    "  def + (other: Dim[T]) = create(value + other.value)\n",
    "  override def toString() = value + \" \" + name\n",
    "}\n",
    "\n",
    "/*\n",
    "public class Seconds extends Dim<Seconds>\n",
    "{\n",
    "    @Override\n",
    "    public Seconds create(final double v) {\n",
    "        return new Seconds(v);\n",
    "    }\n",
    "\n",
    "    public Seconds(final double v) {\n",
    "        super(v, \"s\");\n",
    "    }\n",
    "}\n",
    "*/\n",
    "class Seconds(v: Double) extends Dim[Seconds](v, \"s\"){\n",
    "  override def create(v: Double) = new Seconds(v)\n",
    "}\n",
    "class Meters(v: Double) extends Dim[Seconds](v, \"m\"){\n",
    "  override def create(v: Double) = new Seconds(v)\n",
    "}\n",
    "\n",
    "val s = new Seconds(10)\n",
    "val m = new Meters(5)\n",
    "s + m"
   ]
  },
  {
   "cell_type": "markdown",
   "metadata": {},
   "source": [
    "## 18.10\n",
    "自身类型通常可以被扩展自身的特质替代，但某些情况下使用自身类型会改变初始化和重写的顺序。构造出这样的一个示例。"
   ]
  },
  {
   "cell_type": "code",
   "execution_count": 45,
   "metadata": {},
   "outputs": [
    {
     "name": "stdout",
     "output_type": "stream",
     "text": [
      "null\n"
     ]
    },
    {
     "data": {
      "text/plain": [
       "defined \u001b[32mtrait\u001b[39m \u001b[36mA\u001b[39m\n",
       "defined \u001b[32mtrait\u001b[39m \u001b[36mC\u001b[39m\n",
       "defined \u001b[32mclass\u001b[39m \u001b[36mB\u001b[39m\n",
       "\u001b[36mb\u001b[39m: \u001b[32mwrapper\u001b[39m.\u001b[32mwrapper\u001b[39m.\u001b[32mB\u001b[39m with \u001b[32mwrapper\u001b[39m.\u001b[32mwrapper\u001b[39m.\u001b[32mA\u001b[39m with \u001b[32mwrapper\u001b[39m.\u001b[32mwrapper\u001b[39m.\u001b[32mC\u001b[39m = $sess.cmd44Wrapper$Helper$$anon$1@5f3f1dc"
      ]
     },
     "execution_count": 45,
     "metadata": {},
     "output_type": "execute_result"
    }
   ],
   "source": [
    "trait A {\n",
    "    def sing() = \"from a\"\n",
    "}\n",
    "\n",
    "trait C {\n",
    "    this: A =>\n",
    "    val w = sing + \"from c\"\n",
    "}\n",
    "\n",
    "class B {\n",
    "    this: C =>\n",
    "    val k = w\n",
    "}\n",
    "\n",
    "val b = new B with C with A\n",
    "// val b = new B with A with C\n",
    "println(b.k)"
   ]
  },
  {
   "cell_type": "code",
   "execution_count": null,
   "metadata": {
    "collapsed": true
   },
   "outputs": [],
   "source": []
  }
 ],
 "metadata": {
  "kernelspec": {
   "display_name": "Scala",
   "language": "scala",
   "name": "scala"
  },
  "language_info": {
   "codemirror_mode": "text/x-scala",
   "file_extension": ".scala",
   "mimetype": "text/x-scala",
   "name": "scala211",
   "nbconvert_exporter": "script",
   "pygments_lexer": "scala",
   "version": "2.11.11"
  }
 },
 "nbformat": 4,
 "nbformat_minor": 1
}
