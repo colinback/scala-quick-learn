{
 "cells": [
  {
   "cell_type": "markdown",
   "metadata": {},
   "source": [
    "# Chapter 7"
   ]
  },
  {
   "cell_type": "markdown",
   "metadata": {},
   "source": [
    "## 7.1\n",
    "编写示例程序, 展示为什么package com.horstmann.impatient不同于\n",
    "* package com\n",
    "* package horstmann\n",
    "* package impatient"
   ]
  },
  {
   "cell_type": "code",
   "execution_count": 0,
   "metadata": {},
   "outputs": [
    {
     "ename": "",
     "evalue": "",
     "output_type": "error",
     "traceback": [
      "SyntaxError: found \"package com {\\n    cl\", expected TopPkgSeq | Import | Prelude ~ BlockDef | Expr | End at index 0",
      "package com {",
      "^"
     ]
    }
   ],
   "source": [
    "package com {\n",
    "    class T1 {} \n",
    "    package horstmann { \n",
    "        class T2(t: T1) {}\n",
    "        package impatient { \n",
    "            class T3(t1:T1, t2:T2) {} \n",
    "        }\n",
    "    }\n",
    "}\n",
    "\n",
    "//package com.horstmann.impatient {\n",
    "  //class T4(t1:T1,t3:T3)      //can not find type T1\n",
    "//}"
   ]
  },
  {
   "cell_type": "markdown",
   "metadata": {
    "collapsed": true
   },
   "source": [
    "## 7.3\n",
    "编写一个包random, 加入函数nextInt():Int, nextDouble():Double 和setSeed(seed:Int):Unit,\n",
    "生成随机数的算法采用线性同余生成器: 后值=(前值 * a + b) mod (2 pow n)。\n",
    "其中, a=1664525, b=1013904223, n =32, 前值的初始值为seed"
   ]
  },
  {
   "cell_type": "code",
   "execution_count": 0,
   "metadata": {},
   "outputs": [
    {
     "ename": "",
     "evalue": "",
     "output_type": "error",
     "traceback": [
      "SyntaxError: found \"package object rando\", expected TopPkgSeq | Import | Prelude ~ BlockDef | Expr | End at index 0",
      "package object rando",
      "^"
     ]
    }
   ],
   "source": [
    "package object random {\n",
    "    var seed:Int = 0\n",
    "    val a = BigDecimal(1664525)\n",
    "    val b = BigDecimal(1013904223)\n",
    "    val n = 32\n",
    "    \n",
    "    nextInt():Int = {\n",
    "        seed = (seed * a + b) % BigDecimal(2).pow(n) toInt\n",
    "        seed\n",
    "    }\n",
    "    \n",
    "    nextDouble():Double = {\n",
    "        val temp = (seed * a + b) % BigDecimal(2).pow(n)\n",
    "        seed = temp.toInt\n",
    "        temp.toDouble\n",
    "    }\n",
    "}"
   ]
  },
  {
   "cell_type": "code",
   "execution_count": null,
   "metadata": {
    "collapsed": true
   },
   "outputs": [],
   "source": []
  }
 ],
 "metadata": {
  "kernelspec": {
   "display_name": "Scala",
   "language": "scala",
   "name": "scala"
  },
  "language_info": {
   "codemirror_mode": "text/x-scala",
   "file_extension": ".scala",
   "mimetype": "text/x-scala",
   "name": "scala211",
   "nbconvert_exporter": "script",
   "pygments_lexer": "scala",
   "version": "2.11.11"
  }
 },
 "nbformat": 4,
 "nbformat_minor": 1
}
