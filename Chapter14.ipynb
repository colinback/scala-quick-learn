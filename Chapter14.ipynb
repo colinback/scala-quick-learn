{
 "cells": [
  {
   "cell_type": "markdown",
   "metadata": {},
   "source": [
    "# Chapter 14"
   ]
  },
  {
   "cell_type": "markdown",
   "metadata": {},
   "source": [
    "## 14.1\n",
    "JDK发行包有一个src.zip文件包含了JDK的大多数源代码。解压并搜索样例标签(用正则表达式case [^:]+:)。然后查找以//开头并包含[Ff]alls?thr的注释，捕获类似// Falls through或// just fall thru这样的注释。假定JDK的程序员们遵守Java编码习惯，在该写注释的地方写下了这些注释，有多少百分比的样例是会掉入到下一个分支的？"
   ]
  },
  {
   "cell_type": "code",
   "execution_count": null,
   "metadata": {
    "collapsed": true
   },
   "outputs": [],
   "source": []
  },
  {
   "cell_type": "markdown",
   "metadata": {},
   "source": [
    "## 14.2\n",
    "利用模式匹配, 编写一个swap函数, 接受一个整数的对偶, 返回对偶的两个组成部件互换位置的新对偶"
   ]
  },
  {
   "cell_type": "code",
   "execution_count": 1,
   "metadata": {},
   "outputs": [
    {
     "data": {
      "text/plain": [
       "defined \u001b[32mfunction\u001b[39m \u001b[36mswap\u001b[39m\n",
       "\u001b[36mres0_1\u001b[39m: (\u001b[32mInt\u001b[39m, \u001b[32mInt\u001b[39m) = (\u001b[32m3\u001b[39m, \u001b[32m2\u001b[39m)"
      ]
     },
     "execution_count": 1,
     "metadata": {},
     "output_type": "execute_result"
    }
   ],
   "source": [
    "def swap(tuple: (Int, Int)): (Int, Int) = {\n",
    "    tuple match {\n",
    "        case (x, y) => (y, x)\n",
    "    }\n",
    "}\n",
    "\n",
    "swap((2, 3))"
   ]
  },
  {
   "cell_type": "markdown",
   "metadata": {},
   "source": [
    "## 14.3\n",
    "利用模式匹配,编写一个swap函数, 交换数组中前两个元素的位置, 前提条件是数组长度至少为2"
   ]
  },
  {
   "cell_type": "code",
   "execution_count": 4,
   "metadata": {},
   "outputs": [
    {
     "data": {
      "text/plain": [
       "defined \u001b[32mfunction\u001b[39m \u001b[36mswap\u001b[39m\n",
       "\u001b[36mres3_1\u001b[39m: \u001b[32mArray\u001b[39m[\u001b[32mAny\u001b[39m] = \u001b[33mArray\u001b[39m(sh, bj, cq)\n",
       "\u001b[36mres3_2\u001b[39m: \u001b[32mArray\u001b[39m[\u001b[32mAny\u001b[39m] = \u001b[33mArray\u001b[39m(bj)"
      ]
     },
     "execution_count": 4,
     "metadata": {},
     "output_type": "execute_result"
    }
   ],
   "source": [
    "def swap(arr: Array[Any]): Array[Any] = {\n",
    "    arr match {\n",
    "        case Array(first, second, rest @ _*) => Array(second, first) ++ rest\n",
    "        case _ => arr\n",
    "    }\n",
    "}\n",
    "\n",
    "swap(Array(\"bj\", \"sh\", \"cq\"))\n",
    "swap(Array(\"bj\"))"
   ]
  },
  {
   "cell_type": "markdown",
   "metadata": {},
   "source": [
    "## 14.4\n",
    "添加一个样例类Multiple，作为Item的子类。举例来说，Multiple(10,Article(“Blackwell Toster”,29.95))描述的是10个烤面包机。当然了，你应该可以在第二个参数的位置接受任何Item，无论是Bundle还是另一个Multiple。扩展price函数以应对新的样例。"
   ]
  },
  {
   "cell_type": "code",
   "execution_count": 5,
   "metadata": {},
   "outputs": [
    {
     "data": {
      "text/plain": [
       "defined \u001b[32mclass\u001b[39m \u001b[36mItem\u001b[39m\n",
       "defined \u001b[32mclass\u001b[39m \u001b[36mArticle\u001b[39m\n",
       "defined \u001b[32mclass\u001b[39m \u001b[36mBundle\u001b[39m\n",
       "defined \u001b[32mclass\u001b[39m \u001b[36mMultiple\u001b[39m\n",
       "defined \u001b[32mfunction\u001b[39m \u001b[36mprice\u001b[39m\n",
       "\u001b[36mres4_5\u001b[39m: \u001b[32mDouble\u001b[39m = \u001b[32m299.5\u001b[39m"
      ]
     },
     "execution_count": 5,
     "metadata": {},
     "output_type": "execute_result"
    }
   ],
   "source": [
    "abstract class Item\n",
    "case class Article(description: String, price: Double) extends Item\n",
    "case class Bundle(description: String, discount: Double, items: Item*) extends Item\n",
    "case class Multiple(num: Int, item: Item) extends Item\n",
    "\n",
    "def price(it: Item): Double = it match {\n",
    "    case Article(_, p) => p\n",
    "    case Bundle(_, disc, its @ _*) => its.map(price _).sum - disc\n",
    "    case Multiple(num, it) => price(it) * num\n",
    "}\n",
    "\n",
    "price(Multiple(10,Article(\"Blackwell Toster\",29.95)))"
   ]
  },
  {
   "cell_type": "markdown",
   "metadata": {},
   "source": [
    "## 14.5\n",
    "我们可以用列表制作只在叶子节点存放值的树。举例来说，列表((3 8) 2 (5))描述的是如下这样一棵树:\n",
    "```\n",
    "    *\n",
    "  / | \\\n",
    " *  2  *\n",
    "/ \\    |\n",
    "3 8    5\n",
    "```\n",
    "不过，有些列表元素是数字，而另一些是列表。在Scala中，你不能拥有异构的列表，因此你必须使用List[Any]。编写一个leafSum函数，计算所有叶子节点中的元素之和，用模式匹配来区分数字和列表。"
   ]
  },
  {
   "cell_type": "code",
   "execution_count": 6,
   "metadata": {},
   "outputs": [
    {
     "data": {
      "text/plain": [
       "defined \u001b[32mfunction\u001b[39m \u001b[36mleafSum\u001b[39m\n",
       "\u001b[36mres5_1\u001b[39m: \u001b[32mInt\u001b[39m = \u001b[32m18\u001b[39m"
      ]
     },
     "execution_count": 6,
     "metadata": {},
     "output_type": "execute_result"
    }
   ],
   "source": [
    "def leafSum(list: List[Any]): Int = {\n",
    "    var sum: Int = 0\n",
    "    list foreach {\n",
    "        node => node match {\n",
    "            case x: Int => sum += x\n",
    "            case l: List[Any] => sum += leafSum(l)\n",
    "        }\n",
    "    }\n",
    "    sum\n",
    "}\n",
    "\n",
    "leafSum(List(List(3, 8), 2, List(5)))"
   ]
  },
  {
   "cell_type": "markdown",
   "metadata": {},
   "source": [
    "## 14.6\n",
    "制作这样的树更好的做法是使用样例类。我们不妨从二叉树开始。\n",
    "```scala\n",
    "sealed abstract class BinaryTree\n",
    "case class Leaf(value : Int) extends BinaryTree\n",
    "case class Node(left : BinaryTree,right : BinaryTree) extends BinaryTree\n",
    "```\n",
    "编写一个函数计算所有叶子节点中的元素之和。"
   ]
  },
  {
   "cell_type": "code",
   "execution_count": 7,
   "metadata": {},
   "outputs": [
    {
     "data": {
      "text/plain": [
       "defined \u001b[32mclass\u001b[39m \u001b[36mBinaryTree\u001b[39m\n",
       "defined \u001b[32mclass\u001b[39m \u001b[36mLeaf\u001b[39m\n",
       "defined \u001b[32mclass\u001b[39m \u001b[36mNode\u001b[39m\n",
       "defined \u001b[32mfunction\u001b[39m \u001b[36mleafSum\u001b[39m\n",
       "\u001b[36mr\u001b[39m: \u001b[32mNode\u001b[39m = Node(Leaf(3),Node(Leaf(3),Leaf(9)))\n",
       "\u001b[36mres6_5\u001b[39m: \u001b[32mInt\u001b[39m = \u001b[32m15\u001b[39m"
      ]
     },
     "execution_count": 7,
     "metadata": {},
     "output_type": "execute_result"
    }
   ],
   "source": [
    "sealed abstract class BinaryTree\n",
    "case class Leaf(value : Int) extends BinaryTree\n",
    "case class Node(left : BinaryTree, right : BinaryTree) extends BinaryTree\n",
    "\n",
    "def leafSum(tree: BinaryTree): Int = {\n",
    "    tree match {\n",
    "        case Leaf(v) => v\n",
    "        case Node(l, r) => leafSum(l) + leafSum(r)\n",
    "    }\n",
    "}\n",
    "\n",
    "val r = Node(Leaf(3),Node(Leaf(3),Leaf(9)))\n",
    "leafSum(r)"
   ]
  },
  {
   "cell_type": "markdown",
   "metadata": {},
   "source": [
    "## 14.7\n",
    "扩展前一个练习中的树，使得每个节点可以有任意多的后代，并重新实现leafSum函数。第五题中的树应该能够通过下述代码表示：\n",
    "Node(Node(Leaf(3),Leaf(8)),Leaf(2),Node(Leaf(5)))"
   ]
  },
  {
   "cell_type": "code",
   "execution_count": 8,
   "metadata": {},
   "outputs": [
    {
     "data": {
      "text/plain": [
       "defined \u001b[32mclass\u001b[39m \u001b[36mBinaryTree\u001b[39m\n",
       "defined \u001b[32mclass\u001b[39m \u001b[36mLeaf\u001b[39m\n",
       "defined \u001b[32mclass\u001b[39m \u001b[36mNode\u001b[39m\n",
       "defined \u001b[32mfunction\u001b[39m \u001b[36mleafSum\u001b[39m\n",
       "\u001b[36mr\u001b[39m: \u001b[32mwrapper\u001b[39m.\u001b[32mwrapper\u001b[39m.\u001b[32mNode\u001b[39m = Node(WrappedArray(Node(WrappedArray(Leaf(3), Leaf(8))), Leaf(2), Node(WrappedArray(Leaf(5)))))\n",
       "\u001b[36mres7_5\u001b[39m: \u001b[32mInt\u001b[39m = \u001b[32m18\u001b[39m"
      ]
     },
     "execution_count": 8,
     "metadata": {},
     "output_type": "execute_result"
    }
   ],
   "source": [
    "sealed abstract class BinaryTree\n",
    "case class Leaf(value : Int) extends BinaryTree\n",
    "case class Node(trees : BinaryTree*) extends BinaryTree\n",
    "\n",
    "def leafSum(tree: BinaryTree): Int = {\n",
    "    tree match {\n",
    "        case Leaf(v) => v\n",
    "        case Node(trees @ _*) => trees.map(leafSum(_)).sum\n",
    "    }\n",
    "}\n",
    "\n",
    "val r = Node(Node(Leaf(3),Leaf(8)),Leaf(2),Node(Leaf(5)))\n",
    "leafSum(r)"
   ]
  },
  {
   "cell_type": "markdown",
   "metadata": {},
   "source": [
    "## 14.8\n",
    "扩展前一个练习中的树，使得每个非叶子节点除了后代之外，能够存放一个操作符。然后编写一个eval函数来计算它的值。举例来说：\n",
    "```\n",
    "    +\n",
    "  / | \\\n",
    " *  2  -\n",
    "/ \\    |\n",
    "3 8    5\n",
    "```\n",
    "上面这棵树的值为(3 * 8) + 2 + (-5) = 21"
   ]
  },
  {
   "cell_type": "code",
   "execution_count": 9,
   "metadata": {},
   "outputs": [
    {
     "data": {
      "text/plain": [
       "defined \u001b[32mclass\u001b[39m \u001b[36mBinaryTree\u001b[39m\n",
       "defined \u001b[32mclass\u001b[39m \u001b[36mLeaf\u001b[39m\n",
       "defined \u001b[32mclass\u001b[39m \u001b[36mNode\u001b[39m\n",
       "defined \u001b[32mfunction\u001b[39m \u001b[36meval\u001b[39m\n",
       "\u001b[36mr\u001b[39m: \u001b[32mwrapper\u001b[39m.\u001b[32mwrapper\u001b[39m.\u001b[32mNode\u001b[39m = Node(+,WrappedArray(Node(*,WrappedArray(Leaf(3), Leaf(8))), Leaf(2), Node(-,WrappedArray(Leaf(5)))))\n",
       "\u001b[36mres8_5\u001b[39m: \u001b[32mInt\u001b[39m = \u001b[32m21\u001b[39m"
      ]
     },
     "execution_count": 9,
     "metadata": {},
     "output_type": "execute_result"
    }
   ],
   "source": [
    "sealed abstract class BinaryTree\n",
    "case class Leaf(value : Int) extends BinaryTree\n",
    "case class Node(op: Char, trees : BinaryTree*) extends BinaryTree\n",
    "\n",
    "def eval(tree: BinaryTree): Int = {\n",
    "    tree match {\n",
    "        case Leaf(v) => v\n",
    "        case Node(op, trees @ _*) => op match {\n",
    "            case '+' => trees.map(eval _).sum\n",
    "            case '-' => -trees.map(eval _).sum\n",
    "            case '*' => trees.map(eval _).product\n",
    "        }\n",
    "    }\n",
    "}\n",
    "\n",
    "val r = Node('+', Node('*', Leaf(3),Leaf(8)),Leaf(2),Node('-', Leaf(5)))\n",
    "eval(r)"
   ]
  },
  {
   "cell_type": "markdown",
   "metadata": {},
   "source": [
    "## 14.9\n",
    "编写一个函数，计算List[Option[Int]]中所有非None值之和。不得使用match语句。"
   ]
  },
  {
   "cell_type": "code",
   "execution_count": 11,
   "metadata": {},
   "outputs": [
    {
     "name": "stdout",
     "output_type": "stream",
     "text": [
      "6\n"
     ]
    },
    {
     "data": {
      "text/plain": [
       "defined \u001b[32mfunction\u001b[39m \u001b[36msum\u001b[39m\n",
       "\u001b[36mx\u001b[39m: \u001b[32mList\u001b[39m[\u001b[32mOption\u001b[39m[\u001b[32mInt\u001b[39m]] = \u001b[33mList\u001b[39m(\u001b[33mSome\u001b[39m(\u001b[32m1\u001b[39m), None, \u001b[33mSome\u001b[39m(\u001b[32m2\u001b[39m), None, \u001b[33mSome\u001b[39m(\u001b[32m3\u001b[39m))"
      ]
     },
     "execution_count": 11,
     "metadata": {},
     "output_type": "execute_result"
    }
   ],
   "source": [
    "def sum(lst: List[Option[Int]]): Int = {\n",
    "    lst.map(_.getOrElse(0)).sum\n",
    "}\n",
    "\n",
    "val x = List(Some(1), None, Some(2), None, Some(3))\n",
    "println(sum(x))"
   ]
  },
  {
   "cell_type": "markdown",
   "metadata": {},
   "source": [
    "## 14.10\n",
    "编写一个函数，将两个类型为Double=>Option[Double]的函数组合在一起，产生另一个同样类型的函数。如果其中一个函数返回None，则组合函数也应返回None。例如：\n",
    "```scala\n",
    "def f(x : Double) = if ( x >= 0) Some(sqrt(x)) else None\n",
    "def g(x : Double) = if ( x != 1) Some( 1 / ( x - 1)) else None\n",
    "val h = compose(f,g)\n",
    "```\n",
    "h(2)将得到Some(1)，而h(1)和h(0)将得到None"
   ]
  },
  {
   "cell_type": "code",
   "execution_count": 12,
   "metadata": {},
   "outputs": [
    {
     "data": {
      "text/plain": [
       "defined \u001b[32mfunction\u001b[39m \u001b[36mcompose\u001b[39m\n",
       "\u001b[32mimport \u001b[39m\u001b[36mscala.math.sqrt\n",
       "\n",
       "\u001b[39m\n",
       "defined \u001b[32mfunction\u001b[39m \u001b[36mf\u001b[39m\n",
       "defined \u001b[32mfunction\u001b[39m \u001b[36mg\u001b[39m\n",
       "\u001b[36mh\u001b[39m: \u001b[32mDouble\u001b[39m => \u001b[32mOption\u001b[39m[\u001b[32mDouble\u001b[39m] = <function1>\n",
       "\u001b[36mres11_5\u001b[39m: \u001b[32mOption\u001b[39m[\u001b[32mDouble\u001b[39m] = \u001b[33mSome\u001b[39m(\u001b[32m1.0\u001b[39m)\n",
       "\u001b[36mres11_6\u001b[39m: \u001b[32mOption\u001b[39m[\u001b[32mDouble\u001b[39m] = None\n",
       "\u001b[36mres11_7\u001b[39m: \u001b[32mOption\u001b[39m[\u001b[32mDouble\u001b[39m] = \u001b[33mSome\u001b[39m(\u001b[32m-1.0\u001b[39m)"
      ]
     },
     "execution_count": 12,
     "metadata": {},
     "output_type": "execute_result"
    }
   ],
   "source": [
    "def compose(f: Double => Option[Double], g: Double => Option[Double]) = {\n",
    "    (x: Double) => {\n",
    "        if (f(x) == None || g(x) == None) None\n",
    "        else g(x)\n",
    "    }\n",
    "}\n",
    "\n",
    "import scala.math.sqrt\n",
    "\n",
    "def f(x : Double) = if ( x >= 0) Some(sqrt(x)) else None\n",
    "def g(x : Double) = if ( x != 1) Some( 1 / ( x - 1)) else None\n",
    "val h = compose(f, g)\n",
    "\n",
    "h(2)\n",
    "h(1)\n",
    "h(0)"
   ]
  },
  {
   "cell_type": "code",
   "execution_count": null,
   "metadata": {
    "collapsed": true
   },
   "outputs": [],
   "source": []
  }
 ],
 "metadata": {
  "kernelspec": {
   "display_name": "Scala",
   "language": "scala",
   "name": "scala"
  },
  "language_info": {
   "codemirror_mode": "text/x-scala",
   "file_extension": ".scala",
   "mimetype": "text/x-scala",
   "name": "scala211",
   "nbconvert_exporter": "script",
   "pygments_lexer": "scala",
   "version": "2.11.11"
  }
 },
 "nbformat": 4,
 "nbformat_minor": 1
}
