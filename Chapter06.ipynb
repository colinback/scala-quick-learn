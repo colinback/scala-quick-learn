{
 "cells": [
  {
   "cell_type": "markdown",
   "metadata": {},
   "source": [
    "# Chapter 6"
   ]
  },
  {
   "cell_type": "markdown",
   "metadata": {},
   "source": [
    "## 6.1\n",
    "编写一个Conversions对象, 加入inchesToCentimeters, gallonsToLiters和milesToKilometers方法"
   ]
  },
  {
   "cell_type": "code",
   "execution_count": 1,
   "metadata": {},
   "outputs": [
    {
     "data": {
      "text/plain": [
       "defined \u001b[32mobject\u001b[39m \u001b[36mConversion\u001b[39m"
      ]
     },
     "execution_count": 1,
     "metadata": {},
     "output_type": "execute_result"
    }
   ],
   "source": [
    "object Conversion {\n",
    "    def inchesToCentimeters(inch: Double) = {\n",
    "        2.54 * inch\n",
    "    }\n",
    "    \n",
    "    def gallonsToLiters(gallon: Double) = {\n",
    "        3.78541178 * gallon\n",
    "    }\n",
    "    \n",
    "    def milesToKilometers(mile: Double) = {\n",
    "        0.6213712 * mile\n",
    "    }\n",
    "}"
   ]
  },
  {
   "cell_type": "markdown",
   "metadata": {},
   "source": [
    "## 6.2\n",
    "前一个练习不是很面向对象。提供一个通用的超类UnitConversion并定义扩展该超类的InchesToCentimeters，GallonsToLiters和MilesToKilometers对象。"
   ]
  },
  {
   "cell_type": "code",
   "execution_count": 3,
   "metadata": {},
   "outputs": [
    {
     "data": {
      "text/plain": [
       "defined \u001b[32mclass\u001b[39m \u001b[36mUnitConversion\u001b[39m\n",
       "defined \u001b[32mobject\u001b[39m \u001b[36mInchesToCentimeters\u001b[39m\n",
       "defined \u001b[32mobject\u001b[39m \u001b[36mGallonsToLiters\u001b[39m\n",
       "defined \u001b[32mobject\u001b[39m \u001b[36mMilesToKilometers\u001b[39m"
      ]
     },
     "execution_count": 3,
     "metadata": {},
     "output_type": "execute_result"
    }
   ],
   "source": [
    "abstract class UnitConversion {\n",
    "    def inchesToCentimeters(inch: Double) = {}\n",
    "    def gallonsToLiters(gallon: Double) = {}\n",
    "    def milesToKilometers(mile: Double) = {}\n",
    "}\n",
    "\n",
    "object InchesToCentimeters extends UnitConversion {\n",
    "    override def inchesToCentimeters(inch: Double) = {\n",
    "        2.54 * inch\n",
    "    }\n",
    "}\n",
    "\n",
    "object GallonsToLiters extends UnitConversion {\n",
    "    override def gallonsToLiters(gallon: Double) = {\n",
    "        3.78541178 * gallon\n",
    "    }\n",
    "}\n",
    "\n",
    "object MilesToKilometers extends UnitConversion {\n",
    "    override def milesToKilometers(mile: Double) = {\n",
    "        0.6213712 * mile\n",
    "    }\n",
    "}"
   ]
  },
  {
   "cell_type": "markdown",
   "metadata": {},
   "source": [
    "## 6.3\n",
    "定义一个扩展自java.awt.Point的Origin对象, 为什么说这实际上不是个好主意?"
   ]
  },
  {
   "cell_type": "code",
   "execution_count": 5,
   "metadata": {},
   "outputs": [
    {
     "data": {
      "text/plain": [
       "\u001b[32mimport \u001b[39m\u001b[36mjava.awt.Point\n",
       "\n",
       "\u001b[39m\n",
       "defined \u001b[32mobject\u001b[39m \u001b[36mOrigin\u001b[39m"
      ]
     },
     "execution_count": 5,
     "metadata": {},
     "output_type": "execute_result"
    }
   ],
   "source": [
    "import java.awt.Point\n",
    "\n",
    "object Origin extends Point {\n",
    "    override def getLocation : Point = super.getLocation\n",
    "}"
   ]
  },
  {
   "cell_type": "markdown",
   "metadata": {},
   "source": [
    "Point类中getLocation()方法返回一个Point对象，Origin的getLocation如果返回Origin对象需要Origin类"
   ]
  },
  {
   "cell_type": "markdown",
   "metadata": {},
   "source": [
    "## 6.4\n",
    "定义一个Point类和一个伴生对象, 使得我们可以不用new而直接用Point(3,4)来构造Point实例"
   ]
  },
  {
   "cell_type": "code",
   "execution_count": 6,
   "metadata": {},
   "outputs": [
    {
     "name": "stdout",
     "output_type": "stream",
     "text": [
      "3 4\n"
     ]
    },
    {
     "data": {
      "text/plain": [
       "defined \u001b[32mclass\u001b[39m \u001b[36mPoint\u001b[39m\n",
       "defined \u001b[32mobject\u001b[39m \u001b[36mPoint\u001b[39m\n",
       "\u001b[36mc\u001b[39m: \u001b[32mwrapper\u001b[39m.\u001b[32mwrapper\u001b[39m.\u001b[32mPoint\u001b[39m = $sess.cmd5Wrapper$Helper$Point@7724c998"
      ]
     },
     "execution_count": 6,
     "metadata": {},
     "output_type": "execute_result"
    }
   ],
   "source": [
    "class Point(val x: Int, val y: Int) {}\n",
    "\n",
    "object Point {\n",
    "    def apply(x: Int, y:Int) = {\n",
    "        new Point(x, y)\n",
    "    }\n",
    "}\n",
    "\n",
    "val c = Point(3, 4)\n",
    "println(c.x + \" \" + c.y)"
   ]
  },
  {
   "cell_type": "markdown",
   "metadata": {
    "collapsed": true
   },
   "source": [
    "## 6.5\n",
    "编写一个Scala应用程序, 使用App特质, 以反序打印命令行参数, 用空格隔开, 举例来说, scala Reverse Hello World应该打印出World Hello"
   ]
  },
  {
   "cell_type": "code",
   "execution_count": 1,
   "metadata": {},
   "outputs": [
    {
     "data": {
      "text/plain": [
       "defined \u001b[32mobject\u001b[39m \u001b[36mReverse\u001b[39m"
      ]
     },
     "execution_count": 1,
     "metadata": {},
     "output_type": "execute_result"
    }
   ],
   "source": [
    "object Reverse extends App {\n",
    "    println(args.reverse.mkString(\" \"))\n",
    "}"
   ]
  },
  {
   "cell_type": "markdown",
   "metadata": {},
   "source": [
    "## 6.6\n",
    "编写一个扑克牌4种花色的枚举, 使其toString方法分别返回 ♣ ♠ ♥ ♦"
   ]
  },
  {
   "cell_type": "code",
   "execution_count": 2,
   "metadata": {},
   "outputs": [
    {
     "name": "stdout",
     "output_type": "stream",
     "text": [
      "♠\n"
     ]
    },
    {
     "data": {
      "text/plain": [
       "defined \u001b[32mobject\u001b[39m \u001b[36mPoker\u001b[39m"
      ]
     },
     "execution_count": 2,
     "metadata": {},
     "output_type": "execute_result"
    }
   ],
   "source": [
    "object Poker extends Enumeration {\n",
    "    val Spade: Value = Value(\"♠\")\n",
    "    val Heart: Value = Value(\"♥\")\n",
    "    val Club: Value = Value(\"♣\")\n",
    "    val Diamond: Value = Value(\"♦\")\n",
    "}\n",
    "\n",
    "println(Poker.Spade)"
   ]
  },
  {
   "cell_type": "markdown",
   "metadata": {},
   "source": [
    "## 6.7\n",
    "实现一个函数, 检查某张牌的花色是否为红色"
   ]
  },
  {
   "cell_type": "code",
   "execution_count": 6,
   "metadata": {},
   "outputs": [
    {
     "data": {
      "text/plain": [
       "defined \u001b[32mfunction\u001b[39m \u001b[36misHeart\u001b[39m\n",
       "\u001b[36mres5_1\u001b[39m: \u001b[32mBoolean\u001b[39m = \u001b[32mfalse\u001b[39m"
      ]
     },
     "execution_count": 6,
     "metadata": {},
     "output_type": "execute_result"
    }
   ],
   "source": [
    "def isHeart(c: Poker.Value) = {\n",
    "    if (c == Poker.Heart) true\n",
    "    else false\n",
    "}\n",
    "\n",
    "isHeart(Poker.Club)"
   ]
  },
  {
   "cell_type": "markdown",
   "metadata": {},
   "source": [
    "## 6.8\n",
    "编写一个枚举,描述RGB立方体的八个角, ID使用颜色值 (例如, 红色是0xff0000)"
   ]
  },
  {
   "cell_type": "code",
   "execution_count": 7,
   "metadata": {},
   "outputs": [
    {
     "data": {
      "text/plain": [
       "defined \u001b[32mclass\u001b[39m \u001b[36mRGB\u001b[39m"
      ]
     },
     "execution_count": 7,
     "metadata": {},
     "output_type": "execute_result"
    }
   ],
   "source": [
    "class RGB extends Enumeration {\n",
    "    val RED: Value = Value(0xff0000, \"Red\")\n",
    "    val BLACK: Value = Value(0x000000, \"Black\")\n",
    "    val GREEN: Value = Value(0x00ff00, \"Green\")\n",
    "    val CYAN: Value = Value(0x00ffff, \"Cyan\")\n",
    "    val YELLOW: Value = Value(0xffff00, \"Yellow\")\n",
    "    val WHITE: Value = Value(0xffffff, \"White\")\n",
    "    val BLUE: Value = Value(0x0000ff, \"Blue\")\n",
    "    val MAGENTA: Value = Value(0xff00ff, \"Magenta\")\n",
    "}"
   ]
  },
  {
   "cell_type": "code",
   "execution_count": null,
   "metadata": {
    "collapsed": true
   },
   "outputs": [],
   "source": []
  }
 ],
 "metadata": {
  "kernelspec": {
   "display_name": "Scala",
   "language": "scala",
   "name": "scala"
  },
  "language_info": {
   "codemirror_mode": "text/x-scala",
   "file_extension": ".scala",
   "mimetype": "text/x-scala",
   "name": "scala211",
   "nbconvert_exporter": "script",
   "pygments_lexer": "scala",
   "version": "2.11.11"
  }
 },
 "nbformat": 4,
 "nbformat_minor": 1
}
