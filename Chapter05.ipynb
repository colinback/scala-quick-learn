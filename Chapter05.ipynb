{
 "cells": [
  {
   "cell_type": "markdown",
   "metadata": {},
   "source": [
    "# Chapter 5"
   ]
  },
  {
   "cell_type": "markdown",
   "metadata": {},
   "source": [
    "## 5.1\n",
    "改进5.1节的Counter类, 让它不要在Int.MaxValue时变成负数"
   ]
  },
  {
   "cell_type": "code",
   "execution_count": 2,
   "metadata": {},
   "outputs": [
    {
     "name": "stdout",
     "output_type": "stream",
     "text": [
      "2147483647\n",
      "2147483647\n"
     ]
    },
    {
     "data": {
      "text/plain": [
       "defined \u001b[32mclass\u001b[39m \u001b[36mCounter\u001b[39m\n",
       "\u001b[36mc\u001b[39m: \u001b[32mwrapper\u001b[39m.\u001b[32mwrapper\u001b[39m.\u001b[32mCounter\u001b[39m = $sess.cmd1Wrapper$Helper$Counter@2021c61a"
      ]
     },
     "execution_count": 2,
     "metadata": {},
     "output_type": "execute_result"
    }
   ],
   "source": [
    "class Counter {\n",
    "    private var value = 0\n",
    "    def increment() { \n",
    "        if (value < Int.MaxValue)\n",
    "            value += 1\n",
    "    }\n",
    "    def current = value\n",
    "    def setMax() { value = Int.MaxValue }\n",
    "}\n",
    "\n",
    "val c = new Counter\n",
    "c.setMax()\n",
    "println(c.current)\n",
    "c.increment()\n",
    "println(c.current)"
   ]
  },
  {
   "cell_type": "markdown",
   "metadata": {},
   "source": [
    "## 5.2\n",
    "编写一个BankAccount类, 加入deposit和withdraw方法,和一个只读 的balance属性"
   ]
  },
  {
   "cell_type": "code",
   "execution_count": 3,
   "metadata": {},
   "outputs": [
    {
     "name": "stdout",
     "output_type": "stream",
     "text": [
      "201.0\n"
     ]
    },
    {
     "data": {
      "text/plain": [
       "defined \u001b[32mclass\u001b[39m \u001b[36mBankAccount\u001b[39m\n",
       "\u001b[36mb\u001b[39m: \u001b[32mBankAccount\u001b[39m = $sess.cmd2Wrapper$Helper$BankAccount@798b4a32"
      ]
     },
     "execution_count": 3,
     "metadata": {},
     "output_type": "execute_result"
    }
   ],
   "source": [
    "class BankAccount {\n",
    "    private var _balance = 0.0\n",
    "    def deposit(m: Double) {\n",
    "        _balance += m\n",
    "    }\n",
    "    def withdraw(m: Double) {\n",
    "        _balance -= m\n",
    "    }\n",
    "    def balance = _balance\n",
    "}\n",
    "\n",
    "val b = new BankAccount\n",
    "b deposit 233\n",
    "b withdraw 32\n",
    "println(b.balance)"
   ]
  },
  {
   "cell_type": "markdown",
   "metadata": {},
   "source": [
    "## 5.3\n",
    "编写一个Time类, 加入只读属性hours和minutes, 和一个检查某一时刻是否早于另一时刻的方法before(other: Time): Boolean。\n",
    "Time对象应该以new Time(hrs, min)方式构建, 其中hrs小时数以军用时间格式呈现（介于0和23之间）"
   ]
  },
  {
   "cell_type": "code",
   "execution_count": 4,
   "metadata": {},
   "outputs": [
    {
     "name": "stdout",
     "output_type": "stream",
     "text": [
      "true\n"
     ]
    },
    {
     "data": {
      "text/plain": [
       "defined \u001b[32mclass\u001b[39m \u001b[36mTime\u001b[39m"
      ]
     },
     "execution_count": 4,
     "metadata": {},
     "output_type": "execute_result"
    }
   ],
   "source": [
    "class Time (private val hours: Int, private val minutes: Int) {\n",
    "    def before(t: Time): Boolean = {\n",
    "        if (hours < t.hours) true\n",
    "        else if (hours > t.hours) false\n",
    "        else if (minutes < t.minutes) true\n",
    "        else false\n",
    "    }\n",
    "    \n",
    "    def <(t:Time): Boolean = before(t)\n",
    "}\n",
    "\n",
    "println(new Time(12, 10) < new Time(13, 5))"
   ]
  },
  {
   "cell_type": "markdown",
   "metadata": {
    "collapsed": true
   },
   "source": [
    "## 5.4\n",
    "重新实现前一个练习中的Time类, 将内部呈现改成自午夜起的分钟数(介于0到24*60-1之间),不要改变公有接口, 也就是说, 客户端代码不应因你的修改而收到影响"
   ]
  },
  {
   "cell_type": "code",
   "execution_count": 2,
   "metadata": {},
   "outputs": [
    {
     "name": "stdout",
     "output_type": "stream",
     "text": [
      "true\n"
     ]
    },
    {
     "data": {
      "text/plain": [
       "defined \u001b[32mclass\u001b[39m \u001b[36mTime\u001b[39m"
      ]
     },
     "execution_count": 2,
     "metadata": {},
     "output_type": "execute_result"
    }
   ],
   "source": [
    "class Time(hours: Int, min: Int) {\n",
    "    private val minutes = 60 * hours + min\n",
    "    \n",
    "    def before(t: Time): Boolean = {\n",
    "        if (minutes < t.minutes) true\n",
    "        else false\n",
    "    }\n",
    "    \n",
    "    def < (t:Time): Boolean = before(t)\n",
    "}\n",
    "\n",
    "println(new Time(12, 10) < new Time(13, 5))"
   ]
  },
  {
   "cell_type": "markdown",
   "metadata": {},
   "source": [
    "## 5.5\n",
    "创建一个Student类, 加入可读写的JavaBeans属性name(类型为String)和id(类型为Long),有哪些方法被生成?(用javap查看)\n",
    "你可以在Scala中调用JavaBeans版的getter和setter方法吗?应该这样做吗?"
   ]
  },
  {
   "cell_type": "code",
   "execution_count": 6,
   "metadata": {},
   "outputs": [
    {
     "name": "stdout",
     "output_type": "stream",
     "text": [
      "1: shizy\n"
     ]
    },
    {
     "data": {
      "text/plain": [
       "\u001b[32mimport \u001b[39m\u001b[36mscala.beans.BeanProperty\n",
       "\n",
       "\u001b[39m\n",
       "defined \u001b[32mclass\u001b[39m \u001b[36mStudent\u001b[39m\n",
       "\u001b[36ms\u001b[39m: \u001b[32mwrapper\u001b[39m.\u001b[32mwrapper\u001b[39m.\u001b[32mStudent\u001b[39m = $sess.cmd5Wrapper$Helper$Student@e0249b9"
      ]
     },
     "execution_count": 6,
     "metadata": {},
     "output_type": "execute_result"
    }
   ],
   "source": [
    "import scala.beans.BeanProperty\n",
    "\n",
    "class Student {\n",
    "    @BeanProperty var id = 0L\n",
    "    @BeanProperty var name = \"\"\n",
    "}\n",
    "\n",
    "var s = new Student\n",
    "s setId 1\n",
    "s setName \"shizy\"\n",
    "println(s.getId + \": \" + s.getName)"
   ]
  },
  {
   "cell_type": "markdown",
   "metadata": {},
   "source": [
    "** Compiled Java Code **\n",
    "```Java\n",
    "public class Student\n",
    "{\n",
    "    private long id;\n",
    "    private String name;\n",
    "\n",
    "    public long id() {\n",
    "        return this.id;\n",
    "    }\n",
    "\n",
    "    public void id_$eq(final long x$1) {\n",
    "        this.id = x$1;\n",
    "    }\n",
    "\n",
    "    public String name() {\n",
    "        return this.name;\n",
    "    }\n",
    "\n",
    "    public void name_$eq(final String x$1) {\n",
    "        this.name = x$1;\n",
    "    }\n",
    "\n",
    "    public long getId() {\n",
    "        return this.id();\n",
    "    }\n",
    "\n",
    "    public String getName() {\n",
    "        return this.name();\n",
    "    }\n",
    "\n",
    "    public void setId(final long x$1) {\n",
    "        this.id_$eq(x$1);\n",
    "    }\n",
    "\n",
    "    public void setName(final String x$1) {\n",
    "        this.name_$eq(x$1);\n",
    "    }\n",
    "\n",
    "    public Student1() {\n",
    "        this.id = 0L;\n",
    "        this.name = \"\";\n",
    "    }\n",
    "}\n",
    "```"
   ]
  },
  {
   "cell_type": "markdown",
   "metadata": {},
   "source": [
    "## 5.6\n",
    "在5.2的Person类中提供一个主构造器, 将负年龄转换为0"
   ]
  },
  {
   "cell_type": "code",
   "execution_count": 8,
   "metadata": {},
   "outputs": [
    {
     "data": {
      "text/plain": [
       "defined \u001b[32mclass\u001b[39m \u001b[36mPerson\u001b[39m"
      ]
     },
     "execution_count": 8,
     "metadata": {},
     "output_type": "execute_result"
    }
   ],
   "source": [
    "class Person(ag: Int) {\n",
    "    var age = if (ag > 0) ag else 0\n",
    "}"
   ]
  },
  {
   "cell_type": "markdown",
   "metadata": {},
   "source": [
    "## 5.7\n",
    "编写一个Person类, 其主构造器接受一个字符串, 该字符串包含名字，空格和姓,\n",
    "如new Person(\"Fred Smith\")。提供只读属性firstName和lastName。主构造器参数应该是var val 还是普通参数呢? 为什么?"
   ]
  },
  {
   "cell_type": "code",
   "execution_count": 11,
   "metadata": {},
   "outputs": [
    {
     "name": "stdout",
     "output_type": "stream",
     "text": [
      "Smith Fred\n"
     ]
    },
    {
     "data": {
      "text/plain": [
       "defined \u001b[32mclass\u001b[39m \u001b[36mPerson\u001b[39m\n",
       "\u001b[36mp\u001b[39m: \u001b[32mwrapper\u001b[39m.\u001b[32mwrapper\u001b[39m.\u001b[32mPerson\u001b[39m = $sess.cmd10Wrapper$Helper$Person@31636861"
      ]
     },
     "execution_count": 11,
     "metadata": {},
     "output_type": "execute_result"
    }
   ],
   "source": [
    "class Person(fullName: String) {\n",
    "    val firstName = fullName.split(\"\\\\s+\")(1)\n",
    "    val lastName = fullName.split(\"\\\\s+\")(0)\n",
    "}\n",
    "\n",
    "val p = new Person(\"Fred Smith\")\n",
    "println(p.firstName + \" \" + p.lastName)"
   ]
  },
  {
   "cell_type": "markdown",
   "metadata": {},
   "source": [
    "## 5.8\n",
    "创建一个Car类, 以只读属性对应制造商, 型号名称, 型号年份以及一个可读写的属性用于车牌, 提供四组构造器, 每一个构造器都要求制造商和型号名称为必填, 型号年份和车牌为可选,如果未填, 则型号年份设置为-1, 车牌设置为空字符串, 你会选择哪一个作为你的主构造器?为什么?\n"
   ]
  },
  {
   "cell_type": "code",
   "execution_count": 3,
   "metadata": {},
   "outputs": [
    {
     "name": "stdout",
     "output_type": "stream",
     "text": [
      "Benz S200 -1 CA1001\n"
     ]
    },
    {
     "data": {
      "text/plain": [
       "defined \u001b[32mclass\u001b[39m \u001b[36mCar\u001b[39m\n",
       "\u001b[36mcar\u001b[39m: \u001b[32mwrapper\u001b[39m.\u001b[32mwrapper\u001b[39m.\u001b[32mCar\u001b[39m = $sess.cmd2Wrapper$Helper$Car@6265693f"
      ]
     },
     "execution_count": 3,
     "metadata": {},
     "output_type": "execute_result"
    }
   ],
   "source": [
    "class Car (val producer: String, val modelName: String, val modelYear: Int= -1, var carCode: String = \"\") {\n",
    "}\n",
    "             \n",
    "val car = new Car(\"Benz\", \"S200\", carCode = \"CA1001\")\n",
    "println(\"%s %s %d %s\".format(car.producer, car.modelName, car.modelYear, car.carCode))\n"
   ]
  },
  {
   "cell_type": "markdown",
   "metadata": {},
   "source": [
    "## 5.9\n",
    "在Java  C#  C++ 中选择一个, 重写前一个练习, Scala相比之下精简多少?"
   ]
  },
  {
   "cell_type": "code",
   "execution_count": 2,
   "metadata": {},
   "outputs": [
    {
     "name": "stdout",
     "output_type": "stream",
     "text": [
      "Benz S200 -1 CA1001\n"
     ]
    },
    {
     "data": {
      "text/plain": [
       "defined \u001b[32mclass\u001b[39m \u001b[36mCar\u001b[39m\n",
       "\u001b[36mcar\u001b[39m: \u001b[32mwrapper\u001b[39m.\u001b[32mwrapper\u001b[39m.\u001b[32mCar\u001b[39m = $sess.cmd1Wrapper$Helper$Car@185c0ac4"
      ]
     },
     "execution_count": 2,
     "metadata": {},
     "output_type": "execute_result"
    }
   ],
   "source": [
    "class Car (val producer: String, val modelName: String, val modelYear: Int, var carCode: String) {\n",
    "    \n",
    "    def this(producer: String, modelName: String, modelYear: Int) {\n",
    "        this(producer, modelName, modelYear, \"\")\n",
    "    }\n",
    "    \n",
    "    def this(producer: String, modelName: String, carCode: String) {\n",
    "        this(producer, modelName, -1, carCode)\n",
    "    }\n",
    "    \n",
    "    def this(producer: String, modelName: String) {\n",
    "        this(producer, modelName, -1, \"\")\n",
    "    }\n",
    "}\n",
    "             \n",
    "val car = new Car(\"Benz\", \"S200\", \"CA1001\")\n",
    "println(\"%s %s %d %s\".format(car.producer, car.modelName, car.modelYear, car.carCode))"
   ]
  },
  {
   "cell_type": "markdown",
   "metadata": {},
   "source": [
    "## 5.10\n",
    "考虑如下类:\n",
    "```Java\n",
    "class Employee(val name:String, var salary: Double) {\n",
    "    def this() { this(\"John Q. Public\", 0.0) }\n",
    "}\n",
    "```\n",
    "重写该类, 使用显示的字段定义, 和一个缺省的主构造器, 你更倾向于使用哪一种形式? 为什么?"
   ]
  },
  {
   "cell_type": "code",
   "execution_count": 5,
   "metadata": {},
   "outputs": [
    {
     "name": "stdout",
     "output_type": "stream",
     "text": [
      "John Q. Publick 0.000000\n"
     ]
    },
    {
     "data": {
      "text/plain": [
       "defined \u001b[32mclass\u001b[39m \u001b[36mEmployee\u001b[39m\n",
       "\u001b[36me\u001b[39m: \u001b[32mwrapper\u001b[39m.\u001b[32mwrapper\u001b[39m.\u001b[32mEmployee\u001b[39m = $sess.cmd4Wrapper$Helper$Employee@53325ce2"
      ]
     },
     "execution_count": 5,
     "metadata": {},
     "output_type": "execute_result"
    }
   ],
   "source": [
    "class Employee(val name: String = \"John Q. Publick\", var salary: Double = 0.0) {\n",
    "}\n",
    "\n",
    "val e = new Employee()\n",
    "println(\"%s %f\".format(e.name, e.salary))"
   ]
  },
  {
   "cell_type": "code",
   "execution_count": null,
   "metadata": {
    "collapsed": true
   },
   "outputs": [],
   "source": []
  }
 ],
 "metadata": {
  "kernelspec": {
   "display_name": "Scala",
   "language": "scala",
   "name": "scala"
  },
  "language_info": {
   "codemirror_mode": "text/x-scala",
   "file_extension": ".scala",
   "mimetype": "text/x-scala",
   "name": "scala211",
   "nbconvert_exporter": "script",
   "pygments_lexer": "scala",
   "version": "2.11.11"
  }
 },
 "nbformat": 4,
 "nbformat_minor": 1
}
