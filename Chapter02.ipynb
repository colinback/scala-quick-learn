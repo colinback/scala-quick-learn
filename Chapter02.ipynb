{
 "cells": [
  {
   "cell_type": "markdown",
   "metadata": {},
   "source": [
    "# Chapter 2"
   ]
  },
  {
   "cell_type": "markdown",
   "metadata": {},
   "source": [
    "## 2.1\n",
    "一个数字如果为正数，则它的signum为1;如果是负数,则signum为-1;如果为0,则signum为0.编写一个函数来计算这个值"
   ]
  },
  {
   "cell_type": "code",
   "execution_count": 4,
   "metadata": {},
   "outputs": [
    {
     "name": "stdout",
     "output_type": "stream",
     "text": [
      "-1\n"
     ]
    },
    {
     "data": {
      "text/plain": [
       "defined \u001b[32mfunction\u001b[39m \u001b[36msignum\u001b[39m"
      ]
     },
     "execution_count": 4,
     "metadata": {},
     "output_type": "execute_result"
    }
   ],
   "source": [
    "def signum(x: Int) = {\n",
    "    if (x > 0) 1\n",
    "    else if (x < 0) -1\n",
    "    else 0\n",
    "}\n",
    "\n",
    "println(signum(-3))"
   ]
  },
  {
   "cell_type": "markdown",
   "metadata": {},
   "source": [
    "## 2. 2\n",
    "一个空的块表达式{}的值是什么？类型是什么?\n",
    "\n",
    "A: {}的值是()，类型是Unit"
   ]
  },
  {
   "cell_type": "code",
   "execution_count": 1,
   "metadata": {},
   "outputs": [
    {
     "name": "stdout",
     "output_type": "stream",
     "text": [
      "()\n",
      "void\n"
     ]
    }
   ],
   "source": [
    "val t = {}\n",
    "println(t)\n",
    "println(t.getClass)"
   ]
  },
  {
   "cell_type": "markdown",
   "metadata": {
    "collapsed": true
   },
   "source": [
    "## 2.3\n",
    "指出在Scala中何种情况下赋值语句x=y=1是合法的。(提示：给x找个合适的类型定义)"
   ]
  },
  {
   "cell_type": "code",
   "execution_count": 4,
   "metadata": {},
   "outputs": [
    {
     "name": "stdout",
     "output_type": "stream",
     "text": [
      "x's type is: void\n"
     ]
    },
    {
     "data": {
      "text/plain": [
       "\u001b[36my\u001b[39m: \u001b[32mInt\u001b[39m = \u001b[32m1\u001b[39m"
      ]
     },
     "execution_count": 4,
     "metadata": {},
     "output_type": "execute_result"
    }
   ],
   "source": [
    "var x: Unit = ()\n",
    "println(\"x's type is: \" + x.getClass)\n",
    "var y = 0\n",
    "x = y = 1"
   ]
  },
  {
   "cell_type": "markdown",
   "metadata": {},
   "source": [
    "## 2.4\n",
    "针对下列Java循环编写一个Scala版本: \n",
    "for(int i=10;i>=0;i–)System.out.println(i);"
   ]
  },
  {
   "cell_type": "code",
   "execution_count": 7,
   "metadata": {},
   "outputs": [
    {
     "name": "stdout",
     "output_type": "stream",
     "text": [
      "10\n",
      "9\n",
      "8\n",
      "7\n",
      "6\n",
      "5\n",
      "4\n",
      "3\n",
      "2\n",
      "1\n"
     ]
    }
   ],
   "source": [
    "for(i <- 1 to 10 reverse) println(i)"
   ]
  },
  {
   "cell_type": "markdown",
   "metadata": {},
   "source": [
    " ## 2.5 \n",
    "编写一个过程countdown(n:Int)，打印从n到0的数字"
   ]
  },
  {
   "cell_type": "code",
   "execution_count": 12,
   "metadata": {},
   "outputs": [
    {
     "name": "stdout",
     "output_type": "stream",
     "text": [
      "5\n",
      "4\n",
      "3\n",
      "2\n",
      "1\n",
      "0\n"
     ]
    },
    {
     "data": {
      "text/plain": [
       "defined \u001b[32mfunction\u001b[39m \u001b[36mcountdown\u001b[39m"
      ]
     },
     "execution_count": 12,
     "metadata": {},
     "output_type": "execute_result"
    }
   ],
   "source": [
    "def countdown(n: Int) {\n",
    "    n match {\n",
    "        case n if n >= 0 => {\n",
    "            0.to(n).reverse.foreach {\n",
    "                println(_)\n",
    "            }\n",
    "        }\n",
    "        case n if n < 0 => {\n",
    "            for(i <- n to 0) println(i)\n",
    "        }\n",
    "    }\n",
    "}\n",
    "\n",
    "countdown(5)\n",
    "// countdown(-3)"
   ]
  },
  {
   "cell_type": "markdown",
   "metadata": {},
   "source": [
    "## 2.6 \n",
    "编写一个for循环,计算字符串中所有字母的Unicode代码的乘积。\n",
    "举例来说，\"Hello\"中所有字符串的乘积为9415087488L"
   ]
  },
  {
   "cell_type": "code",
   "execution_count": 16,
   "metadata": {},
   "outputs": [
    {
     "data": {
      "text/plain": [
       "defined \u001b[32mfunction\u001b[39m \u001b[36mUnicodeProduct\u001b[39m\n",
       "\u001b[36mres15_1\u001b[39m: \u001b[32mLong\u001b[39m = \u001b[32m941094L\u001b[39m"
      ]
     },
     "execution_count": 16,
     "metadata": {},
     "output_type": "execute_result"
    }
   ],
   "source": [
    "def UnicodeProduct(str: String): Long = {\n",
    "    var result: Long = 1;\n",
    "    for(c <- str) result *= c.toLong\n",
    "    result\n",
    "}\n",
    "\n",
    "UnicodeProduct(\"abc\")\n",
    "//UnicodeProduct(\"\")"
   ]
  },
  {
   "cell_type": "markdown",
   "metadata": {},
   "source": [
    "## 2.7 \n",
    "同样是解决前一个练习的问题，但这次不使用循环。\n",
    "（提示：在Scaladoc中查看StringOps）"
   ]
  },
  {
   "cell_type": "code",
   "execution_count": 17,
   "metadata": {},
   "outputs": [
    {
     "data": {
      "text/plain": [
       "defined \u001b[32mfunction\u001b[39m \u001b[36mUnicodeProduct\u001b[39m\n",
       "\u001b[36mres16_1\u001b[39m: \u001b[32mLong\u001b[39m = \u001b[32m941094L\u001b[39m"
      ]
     },
     "execution_count": 17,
     "metadata": {},
     "output_type": "execute_result"
    }
   ],
   "source": [
    "def UnicodeProduct(str: String): Long = {\n",
    "    str.foldLeft(1.toLong)(_ * _)\n",
    "}\n",
    "\n",
    "UnicodeProduct(\"abc\")"
   ]
  },
  {
   "cell_type": "markdown",
   "metadata": {},
   "source": [
    "## 2.9 \n",
    "把前一个练习中的函数改成递归函数"
   ]
  },
  {
   "cell_type": "code",
   "execution_count": 18,
   "metadata": {},
   "outputs": [
    {
     "data": {
      "text/plain": [
       "defined \u001b[32mfunction\u001b[39m \u001b[36mUnicodeProduct\u001b[39m\n",
       "\u001b[36mres17_1\u001b[39m: \u001b[32mLong\u001b[39m = \u001b[32m941094L\u001b[39m"
      ]
     },
     "execution_count": 18,
     "metadata": {},
     "output_type": "execute_result"
    }
   ],
   "source": [
    "def UnicodeProduct(str: String): Long = {\n",
    "    if (str.length() == 1) str(0).toLong\n",
    "    else str(0).toLong * UnicodeProduct(str.tail)\n",
    "}\n",
    "\n",
    "UnicodeProduct(\"abc\")"
   ]
  },
  {
   "cell_type": "markdown",
   "metadata": {},
   "source": [
    "## 2.10 \n",
    "编写函数计算x^n,其中n是整数，使用如下的递归定义:\n",
    "* x^n = y^2 如果n是正偶数，这里的y=x^n/2\n",
    "* x^n = x*x^n-1 如果n是正奇数\n",
    "* x^0 = 1\n",
    "* x^n = 1/x^-n 如果n是负数"
   ]
  },
  {
   "cell_type": "code",
   "execution_count": 21,
   "metadata": {},
   "outputs": [
    {
     "data": {
      "text/plain": [
       "defined \u001b[32mfunction\u001b[39m \u001b[36mxn\u001b[39m\n",
       "\u001b[36mres20_1\u001b[39m: \u001b[32mBigInt\u001b[39m = 243"
      ]
     },
     "execution_count": 21,
     "metadata": {},
     "output_type": "execute_result"
    }
   ],
   "source": [
    "def xn(x: Int, n: Int): BigInt = {\n",
    "    n match {\n",
    "        case 0 => 1\n",
    "        case n if n < 0 => 1/xn(x, -n)\n",
    "        case n if n % 2 == 0 => xn(x, n/2) pow 2\n",
    "        case n if n % 2 == 1 => x * xn(x, n-1)\n",
    "    }\n",
    "}\n",
    "\n",
    "xn(3, 5)"
   ]
  },
  {
   "cell_type": "code",
   "execution_count": null,
   "metadata": {
    "collapsed": true
   },
   "outputs": [],
   "source": []
  }
 ],
 "metadata": {
  "kernelspec": {
   "display_name": "Scala",
   "language": "scala",
   "name": "scala"
  },
  "language_info": {
   "codemirror_mode": "text/x-scala",
   "file_extension": ".scala",
   "mimetype": "text/x-scala",
   "name": "scala211",
   "nbconvert_exporter": "script",
   "pygments_lexer": "scala",
   "version": "2.11.11"
  }
 },
 "nbformat": 4,
 "nbformat_minor": 1
}
