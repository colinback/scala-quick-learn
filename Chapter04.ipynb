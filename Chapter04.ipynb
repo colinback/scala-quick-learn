{
 "cells": [
  {
   "cell_type": "markdown",
   "metadata": {},
   "source": [
    "# Chapter 4"
   ]
  },
  {
   "cell_type": "markdown",
   "metadata": {},
   "source": [
    "## 4.1\n",
    "设置一个映射, 其中包含你想要的一些装备,以及它们的价格,然后构建另一个映射, 采用同一组键, 但在价格上打9折"
   ]
  },
  {
   "cell_type": "code",
   "execution_count": 1,
   "metadata": {},
   "outputs": [
    {
     "name": "stdout",
     "output_type": "stream",
     "text": [
      "Map(shoes -> 100, socks -> 20, shirt -> 200)\n",
      "Map(shoes -> 90.0, socks -> 18.0, shirt -> 180.0)\n"
     ]
    },
    {
     "data": {
      "text/plain": [
       "\u001b[36mprices\u001b[39m: \u001b[32mMap\u001b[39m[\u001b[32mString\u001b[39m, \u001b[32mInt\u001b[39m] = \u001b[33mMap\u001b[39m(\u001b[32m\"shoes\"\u001b[39m -> \u001b[32m100\u001b[39m, \u001b[32m\"socks\"\u001b[39m -> \u001b[32m20\u001b[39m, \u001b[32m\"shirt\"\u001b[39m -> \u001b[32m200\u001b[39m)\n",
       "\u001b[36mdiscountPrices\u001b[39m: \u001b[32mMap\u001b[39m[\u001b[32mString\u001b[39m, \u001b[32mDouble\u001b[39m] = \u001b[33mMap\u001b[39m(\u001b[32m\"shoes\"\u001b[39m -> \u001b[32m90.0\u001b[39m, \u001b[32m\"socks\"\u001b[39m -> \u001b[32m18.0\u001b[39m, \u001b[32m\"shirt\"\u001b[39m -> \u001b[32m180.0\u001b[39m)"
      ]
     },
     "execution_count": 1,
     "metadata": {},
     "output_type": "execute_result"
    }
   ],
   "source": [
    "val prices = Map(\"shoes\" -> 100, \"socks\" -> 20, \"shirt\" -> 200)\n",
    "val discountPrices = for ((key, value) <- prices) yield (key, value * 0.9)\n",
    "\n",
    "println(prices)\n",
    "println(discountPrices)"
   ]
  },
  {
   "cell_type": "markdown",
   "metadata": {},
   "source": [
    "## 4.2\n",
    "编写一段程序, 从文件中读取单词, 用一个可变映射来清点每一个单次出现的频率。读取这些单次的操作可以使用java.util.Scanner:\n",
    "```\n",
    "val in = new java.util.Scanner(new java.io.File(\"myfile.txt:)),\n",
    "while(in.hasNext()) 处理 in.next() \n",
    "```\n",
    "或者翻到第9章看看更Scala的做法。\n",
    "最后, 打印出所有单次和它们出现的次数"
   ]
  },
  {
   "cell_type": "code",
   "execution_count": 3,
   "metadata": {},
   "outputs": [
    {
     "data": {
      "text/plain": [
       "\u001b[32mimport \u001b[39m\u001b[36mscala.io.Source\n",
       "\n",
       "\u001b[39m\n",
       "defined \u001b[32mfunction\u001b[39m \u001b[36mwordCount\u001b[39m\n",
       "\u001b[36mres2_2\u001b[39m: \u001b[32mcollection\u001b[39m.\u001b[32mmutable\u001b[39m.\u001b[32mMap\u001b[39m[\u001b[32mString\u001b[39m, \u001b[32mInt\u001b[39m] = \u001b[33mMap\u001b[39m(\n",
       "  \u001b[32m\"is\"\u001b[39m -> \u001b[32m1\u001b[39m,\n",
       "  \u001b[32m\"This\"\u001b[39m -> \u001b[32m1\u001b[39m,\n",
       "  \u001b[32m\"of\"\u001b[39m -> \u001b[32m1\u001b[39m,\n",
       "  \u001b[32m\"scala\"\u001b[39m -> \u001b[32m2\u001b[39m,\n",
       "  \u001b[32m\"jupyter\"\u001b[39m -> \u001b[32m1\u001b[39m,\n",
       "  \u001b[32m\"environment\"\u001b[39m -> \u001b[32m1\u001b[39m,\n",
       "  \u001b[32m\"in\"\u001b[39m -> \u001b[32m1\u001b[39m,\n",
       "  \u001b[32m\"notebook\"\u001b[39m -> \u001b[32m1\u001b[39m,\n",
       "  \u001b[32m\"3\"\u001b[39m -> \u001b[32m1\u001b[39m,\n",
       "  \u001b[32m\"chapter\"\u001b[39m -> \u001b[32m1\u001b[39m,\n",
       "  \u001b[32m\"excersie\"\u001b[39m -> \u001b[32m1\u001b[39m\n",
       "\u001b[33m...\u001b[39m"
      ]
     },
     "execution_count": 3,
     "metadata": {},
     "output_type": "execute_result"
    }
   ],
   "source": [
    "import scala.io.Source\n",
    "\n",
    "def wordCount(filename: String) = {\n",
    "    import scala.collection.mutable.Map\n",
    "    \n",
    "    val wordMap = Map[String, Int]()\n",
    "    val source = Source.fromFile(filename, \"UTF-8\")\n",
    "    val tokens = source.mkString.split(\"\\\\s+\")\n",
    "    tokens.foreach { (w: String) => {\n",
    "            wordMap(w) = wordMap.getOrElse(w, 0) + 1\n",
    "        }\n",
    "    }\n",
    "    wordMap\n",
    "}\n",
    "\n",
    "wordCount(\"myfile.txt\")"
   ]
  },
  {
   "cell_type": "markdown",
   "metadata": {},
   "source": [
    "## 4.3 \n",
    "重复前一个联系,这次用不可变的映射"
   ]
  },
  {
   "cell_type": "code",
   "execution_count": 2,
   "metadata": {},
   "outputs": [
    {
     "data": {
      "text/plain": [
       "\u001b[32mimport \u001b[39m\u001b[36mscala.io.Source\n",
       "\n",
       "\u001b[39m\n",
       "defined \u001b[32mfunction\u001b[39m \u001b[36mwordCount\u001b[39m\n",
       "\u001b[36mres1_2\u001b[39m: \u001b[32mMap\u001b[39m[\u001b[32mString\u001b[39m, \u001b[32mInt\u001b[39m] = \u001b[33mMap\u001b[39m(\n",
       "  \u001b[32m\"in\"\u001b[39m -> \u001b[32m1\u001b[39m,\n",
       "  \u001b[32m\"is\"\u001b[39m -> \u001b[32m1\u001b[39m,\n",
       "  \u001b[32m\"This\"\u001b[39m -> \u001b[32m1\u001b[39m,\n",
       "  \u001b[32m\"notebook\"\u001b[39m -> \u001b[32m1\u001b[39m,\n",
       "  \u001b[32m\"chapter\"\u001b[39m -> \u001b[32m1\u001b[39m,\n",
       "  \u001b[32m\"jupyter\"\u001b[39m -> \u001b[32m1\u001b[39m,\n",
       "  \u001b[32m\"scala\"\u001b[39m -> \u001b[32m2\u001b[39m,\n",
       "  \u001b[32m\"environment\"\u001b[39m -> \u001b[32m1\u001b[39m,\n",
       "  \u001b[32m\"3\"\u001b[39m -> \u001b[32m1\u001b[39m,\n",
       "  \u001b[32m\"of\"\u001b[39m -> \u001b[32m1\u001b[39m,\n",
       "  \u001b[32m\"excersie\"\u001b[39m -> \u001b[32m1\u001b[39m\n",
       "\u001b[33m...\u001b[39m"
      ]
     },
     "execution_count": 2,
     "metadata": {},
     "output_type": "execute_result"
    }
   ],
   "source": [
    "import scala.io.Source\n",
    "\n",
    "def wordCount(filename: String) = {\n",
    "    \n",
    "    var wordMap = Map[String, Int]()\n",
    "    val source = Source.fromFile(filename, \"UTF-8\")\n",
    "    val tokens = source.mkString.split(\"\\\\s+\")\n",
    "    tokens.foreach { (w: String) => {\n",
    "            wordMap += (w -> (wordMap.getOrElse(w, 0) + 1))\n",
    "        }\n",
    "    }\n",
    "    wordMap\n",
    "}\n",
    "\n",
    "wordCount(\"myfile.txt\")"
   ]
  },
  {
   "cell_type": "code",
   "execution_count": 1,
   "metadata": {},
   "outputs": [
    {
     "data": {
      "text/plain": [
       "\u001b[32mimport \u001b[39m\u001b[36mjava.io.File\n",
       "\u001b[39m\n",
       "\u001b[32mimport \u001b[39m\u001b[36mjava.util.Scanner\n",
       "\u001b[39m\n",
       "\u001b[32mimport \u001b[39m\u001b[36mjava.util.StringTokenizer\n",
       "\n",
       "\u001b[39m\n",
       "defined \u001b[32mfunction\u001b[39m \u001b[36mquestion3\u001b[39m\n",
       "\u001b[36mres0_4\u001b[39m: \u001b[32mMap\u001b[39m[\u001b[32mString\u001b[39m, \u001b[32mInt\u001b[39m] = \u001b[33mMap\u001b[39m(\n",
       "  \u001b[32m\"in\"\u001b[39m -> \u001b[32m1\u001b[39m,\n",
       "  \u001b[32m\"is\"\u001b[39m -> \u001b[32m1\u001b[39m,\n",
       "  \u001b[32m\"This\"\u001b[39m -> \u001b[32m1\u001b[39m,\n",
       "  \u001b[32m\"notebook\"\u001b[39m -> \u001b[32m1\u001b[39m,\n",
       "  \u001b[32m\"chapter\"\u001b[39m -> \u001b[32m1\u001b[39m,\n",
       "  \u001b[32m\"jupyter\"\u001b[39m -> \u001b[32m1\u001b[39m,\n",
       "  \u001b[32m\"scala\"\u001b[39m -> \u001b[32m2\u001b[39m,\n",
       "  \u001b[32m\"environment\"\u001b[39m -> \u001b[32m1\u001b[39m,\n",
       "  \u001b[32m\"3\"\u001b[39m -> \u001b[32m1\u001b[39m,\n",
       "  \u001b[32m\"of\"\u001b[39m -> \u001b[32m1\u001b[39m,\n",
       "  \u001b[32m\"excersie\"\u001b[39m -> \u001b[32m1\u001b[39m\n",
       "\u001b[33m...\u001b[39m"
      ]
     },
     "execution_count": 1,
     "metadata": {},
     "output_type": "execute_result"
    }
   ],
   "source": [
    "import java.io.File\n",
    "import java.util.Scanner\n",
    "import java.util.StringTokenizer\n",
    "\n",
    "def question3(path: String): Map[String, Int] = {\n",
    "    var res = Map[String, Int]()\n",
    "    val in = new Scanner(new File(path))\n",
    "    while (in.hasNext()) {\n",
    "      val st = new StringTokenizer(in.next())\n",
    "      while (st.hasMoreTokens()) {\n",
    "        val key = st.nextToken()\n",
    "        res += (key -> (res.getOrElse(key, 0) + 1))\n",
    "      }\n",
    "    }\n",
    "    res\n",
    "  }\n",
    "question3(\"myfile.txt\")"
   ]
  },
  {
   "cell_type": "markdown",
   "metadata": {},
   "source": [
    "## 4.4\n",
    "重复前一个联系, 这次用已排序的映射,一遍单次可以按顺序打印出来"
   ]
  },
  {
   "cell_type": "code",
   "execution_count": 5,
   "metadata": {},
   "outputs": [
    {
     "data": {
      "text/plain": [
       "\u001b[32mimport \u001b[39m\u001b[36mscala.io.Source\n",
       "\n",
       "\u001b[39m\n",
       "defined \u001b[32mfunction\u001b[39m \u001b[36mwordCount\u001b[39m\n",
       "\u001b[36mres4_2\u001b[39m: \u001b[32mcollection\u001b[39m.\u001b[32mSortedMap\u001b[39m[\u001b[32mString\u001b[39m, \u001b[32mInt\u001b[39m] = \u001b[33mMap\u001b[39m(\n",
       "  \u001b[32m\"3\"\u001b[39m -> \u001b[32m1\u001b[39m,\n",
       "  \u001b[32m\"This\"\u001b[39m -> \u001b[32m1\u001b[39m,\n",
       "  \u001b[32m\"chapter\"\u001b[39m -> \u001b[32m1\u001b[39m,\n",
       "  \u001b[32m\"environment\"\u001b[39m -> \u001b[32m1\u001b[39m,\n",
       "  \u001b[32m\"excersie\"\u001b[39m -> \u001b[32m1\u001b[39m,\n",
       "  \u001b[32m\"in\"\u001b[39m -> \u001b[32m1\u001b[39m,\n",
       "  \u001b[32m\"is\"\u001b[39m -> \u001b[32m1\u001b[39m,\n",
       "  \u001b[32m\"jupyter\"\u001b[39m -> \u001b[32m1\u001b[39m,\n",
       "  \u001b[32m\"notebook\"\u001b[39m -> \u001b[32m1\u001b[39m,\n",
       "  \u001b[32m\"of\"\u001b[39m -> \u001b[32m1\u001b[39m,\n",
       "  \u001b[32m\"scala\"\u001b[39m -> \u001b[32m2\u001b[39m\n",
       "\u001b[33m...\u001b[39m"
      ]
     },
     "execution_count": 5,
     "metadata": {},
     "output_type": "execute_result"
    }
   ],
   "source": [
    "import scala.io.Source\n",
    "\n",
    "def wordCount(filename: String) = {\n",
    "    import scala.collection.SortedMap\n",
    "    \n",
    "    var wordMap = SortedMap[String, Int]()\n",
    "    val source = Source.fromFile(filename, \"UTF-8\")\n",
    "    val tokens = source.mkString.split(\"\\\\s+\")\n",
    "    tokens.foreach { (w: String) => {\n",
    "            wordMap += (w -> (wordMap.getOrElse(w, 0) + 1))\n",
    "        }\n",
    "    }\n",
    "    wordMap\n",
    "}\n",
    "\n",
    "wordCount(\"myfile.txt\")"
   ]
  },
  {
   "cell_type": "markdown",
   "metadata": {},
   "source": [
    "## 4.5\n",
    "重复前一个联系, 这次用java.util.TreeMap并使之适用于ScalaAPI"
   ]
  },
  {
   "cell_type": "code",
   "execution_count": 8,
   "metadata": {},
   "outputs": [
    {
     "data": {
      "text/plain": [
       "\u001b[32mimport \u001b[39m\u001b[36mscala.io.Source\n",
       "\u001b[39m\n",
       "\u001b[32mimport \u001b[39m\u001b[36mscala.collection.JavaConversions.mapAsScalaMap\n",
       "\n",
       "\u001b[39m\n",
       "defined \u001b[32mfunction\u001b[39m \u001b[36mwordCount\u001b[39m\n",
       "\u001b[36mres7_3\u001b[39m: \u001b[32mcollection\u001b[39m.\u001b[32mmutable\u001b[39m.\u001b[32mMap\u001b[39m[\u001b[32mString\u001b[39m, \u001b[32mInt\u001b[39m] = \u001b[33mMap\u001b[39m(\n",
       "  \u001b[32m\"3\"\u001b[39m -> \u001b[32m1\u001b[39m,\n",
       "  \u001b[32m\"This\"\u001b[39m -> \u001b[32m1\u001b[39m,\n",
       "  \u001b[32m\"chapter\"\u001b[39m -> \u001b[32m1\u001b[39m,\n",
       "  \u001b[32m\"environment\"\u001b[39m -> \u001b[32m1\u001b[39m,\n",
       "  \u001b[32m\"excersie\"\u001b[39m -> \u001b[32m1\u001b[39m,\n",
       "  \u001b[32m\"in\"\u001b[39m -> \u001b[32m1\u001b[39m,\n",
       "  \u001b[32m\"is\"\u001b[39m -> \u001b[32m1\u001b[39m,\n",
       "  \u001b[32m\"jupyter\"\u001b[39m -> \u001b[32m1\u001b[39m,\n",
       "  \u001b[32m\"notebook\"\u001b[39m -> \u001b[32m1\u001b[39m,\n",
       "  \u001b[32m\"of\"\u001b[39m -> \u001b[32m1\u001b[39m,\n",
       "  \u001b[32m\"scala\"\u001b[39m -> \u001b[32m2\u001b[39m\n",
       "\u001b[33m...\u001b[39m"
      ]
     },
     "execution_count": 8,
     "metadata": {},
     "output_type": "execute_result"
    }
   ],
   "source": [
    "import scala.io.Source\n",
    "import scala.collection.JavaConversions.mapAsScalaMap\n",
    "\n",
    "def wordCount(filename: String): scala.collection.mutable.Map[String, Int] = {\n",
    "    import java.util.TreeMap\n",
    "    \n",
    "    val wordMap = new TreeMap[String, Int]\n",
    "    val source = Source.fromFile(filename, \"UTF-8\")\n",
    "    val tokens = source.mkString.split(\"\\\\s+\")\n",
    "    tokens.foreach { (w: String) => {\n",
    "            wordMap(w) = wordMap.getOrElse(w, 0) + 1\n",
    "        }\n",
    "    }\n",
    "    wordMap\n",
    "}\n",
    "\n",
    "wordCount(\"myfile.txt\")"
   ]
  },
  {
   "cell_type": "markdown",
   "metadata": {},
   "source": [
    "## 4.6\n",
    "定义一个链式哈希映射, 将\"Monday\"映射到java.util.Calendar.MONDAY, 依此类推加入其他日期。 展示元素是以插入的顺序被访问的"
   ]
  },
  {
   "cell_type": "code",
   "execution_count": 23,
   "metadata": {},
   "outputs": [
    {
     "data": {
      "text/plain": [
       "defined \u001b[32mfunction\u001b[39m \u001b[36mcalendarMap\u001b[39m\n",
       "\u001b[36mres22_1\u001b[39m: \u001b[32mMap\u001b[39m[\u001b[32mString\u001b[39m, \u001b[32mInt\u001b[39m] = \u001b[33mMap\u001b[39m(\n",
       "  \u001b[32m\"DECEMBER\"\u001b[39m -> \u001b[32m11\u001b[39m,\n",
       "  \u001b[32m\"SHORT\"\u001b[39m -> \u001b[32m1\u001b[39m,\n",
       "  \u001b[32m\"SATURDAY\"\u001b[39m -> \u001b[32m7\u001b[39m,\n",
       "  \u001b[32m\"HOUR\"\u001b[39m -> \u001b[32m10\u001b[39m,\n",
       "  \u001b[32m\"DST_OFFSET\"\u001b[39m -> \u001b[32m16\u001b[39m,\n",
       "  \u001b[32m\"SHORT_STANDALONE\"\u001b[39m -> \u001b[32m32769\u001b[39m,\n",
       "  \u001b[32m\"NARROW_STANDALONE\"\u001b[39m -> \u001b[32m32772\u001b[39m,\n",
       "  \u001b[32m\"ALL_STYLES\"\u001b[39m -> \u001b[32m0\u001b[39m,\n",
       "  \u001b[32m\"MONDAY\"\u001b[39m -> \u001b[32m2\u001b[39m,\n",
       "  \u001b[32m\"ERA\"\u001b[39m -> \u001b[32m0\u001b[39m,\n",
       "  \u001b[32m\"APRIL\"\u001b[39m -> \u001b[32m3\u001b[39m,\n",
       "\u001b[33m...\u001b[39m"
      ]
     },
     "execution_count": 23,
     "metadata": {},
     "output_type": "execute_result"
    }
   ],
   "source": [
    "def calendarMap: Map[String, Int] = {\n",
    "    var map = Map[String, Int]()\n",
    "    val list = classOf[java.util.Calendar].getFields\n",
    "    list foreach { x => map += (x.getName -> x.getInt(null)) }\n",
    "    map\n",
    "  }\n",
    "\n",
    "calendarMap"
   ]
  },
  {
   "cell_type": "markdown",
   "metadata": {},
   "source": [
    "## 4.7\n",
    "打印出所有Java系统属性的表格, 类似这样:\n",
    "```\n",
    "java.vm.info                  | mixed mode\n",
    "java.version                  | 1.7.0_67\n",
    "sun.cpu.endian                | little\n",
    "sun.desktop                   | windows\n",
    "sun.cpu.isalist               | amd64\n",
    "```"
   ]
  },
  {
   "cell_type": "code",
   "execution_count": 4,
   "metadata": {},
   "outputs": [
    {
     "name": "stdout",
     "output_type": "stream",
     "text": [
      "java.vendor                   | Oracle Corporation\n",
      "sun.java.launcher             | SUN_STANDARD\n",
      "sun.management.compiler       | HotSpot 64-Bit Tiered Compilers\n",
      "coursier.main.arg-9           | -I\n",
      "coursier.main.arg-8           | ammonite:org.jupyter-scala:ammonite-runtime_2.11.11:0.8.3-1\n",
      "coursier.main.arg-7           | -I\n",
      "coursier.main.arg-6           | ammonite\n",
      "coursier.main.arg-5           | -i\n",
      "os.name                       | Mac OS X\n",
      "coursier.main.arg-4           | sonatype:snapshots\n",
      "coursier.main.arg-3           | -r\n",
      "sun.boot.class.path           | /Library/Java/JavaVirtualMachines/jdk1.8.0_102.jdk/Contents/Home/jre/lib/resources.jar:/Library/Java/JavaVirtualMachines/jdk1.8.0_102.jdk/Contents/Home/jre/lib/rt.jar:/Library/Java/JavaVirtualMachines/jdk1.8.0_102.jdk/Contents/Home/jre/lib/sunrsasign.jar:/Library/Java/JavaVirtualMachines/jdk1.8.0_102.jdk/Contents/Home/jre/lib/jsse.jar:/Library/Java/JavaVirtualMachines/jdk1.8.0_102.jdk/Contents/Home/jre/lib/jce.jar:/Library/Java/JavaVirtualMachines/jdk1.8.0_102.jdk/Contents/Home/jre/lib/charsets.jar:/Library/Java/JavaVirtualMachines/jdk1.8.0_102.jdk/Contents/Home/jre/lib/jfr.jar:/Library/Java/JavaVirtualMachines/jdk1.8.0_102.jdk/Contents/Home/jre/classes\n",
      "coursier.main.arg-2           | sonatype:releases\n",
      "coursier.main.arg-1           | -r\n",
      "coursier.mainJar              | /Users/shizy/Library/Jupyter/kernels/scala/launcher.jar\n",
      "coursier.main.arg-0           | launch\n",
      "java.vm.specification.vendor  | Oracle Corporation\n",
      "java.runtime.version          | 1.8.0_102-b14\n",
      "user.name                     | shizy\n",
      "user.language                 | zh\n",
      "sun.boot.library.path         | /Library/Java/JavaVirtualMachines/jdk1.8.0_102.jdk/Contents/Home/jre/lib\n",
      "java.version                  | 1.8.0_102\n",
      "user.timezone                 | Asia/Shanghai\n",
      "sun.arch.data.model           | 64\n",
      "java.endorsed.dirs            | /Library/Java/JavaVirtualMachines/jdk1.8.0_102.jdk/Contents/Home/jre/lib/endorsed\n",
      "bootstrap.jarDir              | /Users/shizy/.coursier/bootstrap/1.0.0-RC1\n",
      "sun.cpu.isalist               | \n",
      "sun.jnu.encoding              | UTF-8\n",
      "file.encoding.pkg             | sun.io\n",
      "file.separator                | /\n",
      "java.specification.name       | Java Platform API Specification\n",
      "java.class.version            | 52.0\n",
      "user.country                  | CN\n",
      "java.home                     | /Library/Java/JavaVirtualMachines/jdk1.8.0_102.jdk/Contents/Home/jre\n",
      "java.vm.info                  | mixed mode\n",
      "os.version                    | 10.12.4\n",
      "path.separator                | :\n",
      "java.vm.version               | 25.102-b14\n",
      "java.awt.printerjob           | sun.lwawt.macosx.CPrinterJob\n",
      "sun.io.unicode.encoding       | UnicodeBig\n",
      "awt.toolkit                   | sun.lwawt.macosx.LWCToolkit\n",
      "user.home                     | /Users/shizy\n",
      "java.specification.vendor     | Oracle Corporation\n",
      "java.library.path             | /Users/shizy/Library/Java/Extensions:/Library/Java/Extensions:/Network/Library/Java/Extensions:/System/Library/Java/Extensions:/usr/lib/java:.\n",
      "java.vendor.url               | http://java.oracle.com/\n",
      "java.vm.vendor                | Oracle Corporation\n",
      "gopherProxySet                | false\n",
      "coursier.main.arg-19          | /Users/shizy/Library/Jupyter/runtime/kernel-2272b46a-4e45-4ae2-93fc-eb71b1353f7c.json\n",
      "coursier.main.arg-18          | --connection-file\n",
      "coursier.main.arg-17          | --quiet\n",
      "java.runtime.name             | Java(TM) SE Runtime Environment\n",
      "coursier.main.arg-16          | Scala\n",
      "sun.java.command              | /Users/shizy/Library/Jupyter/kernels/scala/launcher.jar launch -r sonatype:releases -r sonatype:snapshots -i ammonite -I ammonite:org.jupyter-scala:ammonite-runtime_2.11.11:0.8.3-1 -I ammonite:org.jupyter-scala:scala-api_2.11.11:0.4.2 org.jupyter-scala:scala-cli_2.11.11:0.4.2 -- --id scala --name Scala --quiet --connection-file /Users/shizy/Library/Jupyter/runtime/kernel-2272b46a-4e45-4ae2-93fc-eb71b1353f7c.json\n",
      "java.class.path               | /Users/shizy/Library/Jupyter/kernels/scala/launcher.jar\n",
      "coursier.main.arg-15          | --name\n",
      "coursier.main.arg-14          | scala\n",
      "coursier.main.arg-13          | --id\n",
      "coursier.main.arg-12          | --\n",
      "coursier.main.arg-11          | org.jupyter-scala:scala-cli_2.11.11:0.4.2\n",
      "coursier.main.arg-10          | ammonite:org.jupyter-scala:scala-api_2.11.11:0.4.2\n",
      "java.vm.specification.name    | Java Virtual Machine Specification\n",
      "java.vm.specification.version | 1.8\n",
      "sun.cpu.endian                | little\n",
      "sun.os.patch.level            | unknown\n",
      "java.io.tmpdir                | /var/folders/_j/4dckz9950mgdh1z_kzcs5z880000gn/T/\n",
      "java.vendor.url.bug           | http://bugreport.sun.com/bugreport/\n",
      "os.arch                       | x86_64\n",
      "java.awt.graphicsenv          | sun.awt.CGraphicsEnvironment\n",
      "java.ext.dirs                 | /Users/shizy/Library/Java/Extensions:/Library/Java/JavaVirtualMachines/jdk1.8.0_102.jdk/Contents/Home/jre/lib/ext:/Library/Java/Extensions:/Network/Library/Java/Extensions:/System/Library/Java/Extensions:/usr/lib/java\n",
      "bootstrap.mainClass           | coursier.cli.Coursier\n",
      "user.dir                      | /Users/shizy/github/scala-quick-learn\n",
      "line.separator                | \n",
      "\n",
      "java.vm.name                  | Java HotSpot(TM) 64-Bit Server VM\n",
      "file.encoding                 | UTF-8\n",
      "java.specification.version    | 1.8\n"
     ]
    },
    {
     "data": {
      "text/plain": [
       "\u001b[32mimport \u001b[39m\u001b[36mscala.collection.JavaConversions.propertiesAsScalaMap\n",
       "\n",
       "\u001b[39m\n",
       "\u001b[36mprops\u001b[39m: \u001b[32mcollection\u001b[39m.\u001b[32mMap\u001b[39m[\u001b[32mString\u001b[39m, \u001b[32mString\u001b[39m] = \u001b[33mMap\u001b[39m(\n",
       "  \u001b[32m\"java.vendor\"\u001b[39m -> \u001b[32m\"Oracle Corporation\"\u001b[39m,\n",
       "  \u001b[32m\"sun.java.launcher\"\u001b[39m -> \u001b[32m\"SUN_STANDARD\"\u001b[39m,\n",
       "  \u001b[32m\"sun.management.compiler\"\u001b[39m -> \u001b[32m\"HotSpot 64-Bit Tiered Compilers\"\u001b[39m,\n",
       "  \u001b[32m\"coursier.main.arg-9\"\u001b[39m -> \u001b[32m\"-I\"\u001b[39m,\n",
       "  \u001b[32m\"coursier.main.arg-8\"\u001b[39m -> \u001b[32m\"ammonite:org.jupyter-scala:ammonite-runtime_2.11.11:0.8.3-1\"\u001b[39m,\n",
       "  \u001b[32m\"coursier.main.arg-7\"\u001b[39m -> \u001b[32m\"-I\"\u001b[39m,\n",
       "  \u001b[32m\"coursier.main.arg-6\"\u001b[39m -> \u001b[32m\"ammonite\"\u001b[39m,\n",
       "  \u001b[32m\"coursier.main.arg-5\"\u001b[39m -> \u001b[32m\"-i\"\u001b[39m,\n",
       "  \u001b[32m\"os.name\"\u001b[39m -> \u001b[32m\"Mac OS X\"\u001b[39m,\n",
       "  \u001b[32m\"coursier.main.arg-4\"\u001b[39m -> \u001b[32m\"sonatype:snapshots\"\u001b[39m,\n",
       "\u001b[33m...\u001b[39m\n",
       "\u001b[36mmaxLength\u001b[39m: \u001b[32mInt\u001b[39m = \u001b[32m29\u001b[39m"
      ]
     },
     "execution_count": 4,
     "metadata": {},
     "output_type": "execute_result"
    }
   ],
   "source": [
    "import scala.collection.JavaConversions.propertiesAsScalaMap\n",
    "\n",
    "val props: scala.collection.Map[String, String] = System.getProperties()\n",
    "val maxLength = props.map(f => f._1.length).max\n",
    "\n",
    "// for( (key, value) <- props) println(\"%s | %s\".format(key, value))\n",
    "props foreach { x => println(x._1 + \" \" * (maxLength - x._1.length + 1) + \"| \" + x._2) }"
   ]
  },
  {
   "cell_type": "markdown",
   "metadata": {
    "collapsed": true
   },
   "source": [
    "## 4.8\n",
    "编写一个函数minmax(values: Array[Int]), 返回数组中最小值和最大值的对偶"
   ]
  },
  {
   "cell_type": "code",
   "execution_count": 5,
   "metadata": {},
   "outputs": [
    {
     "data": {
      "text/plain": [
       "defined \u001b[32mfunction\u001b[39m \u001b[36mminmax\u001b[39m\n",
       "\u001b[36mres4_1\u001b[39m: (\u001b[32mInt\u001b[39m, \u001b[32mInt\u001b[39m) = (\u001b[32m-2\u001b[39m, \u001b[32m9\u001b[39m)"
      ]
     },
     "execution_count": 5,
     "metadata": {},
     "output_type": "execute_result"
    }
   ],
   "source": [
    "def minmax(values: Array[Int]) = {\n",
    "    (values.min, values.max)\n",
    "}\n",
    "\n",
    "minmax(Array(3, -2, 5, 6, 9))"
   ]
  },
  {
   "cell_type": "markdown",
   "metadata": {},
   "source": [
    "## 4.9\n",
    "编写一个函数lteqgt(values: Array[Int], v: Int), 返回数组中小于v 等于v 和 大于v的数量, 要求三个值一起返回"
   ]
  },
  {
   "cell_type": "code",
   "execution_count": 7,
   "metadata": {},
   "outputs": [
    {
     "data": {
      "text/plain": [
       "defined \u001b[32mfunction\u001b[39m \u001b[36mIteqgt\u001b[39m\n",
       "\u001b[36mres6_1\u001b[39m: (\u001b[32mInt\u001b[39m, \u001b[32mInt\u001b[39m, \u001b[32mInt\u001b[39m) = (\u001b[32m1\u001b[39m, \u001b[32m1\u001b[39m, \u001b[32m3\u001b[39m)"
      ]
     },
     "execution_count": 7,
     "metadata": {},
     "output_type": "execute_result"
    }
   ],
   "source": [
    "def Iteqgt(values: Array[Int], v: Int) = {\n",
    "   ( values count {_ > v} , if (values contains v) 1 else 0, values count {_ < v} )\n",
    "}\n",
    "\n",
    "Iteqgt(Array(3, -2, 5, 6, 9), 6)"
   ]
  },
  {
   "cell_type": "markdown",
   "metadata": {},
   "source": [
    "## 4.10\n",
    "当你将两个字符串拉链在一起, 比如\"Hello\" zip \"World\", 回事什么结果? 想出一个讲得通的用例"
   ]
  },
  {
   "cell_type": "code",
   "execution_count": 8,
   "metadata": {},
   "outputs": [
    {
     "data": {
      "text/plain": [
       "\u001b[36mres7\u001b[39m: \u001b[32mcollection\u001b[39m.\u001b[32mimmutable\u001b[39m.\u001b[32mIndexedSeq\u001b[39m[(\u001b[32mChar\u001b[39m, \u001b[32mChar\u001b[39m)] = \u001b[33mVector\u001b[39m((\u001b[32m'H'\u001b[39m, \u001b[32m'W'\u001b[39m), (\u001b[32m'e'\u001b[39m, \u001b[32m'o'\u001b[39m), (\u001b[32m'l'\u001b[39m, \u001b[32m'r'\u001b[39m), (\u001b[32m'l'\u001b[39m, \u001b[32m'l'\u001b[39m), (\u001b[32m'o'\u001b[39m, \u001b[32m'd'\u001b[39m))"
      ]
     },
     "execution_count": 8,
     "metadata": {},
     "output_type": "execute_result"
    }
   ],
   "source": [
    "\"Hello\" zip \"World\""
   ]
  },
  {
   "cell_type": "code",
   "execution_count": null,
   "metadata": {
    "collapsed": true
   },
   "outputs": [],
   "source": []
  }
 ],
 "metadata": {
  "kernelspec": {
   "display_name": "Scala",
   "language": "scala",
   "name": "scala"
  },
  "language_info": {
   "codemirror_mode": "text/x-scala",
   "file_extension": ".scala",
   "mimetype": "text/x-scala",
   "name": "scala211",
   "nbconvert_exporter": "script",
   "pygments_lexer": "scala",
   "version": "2.11.11"
  }
 },
 "nbformat": 4,
 "nbformat_minor": 1
}
