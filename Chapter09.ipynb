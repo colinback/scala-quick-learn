{
 "cells": [
  {
   "cell_type": "markdown",
   "metadata": {},
   "source": [
    "# Chapter 9"
   ]
  },
  {
   "cell_type": "markdown",
   "metadata": {},
   "source": [
    "## 9.1\n",
    "编写一小段Scala代码, 将某个文件中的行倒转顺序(将最后一行作为第一行,以此类推)"
   ]
  },
  {
   "cell_type": "code",
   "execution_count": 1,
   "metadata": {},
   "outputs": [
    {
     "name": "stdout",
     "output_type": "stream",
     "text": [
      "}\n",
      " \"nbformat_minor\": 1\n",
      " \"nbformat\": 4,\n",
      " },\n",
      "  }\n",
      "   \"version\": \"2.11.11\"\n",
      "   \"pygments_lexer\": \"scala\",\n",
      "   \"nbconvert_exporter\": \"script\",\n",
      "   \"name\": \"scala211\",\n",
      "   \"mimetype\": \"text/x-scala\",\n",
      "   \"file_extension\": \".scala\",\n",
      "   \"codemirror_mode\": \"text/x-scala\",\n",
      "  \"language_info\": {\n",
      "  },\n",
      "   \"name\": \"scala\"\n",
      "   \"language\": \"scala\",\n",
      "   \"display_name\": \"Scala\",\n",
      "  \"kernelspec\": {\n",
      " \"metadata\": {\n",
      " ],\n",
      "  }\n",
      "   ]\n",
      "    \"}\"\n",
      "    \"    }\\n\",\n",
      "    \"        \\n\",\n",
      "    \"    lines.toArray.reverse foreach {\\n\",\n",
      "    \"    val lines = Source.fromFile(path, \\\"utf-8\\\").getLines()\\n\",\n",
      "    \"def reverseFile(path: String) {\\n\",\n",
      "    \"\\n\",\n",
      "    \"import java.io.PrintWriter\\n\",\n",
      "    \"import io.Source\\n\",\n",
      "   \"source\": [\n",
      "   \"outputs\": [],\n",
      "   },\n",
      "    \"collapsed\": true\n",
      "   \"metadata\": {\n",
      "   \"execution_count\": null,\n",
      "   \"cell_type\": \"code\",\n",
      "  {\n",
      "  },\n",
      "   ]\n",
      "    \"编写一小段Scala代码, 将某个文件中的行倒转顺序(将最后一行作为第一行,以此类推)\"\n",
      "    \"## 9.1\\n\",\n",
      "   \"source\": [\n",
      "   \"metadata\": {},\n",
      "   \"cell_type\": \"markdown\",\n",
      "  {\n",
      "  },\n",
      "   ]\n",
      "    \"# Chapter 9\"\n",
      "   \"source\": [\n",
      "   \"metadata\": {},\n",
      "   \"cell_type\": \"markdown\",\n",
      "  {\n",
      " \"cells\": [\n",
      "{\n"
     ]
    },
    {
     "data": {
      "text/plain": [
       "\u001b[32mimport \u001b[39m\u001b[36mio.Source\n",
       "\u001b[39m\n",
       "\u001b[32mimport \u001b[39m\u001b[36mjava.io.PrintWriter\n",
       "\n",
       "\u001b[39m\n",
       "defined \u001b[32mfunction\u001b[39m \u001b[36mprintReverseFile\u001b[39m"
      ]
     },
     "execution_count": 1,
     "metadata": {},
     "output_type": "execute_result"
    }
   ],
   "source": [
    "import io.Source\n",
    "import java.io.PrintWriter\n",
    "\n",
    "def printReverseFile(path: String) {    \n",
    "    val lines = Source.fromFile(path, \"utf-8\").getLines()\n",
    "    lines.toArray.reverse foreach {\n",
    "        println(_)\n",
    "    }\n",
    "}\n",
    "\n",
    "printReverseFile(\"Chapter9.ipynb\")"
   ]
  },
  {
   "cell_type": "markdown",
   "metadata": {
    "collapsed": true
   },
   "source": [
    "## 9.2\n",
    "编写Scala程序,从一个带有制表符的文件读取内容,将每个制表符替换成一组空格,使得制表符隔开的n列仍然保持纵向对齐,并将结果写入同一个文件"
   ]
  },
  {
   "cell_type": "code",
   "execution_count": null,
   "metadata": {
    "collapsed": true
   },
   "outputs": [],
   "source": []
  },
  {
   "cell_type": "markdown",
   "metadata": {},
   "source": [
    "## 9.3\n",
    "编写一小段Scala代码, 从一个文件读取内容并把所有字符数大于12的单词打印到控制台, 如果你能用单行代码完成会有额外奖励 "
   ]
  },
  {
   "cell_type": "code",
   "execution_count": null,
   "metadata": {
    "collapsed": true
   },
   "outputs": [],
   "source": []
  },
  {
   "cell_type": "markdown",
   "metadata": {},
   "source": [
    "## 9.4\n",
    "编写Scala程序, 从包含浮点数的文本文件读取内容, 打印出文件中所有浮点数之和、平均数、最大值、最小值"
   ]
  },
  {
   "cell_type": "code",
   "execution_count": null,
   "metadata": {
    "collapsed": true
   },
   "outputs": [],
   "source": []
  },
  {
   "cell_type": "markdown",
   "metadata": {},
   "source": [
    "## 9.5\n",
    "编写Scala程序,向文件中写入2的n次方及其倒数,指数n从0到20,对齐各列:\n",
    "```\n",
    "1    1\n",
    "2    0.5\n",
    "4    0.25\n",
    "```"
   ]
  },
  {
   "cell_type": "code",
   "execution_count": null,
   "metadata": {
    "collapsed": true
   },
   "outputs": [],
   "source": []
  },
  {
   "cell_type": "markdown",
   "metadata": {},
   "source": [
    "## 9.6\n",
    "编写正则表达式, 匹配Java或C++程序代码中类似\"like this, maybe with \\\" or \\\\\"这样的带引号的字符串, 编写Scala程序将某个源文件中所有类似的字符串打印出来"
   ]
  },
  {
   "cell_type": "code",
   "execution_count": 1,
   "metadata": {},
   "outputs": [
    {
     "name": "stdout",
     "output_type": "stream",
     "text": [
      "with \"\n"
     ]
    },
    {
     "data": {
      "text/plain": [
       "\u001b[36mtext\u001b[39m: \u001b[32mString\u001b[39m = \u001b[32m\"\"\"\n",
       "like this, maybe with \" or\n",
       "\"\"\"\u001b[39m\n",
       "\u001b[36mpattern\u001b[39m: \u001b[32mutil\u001b[39m.\u001b[32mmatching\u001b[39m.\u001b[32mRegex\u001b[39m = \\w+\\s+\""
      ]
     },
     "execution_count": 1,
     "metadata": {},
     "output_type": "execute_result"
    }
   ],
   "source": [
    "val text = \"like this, maybe with \\\" or\"\n",
    "val pattern = \"\\\\w+\\\\s+\\\"\".r\n",
    "\n",
    "pattern.findAllIn(text).foreach(println)"
   ]
  },
  {
   "cell_type": "markdown",
   "metadata": {},
   "source": [
    "## 9.7\n",
    "编写Scala程序,从文本文件读取内容,并打印出所有非浮点数的词法单元, 要求使用正则表达式"
   ]
  },
  {
   "cell_type": "code",
   "execution_count": null,
   "metadata": {
    "collapsed": true
   },
   "outputs": [],
   "source": []
  },
  {
   "cell_type": "markdown",
   "metadata": {},
   "source": [
    "## 9.8\n",
    "编写Scala程序, 打印出某个网页中所有img标签的src属性, 使用正则表达式和分组"
   ]
  },
  {
   "cell_type": "code",
   "execution_count": null,
   "metadata": {
    "collapsed": true
   },
   "outputs": [],
   "source": []
  },
  {
   "cell_type": "markdown",
   "metadata": {},
   "source": [
    "## 9.9\n",
    "盘点给定目录及其子目录中总共有多少以class为扩展名的文件"
   ]
  },
  {
   "cell_type": "code",
   "execution_count": null,
   "metadata": {
    "collapsed": true
   },
   "outputs": [],
   "source": []
  },
  {
   "cell_type": "markdown",
   "metadata": {},
   "source": [
    "## 9.10\n",
    "扩展哪个可序列化的Person类, 让它能以一个集合保存某个人的朋友信息, 构造出一些Person对象, 让他们中的一些人成为朋友, 然后将Array[Person]保存到文件, 将这个数组从文件中重新读出来, 校验朋友关系是否完好"
   ]
  },
  {
   "cell_type": "code",
   "execution_count": null,
   "metadata": {
    "collapsed": true
   },
   "outputs": [],
   "source": []
  }
 ],
 "metadata": {
  "kernelspec": {
   "display_name": "Scala",
   "language": "scala",
   "name": "scala"
  },
  "language_info": {
   "codemirror_mode": "text/x-scala",
   "file_extension": ".scala",
   "mimetype": "text/x-scala",
   "name": "scala211",
   "nbconvert_exporter": "script",
   "pygments_lexer": "scala",
   "version": "2.11.11"
  }
 },
 "nbformat": 4,
 "nbformat_minor": 1
}
