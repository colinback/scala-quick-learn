{
 "cells": [
  {
   "cell_type": "markdown",
   "metadata": {},
   "source": [
    "# Chapter 12"
   ]
  },
  {
   "cell_type": "markdown",
   "metadata": {},
   "source": [
    "## 12.1\n",
    "编写函数values(fun:(Int)=>Int,low:Int,high:Int), 该函数输出一个集合，对应给定区间内给定函数的输入 和输出。比如，values(x=>x*x,-5,5)应该产出一个对偶的集合(-5,25),(-4,16),(-3,9),…,(5,25) "
   ]
  },
  {
   "cell_type": "code",
   "execution_count": 1,
   "metadata": {},
   "outputs": [
    {
     "data": {
      "text/plain": [
       "defined \u001b[32mfunction\u001b[39m \u001b[36mvalues\u001b[39m\n",
       "\u001b[36mres0_1\u001b[39m: \u001b[32mcollection\u001b[39m.\u001b[32mimmutable\u001b[39m.\u001b[32mIndexedSeq\u001b[39m[(\u001b[32mInt\u001b[39m, \u001b[32mInt\u001b[39m)] = \u001b[33mVector\u001b[39m(\n",
       "  (\u001b[32m-5\u001b[39m, \u001b[32m25\u001b[39m),\n",
       "  (\u001b[32m-4\u001b[39m, \u001b[32m16\u001b[39m),\n",
       "  (\u001b[32m-3\u001b[39m, \u001b[32m9\u001b[39m),\n",
       "  (\u001b[32m-2\u001b[39m, \u001b[32m4\u001b[39m),\n",
       "  (\u001b[32m-1\u001b[39m, \u001b[32m1\u001b[39m),\n",
       "  (\u001b[32m0\u001b[39m, \u001b[32m0\u001b[39m),\n",
       "  (\u001b[32m1\u001b[39m, \u001b[32m1\u001b[39m),\n",
       "  (\u001b[32m2\u001b[39m, \u001b[32m4\u001b[39m),\n",
       "  (\u001b[32m3\u001b[39m, \u001b[32m9\u001b[39m),\n",
       "  (\u001b[32m4\u001b[39m, \u001b[32m16\u001b[39m),\n",
       "  (\u001b[32m5\u001b[39m, \u001b[32m25\u001b[39m)\n",
       "\u001b[33m...\u001b[39m"
      ]
     },
     "execution_count": 1,
     "metadata": {},
     "output_type": "execute_result"
    }
   ],
   "source": [
    "def values(fun: (Int) => Int, low: Int, high: Int) = {\n",
    "    for (i <- low to high) yield(i, fun(i))\n",
    "}\n",
    "\n",
    "values(x=>x*x, -5, 5)"
   ]
  },
  {
   "cell_type": "markdown",
   "metadata": {},
   "source": [
    "## 12.2\n",
    "如何用reduceLeft得到数组中的最大元素?"
   ]
  },
  {
   "cell_type": "code",
   "execution_count": 2,
   "metadata": {},
   "outputs": [
    {
     "data": {
      "text/plain": [
       "defined \u001b[32mfunction\u001b[39m \u001b[36mmaxValue\u001b[39m\n",
       "\u001b[36mres1_1\u001b[39m: \u001b[32mInt\u001b[39m = \u001b[32m6\u001b[39m"
      ]
     },
     "execution_count": 2,
     "metadata": {},
     "output_type": "execute_result"
    }
   ],
   "source": [
    "def maxValue(arr: Array[Int]):Int = {\n",
    "    arr.reduceLeft((x, y) => if (x > y) x else y)\n",
    "}\n",
    "\n",
    "maxValue(Array(4, 2, 6, 3))"
   ]
  },
  {
   "cell_type": "markdown",
   "metadata": {},
   "source": [
    "## 12.3\n",
    "使用to和reduceLeft实现阶乘，不得使用循环和递归"
   ]
  },
  {
   "cell_type": "code",
   "execution_count": 11,
   "metadata": {},
   "outputs": [
    {
     "data": {
      "text/plain": [
       "defined \u001b[32mfunction\u001b[39m \u001b[36mfactorial\u001b[39m\n",
       "\u001b[36mres10_1\u001b[39m: \u001b[32mInt\u001b[39m = \u001b[32m24\u001b[39m"
      ]
     },
     "execution_count": 11,
     "metadata": {},
     "output_type": "execute_result"
    }
   ],
   "source": [
    "def factorial(n: Int): Int = {\n",
    "    require(n > 0)\n",
    "    (1 to n).reduceLeft(_ * _)\n",
    "}\n",
    "\n",
    "factorial(4)"
   ]
  },
  {
   "cell_type": "markdown",
   "metadata": {},
   "source": [
    "## 12.4\n",
    "前一个实现需要处理一个特殊情况，即n<1的情况。展示如何用foldLeft来避免这个需要。"
   ]
  },
  {
   "cell_type": "code",
   "execution_count": 9,
   "metadata": {},
   "outputs": [
    {
     "data": {
      "text/plain": [
       "defined \u001b[32mfunction\u001b[39m \u001b[36mfactorial\u001b[39m\n",
       "\u001b[36mres8_1\u001b[39m: \u001b[32mInt\u001b[39m = \u001b[32m1\u001b[39m"
      ]
     },
     "execution_count": 9,
     "metadata": {},
     "output_type": "execute_result"
    }
   ],
   "source": [
    "def factorial(n: Int): Int = {\n",
    "    (1 to n).foldLeft(1)(_ * _)\n",
    "}\n",
    "\n",
    "factorial(-4)"
   ]
  },
  {
   "cell_type": "markdown",
   "metadata": {},
   "source": [
    "## 12.5\n",
    "编写函数largest(fun:(Int)=>Int,inputs:Seq[Int]), 输出在给定输入序列中给定函数的最大值。举例来说，\n",
    "`largest(x=>10*x-x*x,1 to 10)`应该返回25,不得使用循环或递归"
   ]
  },
  {
   "cell_type": "code",
   "execution_count": 18,
   "metadata": {},
   "outputs": [
    {
     "data": {
      "text/plain": [
       "defined \u001b[32mfunction\u001b[39m \u001b[36mlargest\u001b[39m\n",
       "\u001b[36mres17_1\u001b[39m: \u001b[32mInt\u001b[39m = \u001b[32m25\u001b[39m"
      ]
     },
     "execution_count": 18,
     "metadata": {},
     "output_type": "execute_result"
    }
   ],
   "source": [
    "def largest(fun: (Int)=>Int, inputs: Seq[Int]) = {\n",
    "    //inputs.map(fun(_)).max\n",
    "    (for(x <- inputs) yield fun(x)).max\n",
    "}\n",
    "\n",
    "largest(x =>10*x-x*x, 1 to 10)"
   ]
  },
  {
   "cell_type": "markdown",
   "metadata": {},
   "source": [
    "## 12.6\n",
    "修改前一个函数，返回最大的输出对应的输入。举例来说, `largestAt(fun:(Int)=>Int,inputs:Seq[Int])`应该返回5。不得使用循环或递归"
   ]
  },
  {
   "cell_type": "code",
   "execution_count": 19,
   "metadata": {},
   "outputs": [
    {
     "data": {
      "text/plain": [
       "defined \u001b[32mfunction\u001b[39m \u001b[36minputForLargest\u001b[39m\n",
       "\u001b[36mres18_1\u001b[39m: \u001b[32mInt\u001b[39m = \u001b[32m5\u001b[39m"
      ]
     },
     "execution_count": 19,
     "metadata": {},
     "output_type": "execute_result"
    }
   ],
   "source": [
    "def inputForLargest(fun: (Int)=>Int, inputs: Seq[Int]) = {\n",
    "    inputs.reduceLeft((x, y) => if (fun(x) > fun(y)) x else y)\n",
    "}\n",
    "\n",
    "inputForLargest(x =>10*x-x*x, 1 to 10)"
   ]
  },
  {
   "cell_type": "markdown",
   "metadata": {},
   "source": [
    "## 12.7\n",
    "要得到一个序列的对偶很容易，比如: \n",
    "```\n",
    "val pairs = (1 to 10) zip (11 to 20)\n",
    "```\n",
    "假定你想要对这个序列做某中操作—比如，给对偶中的值求和，但是你不能直接使用:\n",
    "```\n",
    "pairs.map(_ + _)\n",
    "```\n",
    "函数_ + _ 接受两个Int作为参数，而不是(Int,Int)对偶。编写函数adjustToPair,该函数接受一个类型为(Int,Int)=>Int的 函数作为参数，\n",
    "并返回一个等效的, 可以以对偶作为参数的函数。举例来说就是: `adjustToPair(_ * _)((6,7))`应得到42。然后用这个函数通过map计算出各个对偶的元素之和"
   ]
  },
  {
   "cell_type": "code",
   "execution_count": 25,
   "metadata": {},
   "outputs": [
    {
     "data": {
      "text/plain": [
       "defined \u001b[32mfunction\u001b[39m \u001b[36madjustToPair\u001b[39m\n",
       "\u001b[36mpairs\u001b[39m: \u001b[32mcollection\u001b[39m.\u001b[32mimmutable\u001b[39m.\u001b[32mIndexedSeq\u001b[39m[(\u001b[32mInt\u001b[39m, \u001b[32mInt\u001b[39m)] = \u001b[33mVector\u001b[39m(\n",
       "  (\u001b[32m1\u001b[39m, \u001b[32m11\u001b[39m),\n",
       "  (\u001b[32m2\u001b[39m, \u001b[32m12\u001b[39m),\n",
       "  (\u001b[32m3\u001b[39m, \u001b[32m13\u001b[39m),\n",
       "  (\u001b[32m4\u001b[39m, \u001b[32m14\u001b[39m),\n",
       "  (\u001b[32m5\u001b[39m, \u001b[32m15\u001b[39m),\n",
       "  (\u001b[32m6\u001b[39m, \u001b[32m16\u001b[39m),\n",
       "  (\u001b[32m7\u001b[39m, \u001b[32m17\u001b[39m),\n",
       "  (\u001b[32m8\u001b[39m, \u001b[32m18\u001b[39m),\n",
       "  (\u001b[32m9\u001b[39m, \u001b[32m19\u001b[39m),\n",
       "  (\u001b[32m10\u001b[39m, \u001b[32m20\u001b[39m)\n",
       ")\n",
       "\u001b[36mres24_2\u001b[39m: \u001b[32mcollection\u001b[39m.\u001b[32mimmutable\u001b[39m.\u001b[32mIndexedSeq\u001b[39m[\u001b[32mInt\u001b[39m] = \u001b[33mVector\u001b[39m(\u001b[32m12\u001b[39m, \u001b[32m14\u001b[39m, \u001b[32m16\u001b[39m, \u001b[32m18\u001b[39m, \u001b[32m20\u001b[39m, \u001b[32m22\u001b[39m, \u001b[32m24\u001b[39m, \u001b[32m26\u001b[39m, \u001b[32m28\u001b[39m, \u001b[32m30\u001b[39m)"
      ]
     },
     "execution_count": 25,
     "metadata": {},
     "output_type": "execute_result"
    }
   ],
   "source": [
    "def adjustToPair(fun: (Int, Int) => Int) = {\n",
    "    (pair: Tuple2[Int, Int]) => fun(pair._1, pair._2)\n",
    "}\n",
    "\n",
    "val pairs = (1 to 10) zip (11 to 20)\n",
    "\n",
    "pairs.map(adjustToPair(_ + _)(_))"
   ]
  },
  {
   "cell_type": "markdown",
   "metadata": {},
   "source": [
    "## 12.8\n",
    "在12.8节中，你看到了用于两组字符串数组的corresponds方法。做出一个对该方法的调用，让它帮我们判断某个字符串数组里的所有元素的长度是否和某个给定的整数数组相对应"
   ]
  },
  {
   "cell_type": "code",
   "execution_count": 28,
   "metadata": {},
   "outputs": [
    {
     "data": {
      "text/plain": [
       "\u001b[36ma\u001b[39m: \u001b[32mArray\u001b[39m[\u001b[32mString\u001b[39m] = \u001b[33mArray\u001b[39m(\u001b[32m\"I\"\u001b[39m, \u001b[32m\"am\"\u001b[39m, \u001b[32m\"a\"\u001b[39m, \u001b[32m\"Chinese\"\u001b[39m)\n",
       "\u001b[36mb\u001b[39m: \u001b[32mArray\u001b[39m[\u001b[32mInt\u001b[39m] = \u001b[33mArray\u001b[39m(\u001b[32m1\u001b[39m, \u001b[32m2\u001b[39m, \u001b[32m1\u001b[39m, \u001b[32m7\u001b[39m)\n",
       "\u001b[36mres27_2\u001b[39m: \u001b[32mBoolean\u001b[39m = \u001b[32mtrue\u001b[39m"
      ]
     },
     "execution_count": 28,
     "metadata": {},
     "output_type": "execute_result"
    }
   ],
   "source": [
    "val a = Array(\"I\", \"am\", \"a\", \"Chinese\")\n",
    "val b = Array(1, 2, 1, 7)\n",
    "\n",
    "a.corresponds(b)(_.length == _)"
   ]
  },
  {
   "cell_type": "markdown",
   "metadata": {},
   "source": [
    "## 12.9\n",
    "不使用柯里化实现corresponds。然后尝试从前一个练习的代码来调用。你遇到了什么问题？"
   ]
  },
  {
   "cell_type": "code",
   "execution_count": 31,
   "metadata": {},
   "outputs": [
    {
     "data": {
      "text/plain": [
       "defined \u001b[32mfunction\u001b[39m \u001b[36madjustToPair\u001b[39m\n",
       "\u001b[36ma\u001b[39m: \u001b[32mArray\u001b[39m[\u001b[32mString\u001b[39m] = \u001b[33mArray\u001b[39m(\u001b[32m\"I\"\u001b[39m, \u001b[32m\"am\"\u001b[39m, \u001b[32m\"a\"\u001b[39m, \u001b[32m\"Chinese\"\u001b[39m)\n",
       "\u001b[36mb\u001b[39m: \u001b[32mArray\u001b[39m[\u001b[32mInt\u001b[39m] = \u001b[33mArray\u001b[39m(\u001b[32m1\u001b[39m, \u001b[32m2\u001b[39m, \u001b[32m1\u001b[39m, \u001b[32m6\u001b[39m)\n",
       "\u001b[36mres30_3\u001b[39m: \u001b[32mBoolean\u001b[39m = \u001b[32mfalse\u001b[39m"
      ]
     },
     "execution_count": 31,
     "metadata": {},
     "output_type": "execute_result"
    }
   ],
   "source": [
    "def adjustToPair(fun: (String, Int) => Boolean) = {\n",
    "    (pair: Tuple2[String, Int]) => fun(pair._1, pair._2)\n",
    "}\n",
    "\n",
    "val a = Array(\"I\", \"am\", \"a\", \"Chinese\")\n",
    "val b = Array(1, 2, 1, 6)\n",
    "\n",
    "(a zip b).map(adjustToPair(_.length == _)(_)) reduceLeft {_ && _}"
   ]
  },
  {
   "cell_type": "markdown",
   "metadata": {},
   "source": [
    "## 12.10\n",
    "实现一个unless控制抽象，工作机制类似if,但条件是反过来的。第一个参数需要是换名调用的参数吗？你需要柯里化吗？"
   ]
  },
  {
   "cell_type": "code",
   "execution_count": 32,
   "metadata": {},
   "outputs": [
    {
     "name": "stdout",
     "output_type": "stream",
     "text": [
      "1 != 0\n"
     ]
    },
    {
     "data": {
      "text/plain": [
       "defined \u001b[32mfunction\u001b[39m \u001b[36munless\u001b[39m"
      ]
     },
     "execution_count": 32,
     "metadata": {},
     "output_type": "execute_result"
    }
   ],
   "source": [
    "def unless(condition: => Boolean)(block: => Unit) {\n",
    "    if (!condition) {\n",
    "        block\n",
    "    }\n",
    "}\n",
    "\n",
    "unless (1 == 0) {\n",
    "    println(\"1 != 0\")\n",
    "}"
   ]
  },
  {
   "cell_type": "code",
   "execution_count": null,
   "metadata": {
    "collapsed": true
   },
   "outputs": [],
   "source": []
  }
 ],
 "metadata": {
  "kernelspec": {
   "display_name": "Scala",
   "language": "scala",
   "name": "scala"
  },
  "language_info": {
   "codemirror_mode": "text/x-scala",
   "file_extension": ".scala",
   "mimetype": "text/x-scala",
   "name": "scala211",
   "nbconvert_exporter": "script",
   "pygments_lexer": "scala",
   "version": "2.11.11"
  }
 },
 "nbformat": 4,
 "nbformat_minor": 1
}
