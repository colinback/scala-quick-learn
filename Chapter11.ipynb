{
 "cells": [
  {
   "cell_type": "markdown",
   "metadata": {},
   "source": [
    "# Chapter 11"
   ]
  },
  {
   "cell_type": "markdown",
   "metadata": {},
   "source": [
    "## 11.1\n",
    "根据优先级规则，3+4 -> 5 和3 -> 4+5是如何被求值的?"
   ]
  },
  {
   "cell_type": "code",
   "execution_count": 1,
   "metadata": {},
   "outputs": [
    {
     "data": {
      "text/plain": [
       "\u001b[36mres0\u001b[39m: (\u001b[32mInt\u001b[39m, \u001b[32mInt\u001b[39m) = (\u001b[32m7\u001b[39m, \u001b[32m5\u001b[39m)"
      ]
     },
     "execution_count": 1,
     "metadata": {},
     "output_type": "execute_result"
    }
   ],
   "source": [
    "3+4 -> 5"
   ]
  },
  {
   "cell_type": "code",
   "execution_count": 1,
   "metadata": {},
   "outputs": [
    {
     "name": "stderr",
     "output_type": "stream",
     "text": [
      "cmd1.sc:1: type mismatch;\n",
      " found   : Int(5)\n",
      " required: String\n",
      "val res1 = 3 -> 4+5\n",
      "                  ^"
     ]
    },
    {
     "ename": "",
     "evalue": "",
     "output_type": "error",
     "traceback": [
      "Compilation Failed"
     ]
    }
   ],
   "source": [
    "3 -> 4+5"
   ]
  },
  {
   "cell_type": "markdown",
   "metadata": {},
   "source": [
    "A: -> 和 + 优先级是一样的，所以从左到右运算"
   ]
  },
  {
   "cell_type": "markdown",
   "metadata": {},
   "source": [
    "## 11.2\n",
    "BitInt类有一个pow方法，但没有用操作符字符。Scala类库的设计者为什么没有选用**（像Fortran那样）或者^（像Pascal那样）作为乘方操作符呢？"
   ]
  },
  {
   "cell_type": "markdown",
   "metadata": {},
   "source": [
    "A: 因为优先级问题，在scala中*优先于^，但数学中乘方优先于乘法。所以没有提供^作为乘方的操作符。"
   ]
  },
  {
   "cell_type": "markdown",
   "metadata": {},
   "source": [
    "## 11.3\n",
    "实现Fraction类，支持 + - * / 操作。支持约分，例如将15/-6变成-5/2。除以最大公约数，像这样：\n",
    "```scala\n",
    "class Fraction(n: Int, d: Int) {\n",
    "  private val num: Int = if (d == 0) 1 else n * sign(d) /gcd(n, d);\n",
    "  private val den: Int = if (d == 0) 0 else d * sign(d) /gcd(n, d);\n",
    "  override def toString = num + \"/\" + den\n",
    "  def sign(a: Int) = if (a > 0) 1 else if (a < 0) -1 else 0\n",
    "  def gcd(a: Int, b: Int): Int = if (b == 0) abs(a) else gcd(b, a % b)\n",
    "  ...\n",
    "}\n",
    "```"
   ]
  },
  {
   "cell_type": "code",
   "execution_count": 2,
   "metadata": {},
   "outputs": [
    {
     "data": {
      "text/plain": [
       "\u001b[32mimport \u001b[39m\u001b[36mscala.math.abs\n",
       "\n",
       "\u001b[39m\n",
       "defined \u001b[32mclass\u001b[39m \u001b[36mFraction\u001b[39m\n",
       "defined \u001b[32mobject\u001b[39m \u001b[36mFraction\u001b[39m\n",
       "\u001b[36mresult\u001b[39m: \u001b[32mFraction\u001b[39m = 22/15"
      ]
     },
     "execution_count": 2,
     "metadata": {},
     "output_type": "execute_result"
    }
   ],
   "source": [
    "import scala.math.abs\n",
    "\n",
    "class Fraction(n: Int, d: Int) {\n",
    "    private val num: Int = if (d == 0) 1 else n * sign(d) / gcd(n, d)\n",
    "    private val den: Int = if (d == 0) 0 else d * sign(d) / gcd(n, d)\n",
    "    override def toString = num + \"/\" + den\n",
    "    def sign(a: Int) = if (a > 0) 1 else if (a < 0) -1 else 0\n",
    "    def gcd(a: Int, b: Int): Int = if (b == 0) abs(a) else gcd(b, a % b)\n",
    "    \n",
    "    def +(that: Fraction): Fraction = {\n",
    "        Fraction(this.num * that.den + that.num * this.den, this.den * that.den)\n",
    "    }\n",
    "    \n",
    "    def -(that: Fraction): Fraction = {\n",
    "        Fraction(this.num * that.den - that.num * this.den, this.den * that.den)\n",
    "    }\n",
    "    \n",
    "    def *(that: Fraction): Fraction = {\n",
    "        Fraction(this.num * that.num, this.den * that.den)\n",
    "    }\n",
    "    \n",
    "    def /(that: Fraction): Fraction = {\n",
    "        Fraction(this.num * that.den, this.den * that.num)\n",
    "    }\n",
    "}\n",
    "\n",
    "object Fraction {\n",
    "    def apply(n: Int, d: Int) = new Fraction(n, d)\n",
    "}\n",
    "\n",
    "val result = new Fraction(2, 3) + new Fraction(4, 5)"
   ]
  },
  {
   "cell_type": "markdown",
   "metadata": {},
   "source": [
    "## 11.4\n",
    "实现一个Money类，加入美元和美分字段。提供+、-操作符以及比较操作符==和<。举例来说Money(1, 75) + Money(0, 50) == Money(2, 25)应为true。你应该同时提供*和/操作符吗？为什么？\n",
    "A: 金额乘除没有意义"
   ]
  },
  {
   "cell_type": "code",
   "execution_count": 5,
   "metadata": {},
   "outputs": [
    {
     "name": "stdout",
     "output_type": "stream",
     "text": [
      "true\n"
     ]
    },
    {
     "data": {
      "text/plain": [
       "defined \u001b[32mclass\u001b[39m \u001b[36mMoney\u001b[39m\n",
       "defined \u001b[32mobject\u001b[39m \u001b[36mMoney\u001b[39m\n",
       "\u001b[36mres4_2\u001b[39m: \u001b[32mwrapper\u001b[39m.\u001b[32mwrapper\u001b[39m.\u001b[32mMoney\u001b[39m = dollar = 2 cent = 50"
      ]
     },
     "execution_count": 5,
     "metadata": {},
     "output_type": "execute_result"
    }
   ],
   "source": [
    "class Money (val dollar: Int, val cent: Int) {\n",
    "    private def toCent = this.dollar * 100 + this.cent\n",
    "    \n",
    "    def +(that: Money) {\n",
    "        Money(this.dollar + that.dollar, this.cent + that.cent)\n",
    "    }\n",
    "    \n",
    "    def -(that: Money) {\n",
    "        Money(0, this.toCent - that.toCent)\n",
    "    }\n",
    "    \n",
    "    def ==(that: Money): Boolean = {\n",
    "        this.dollar * 100 + this.cent == that.dollar * 100 + that.cent\n",
    "    }\n",
    "    \n",
    "    def <(that: Money): Boolean = {\n",
    "        this.dollar * 100 + this.cent < that.dollar * 100 + that.cent\n",
    "    }\n",
    "    \n",
    "    override def toString = { \"dollar = \" + this.dollar + \" cent = \" + this.cent}\n",
    "}\n",
    "\n",
    "object Money {\n",
    "    def apply(dollar: Int, cent: Int) = {\n",
    "        val d = dollar + cent / 100\n",
    "        new Money(d, cent % 100)\n",
    "    }\n",
    "}\n",
    "\n",
    "Money(2, 50)\n",
    "println(Money(10, 10) < Money(5, 600))"
   ]
  },
  {
   "cell_type": "markdown",
   "metadata": {},
   "source": [
    "## 11.5\n",
    "提供操作符用于构造HTML表格。例如：\n",
    "```\n",
    "Table() | \"Java\" | \"Scala\" || \"Gosling\" | \"Odersky\" || \"JVM\" | \"JVM,.NET\"\n",
    "```\n",
    "应产出:\n",
    "```\n",
    "<table><tr><td>Java</td></tr><td>Scala</td></tr><tr><td>Gosling…\n",
    "```"
   ]
  },
  {
   "cell_type": "code",
   "execution_count": 2,
   "metadata": {},
   "outputs": [
    {
     "data": {
      "text/plain": [
       "defined \u001b[32mclass\u001b[39m \u001b[36mTable\u001b[39m\n",
       "defined \u001b[32mobject\u001b[39m \u001b[36mTable\u001b[39m\n",
       "\u001b[36mres1_2\u001b[39m: \u001b[32mwrapper\u001b[39m.\u001b[32mwrapper\u001b[39m.\u001b[32mTable\u001b[39m = <table><tr><td>Java</td><td>Scala</td></tr><tr><td>Gosling</td><td>Odersky</td></tr><tr><td>JVM</td><td>JVM,.NET</td></tr></table>"
      ]
     },
     "execution_count": 2,
     "metadata": {},
     "output_type": "execute_result"
    }
   ],
   "source": [
    "class Table {\n",
    "    var s: String = \"\"\n",
    "    \n",
    "    def |(str: String): Table = {\n",
    "        Table(this.s + \"<td>\" + str + \"</td>\")\n",
    "    }\n",
    "    \n",
    "    def ||(str: String): Table = {\n",
    "        Table(this.s + \"</tr><tr><td>\" + str + \"</td>\")\n",
    "\n",
    "    }\n",
    "    \n",
    "    override def toString: String = {\n",
    "        \"<table><tr>\" + this.s + \"</tr></table>\"\n",
    "    }\n",
    "}\n",
    "\n",
    "object Table {\n",
    "    def apply(): Table = {\n",
    "        new Table\n",
    "    }\n",
    "    \n",
    "    def apply(str: String): Table = {\n",
    "        val t = new Table\n",
    "        t.s = str\n",
    "        t\n",
    "    }\n",
    "}\n",
    "\n",
    "Table() | \"Java\" | \"Scala\" || \"Gosling\" | \"Odersky\" || \"JVM\" | \"JVM,.NET\""
   ]
  },
  {
   "cell_type": "markdown",
   "metadata": {
    "collapsed": true
   },
   "source": [
    "## 10.6\n",
    "提供一个ASCIIArt类，其对象包含类似这样的图形:\n",
    "```\n",
    "     /\\_/\\\n",
    "\t( ' ' )\n",
    "    (  -  )\n",
    "     | | |\n",
    "    (__|__)\n",
    "```\n",
    "提供将两个ASCIIArt图形横向或纵向结合的操作符。选用适当优先级的操作符命名。纵向结合的示例\n",
    "```\n",
    "     /\\_/\\     -----\n",
    "    ( ' ' )  / Hello \\\n",
    "    (  -  ) <  Scala |\n",
    "     | | |   \\ Coder /\n",
    "    (__|__)    -----\n",
    "```"
   ]
  },
  {
   "cell_type": "code",
   "execution_count": 4,
   "metadata": {},
   "outputs": [
    {
     "name": "stdout",
     "output_type": "stream",
     "text": [
      " /\\_/\\ |( ' ' ) |( - ) | | | | |(__|__) |   ----- | / Hello \\ |< Scala | | \\ Coder / | ----- | \n",
      "\n",
      " /\\_/\\ |( ' ' ) |( - ) | | | | |(__|__) | \n",
      " ----- | / Hello \\ |< Scala | | \\ Coder / | ----- | \n",
      "\n"
     ]
    },
    {
     "data": {
      "text/plain": [
       "\u001b[32mimport \u001b[39m\u001b[36mscala.collection.mutable.ArrayBuffer\n",
       "\n",
       "\u001b[39m\n",
       "defined \u001b[32mclass\u001b[39m \u001b[36mASCIIArt\u001b[39m\n",
       "\u001b[36ma\u001b[39m: \u001b[32mwrapper\u001b[39m.\u001b[32mwrapper\u001b[39m.\u001b[32mASCIIArt\u001b[39m =  /\\_/\\ |( ' ' ) |( - ) | | | | |(__|__) | \n",
       "\n",
       "\u001b[36mb\u001b[39m: \u001b[32mwrapper\u001b[39m.\u001b[32mwrapper\u001b[39m.\u001b[32mASCIIArt\u001b[39m =  ----- | / Hello \\ |< Scala | | \\ Coder / | ----- | \n"
      ]
     },
     "execution_count": 4,
     "metadata": {},
     "output_type": "execute_result"
    }
   ],
   "source": [
    "import scala.collection.mutable.ArrayBuffer\n",
    "\n",
    "class ASCIIArt(str: String) {\n",
    "    val arr: ArrayBuffer[ArrayBuffer[String]] = new ArrayBuffer[ArrayBuffer[String]]()\n",
    "\n",
    "    if (str != null && !str.trim.equals(\"\")) {\n",
    "        str.split(\"[\\r\\n]+\").foreach(\n",
    "            line => {\n",
    "                val s = new ArrayBuffer[String]()\n",
    "                s += line\n",
    "                arr += s\n",
    "            }\n",
    "        )\n",
    "    }\n",
    "\n",
    "    def this() {\n",
    "        this(\"\")\n",
    "    }\n",
    "\n",
    "    /** * 横向结合 * @param other * @return */\n",
    "    def +(other: ASCIIArt): ASCIIArt = {\n",
    "        val art = new ASCIIArt()\n",
    "        // 获取最大行数\n",
    "        val length = if (this.arr.length >= other.arr.length) this.arr.length else other.arr.length\n",
    "        for (i <- 0 until length) {\n",
    "            val s = new ArrayBuffer[String]()\n",
    "            // 获取this中的行数据, 行数不足,返回空行\n",
    "            val thisArr: ArrayBuffer[String] = if (i < this.arr.length) this.arr(i) else new ArrayBuffer[String]()\n",
    "            // 获取other中的行数据, 行数不足,返回空行\n",
    "            val otherArr: ArrayBuffer[String] = if (i < other.arr.length) other.arr(i) else new ArrayBuffer[String]()\n",
    "            // 连接this\n",
    "            thisArr.foreach(s += _)\n",
    "            // 连接other\n",
    "            otherArr.foreach(s += _)\n",
    "            art.arr += s\n",
    "        }\n",
    "        art\n",
    "    }\n",
    "\n",
    "    /** * 纵向结合 * @param other * @return */\n",
    "    def *(other: ASCIIArt): ASCIIArt = {\n",
    "        val art = new ASCIIArt()\n",
    "        this.arr.foreach(art.arr += _)\n",
    "        other.arr.foreach(art.arr += _)\n",
    "        art\n",
    "    }\n",
    "\n",
    "    override def toString = {\n",
    "        var ss: String = \"\"\n",
    "        arr.foreach(ss += _.mkString(\" \") + \"\\n\")\n",
    "        ss\n",
    "    }\n",
    "}\n",
    "\n",
    "val a = new ASCIIArt(\n",
    "        \"\"\" /\\_/\\ |( ' ' ) |( - ) | | | | |(__|__) | \"\"\".stripMargin)\n",
    "val b = new ASCIIArt(\n",
    "        \"\"\" ----- | / Hello \\ |< Scala | | \\ Coder / | ----- | \"\"\".stripMargin)\n",
    "\n",
    "println(a + b)\n",
    "println(a * b)"
   ]
  },
  {
   "cell_type": "markdown",
   "metadata": {},
   "source": [
    "## 11.7\n",
    "实现一个BigSequence类,将64个bit的序列打包在一个Long值中。提供apply和update操作来获取和设置某个具体的bit"
   ]
  },
  {
   "cell_type": "code",
   "execution_count": 5,
   "metadata": {},
   "outputs": [
    {
     "name": "stdout",
     "output_type": "stream",
     "text": [
      "1\n",
      "1000000000000000000000000000000000000000000000000000000000100001\n"
     ]
    },
    {
     "data": {
      "text/plain": [
       "defined \u001b[32mclass\u001b[39m \u001b[36mBigSequence\u001b[39m\n",
       "\u001b[36mx\u001b[39m: \u001b[32mBigSequence\u001b[39m = 1000000000000000000000000000000000000000000000000000000000100001"
      ]
     },
     "execution_count": 5,
     "metadata": {},
     "output_type": "execute_result"
    }
   ],
   "source": [
    "class BigSequence(private var value: Long = 0) {\n",
    "    def update(bit: Int, state: Int) = { \n",
    "        if (state == 1) \n",
    "            value |= (state & 1L) << bit % 64 \n",
    "        else \n",
    "            value &= ~(1L << bit % 64) } \n",
    "    \n",
    "    def apply(bit: Int): Int = if (((value >> bit % 64) & 1L) > 0) 1 else 0 \n",
    "    \n",
    "    override def toString = \"%64s\".format(value.toBinaryString).replace(\" \", \"0\") \n",
    "}\n",
    "\n",
    "val x = new BigSequence() \n",
    "x(5) = 1 \n",
    "x(63) = 1 \n",
    "x(64) = 1 \n",
    "\n",
    "println(x(5))\n",
    "println(x)"
   ]
  },
  {
   "cell_type": "markdown",
   "metadata": {},
   "source": [
    "## 10.8\n",
    "提供一个Matrix类——你可以选择需要的是一个2x2的矩阵，任意大小的正方形矩阵，或是m x n的矩阵。支持+和*操作。*操作应同样适用于单值，例如mat*2。单个元素可以通过mat(row, col)得到。 "
   ]
  },
  {
   "cell_type": "code",
   "execution_count": 12,
   "metadata": {},
   "outputs": [
    {
     "name": "stdout",
     "output_type": "stream",
     "text": [
      "1.0 2.0\n",
      "3.0 4.0\n",
      "\n",
      "2.0 4.0\n",
      "6.0 8.0\n",
      "\n",
      "1.0 2.0\n",
      "3.0 4.0\n",
      "\n",
      "30.0 66.0\n",
      "66.0 150.0\n"
     ]
    },
    {
     "data": {
      "text/plain": [
       "defined \u001b[32mclass\u001b[39m \u001b[36mMatrix\u001b[39m\n",
       "\u001b[36mx\u001b[39m: \u001b[32mwrapper\u001b[39m.\u001b[32mwrapper\u001b[39m.\u001b[32mMatrix\u001b[39m = 1.0 2.0\n",
       "3.0 4.0"
      ]
     },
     "execution_count": 12,
     "metadata": {},
     "output_type": "execute_result"
    }
   ],
   "source": [
    "class Matrix(val m: Int, val n: Int) {\n",
    "    private val value = Array.ofDim[Double](m, n)\n",
    "    \n",
    "    def update(row: Int, col: Int, v: Double) = value(row)(col) = v\n",
    "    \n",
    "    def apply(row: Int, col: Int): Double = value(row)(col)\n",
    "    \n",
    "    def +(that: Matrix): Matrix = {\n",
    "        require(n == that.n)\n",
    "        require(m == that.m)\n",
    "        \n",
    "        val res = new Matrix(m, n)\n",
    "        for (i <- 0 until m; j <- 0 until n) {\n",
    "            res(i, j) = this(i, j) + that(i, j)\n",
    "        }\n",
    "        res\n",
    "    }\n",
    "    \n",
    "    def -(that: Matrix): Matrix = {\n",
    "        this + that * (-1)\n",
    "    }\n",
    "    \n",
    "    def *(that: Matrix): Matrix = {\n",
    "        require(n == that.m)\n",
    "        \n",
    "        val res = new Matrix(m, that.n)\n",
    "        for (i <- 0 until m; j <- 0 until that.n) {\n",
    "            res(i, j) = (for (k <- 0 until n) yield value(i)(k) * that.value(j)(k)).sum\n",
    "        }\n",
    "        res\n",
    "    }\n",
    "    \n",
    "    def *(factor: Double): Matrix = {\n",
    "        val res = new Matrix(m, n)\n",
    "        for (i <- 0 until m; j <- 0 until n) {\n",
    "            res(i, j) = this(i, j) * factor\n",
    "        }\n",
    "        res\n",
    "    }\n",
    "    \n",
    "    override def toString = value.map(_.mkString(\" \")).mkString(\"\\n\")\n",
    "}\n",
    "\n",
    "val x = new Matrix(2, 2)\n",
    "x(0, 0) = 1\n",
    "x(0, 1) = 2\n",
    "x(1, 0) = 3\n",
    "x(1, 1) = 4\n",
    "\n",
    "println(x)\n",
    "println()\n",
    "println(x * 2)\n",
    "println()\n",
    "println(x * 2 - x)\n",
    "println()\n",
    "println((x * 2) * (x * 3))"
   ]
  },
  {
   "cell_type": "markdown",
   "metadata": {},
   "source": [
    "## 11.9\n",
    "为RichFile类定义unapply操作，提取文件路径、名称和扩展名。举例来说，文件/home/cay/readme.txt的路径为/home/cay，名称为readme，扩展名为txt。"
   ]
  },
  {
   "cell_type": "code",
   "execution_count": 13,
   "metadata": {},
   "outputs": [
    {
     "name": "stdout",
     "output_type": "stream",
     "text": [
      "/home/cay  readme  txt\n"
     ]
    },
    {
     "data": {
      "text/plain": [
       "defined \u001b[32mclass\u001b[39m \u001b[36mRichFile\u001b[39m\n",
       "defined \u001b[32mobject\u001b[39m \u001b[36mRichFile\u001b[39m\n",
       "\u001b[36mrf\u001b[39m: \u001b[32mRichFile\u001b[39m = $sess.cmd12Wrapper$Helper$RichFile@b3f5f49\n",
       "\u001b[36mr1\u001b[39m: \u001b[32mString\u001b[39m = \u001b[32m\"/home/cay\"\u001b[39m\n",
       "\u001b[36mr2\u001b[39m: \u001b[32mString\u001b[39m = \u001b[32m\"readme\"\u001b[39m\n",
       "\u001b[36mr3\u001b[39m: \u001b[32mString\u001b[39m = \u001b[32m\"txt\"\u001b[39m"
      ]
     },
     "execution_count": 13,
     "metadata": {},
     "output_type": "execute_result"
    }
   ],
   "source": [
    "class RichFile(val path: String) {}\n",
    "\n",
    "object RichFile {\n",
    "    def apply(path: String): RichFile = {\n",
    "        new RichFile(path)\n",
    "    }\n",
    "    \n",
    "    def unapply(rf: RichFile): Option[(String, String, String)] = {\n",
    "        if (rf.path == null) {\n",
    "            None\n",
    "        } else {\n",
    "            val reg = \"\"\"([/\\w+]+)/(\\w+)\\.(\\w+)\"\"\".r\n",
    "            val reg(r1, r2, r3) = rf.path\n",
    "            Some((r1, r2, r3))\n",
    "        }\n",
    "    }\n",
    "}\n",
    "\n",
    "val rf = RichFile(\"/home/cay/readme.txt\")\n",
    "val RichFile(r1, r2, r3) = rf\n",
    "println(r1 + \"  \" + r2 + \"  \" + r3)"
   ]
  },
  {
   "cell_type": "markdown",
   "metadata": {},
   "source": [
    "## 11.10\n",
    "为RichFile类定义一个unapplySeq，提取所有路径段。举例来说，对于/home/cay/readme.txt，你应该产出三个路径段的序列：home、cay和readme.txt。"
   ]
  },
  {
   "cell_type": "code",
   "execution_count": 15,
   "metadata": {},
   "outputs": [
    {
     "name": "stdout",
     "output_type": "stream",
     "text": [
      "WrappedArray(home, cay, readme.txt)\n"
     ]
    },
    {
     "data": {
      "text/plain": [
       "defined \u001b[32mclass\u001b[39m \u001b[36mRichFile\u001b[39m\n",
       "defined \u001b[32mobject\u001b[39m \u001b[36mRichFile\u001b[39m\n",
       "\u001b[36mrf\u001b[39m: \u001b[32mwrapper\u001b[39m.\u001b[32mwrapper\u001b[39m.\u001b[32mRichFile\u001b[39m = $sess.cmd14Wrapper$Helper$RichFile@26aac627\n",
       "\u001b[36mr\u001b[39m: \u001b[32mSeq\u001b[39m[\u001b[32mString\u001b[39m] = \u001b[33mArray\u001b[39m(\u001b[32m\"home\"\u001b[39m, \u001b[32m\"cay\"\u001b[39m, \u001b[32m\"readme.txt\"\u001b[39m)"
      ]
     },
     "execution_count": 15,
     "metadata": {},
     "output_type": "execute_result"
    }
   ],
   "source": [
    "class RichFile(val path: String) {}\n",
    "\n",
    "object RichFile {\n",
    "    def apply(path: String): RichFile = {\n",
    "        new RichFile(path)\n",
    "    }\n",
    "    \n",
    "    def unapplySeq(rf: RichFile): Option[Seq[String]] = {\n",
    "        if (rf.path == null) {\n",
    "            None\n",
    "        } else {\n",
    "            if (rf.path.startsWith(\"/\"))\n",
    "                Some(rf.path.substring(1).split(\"/\"))\n",
    "            else\n",
    "                Some(rf.path.split(\"/\"))\n",
    "        }\n",
    "    }\n",
    "}\n",
    "\n",
    "val rf = RichFile(\"/home/cay/readme.txt\")\n",
    "val RichFile(r @ _*) = rf\n",
    "println(r)"
   ]
  },
  {
   "cell_type": "code",
   "execution_count": null,
   "metadata": {
    "collapsed": true
   },
   "outputs": [],
   "source": []
  }
 ],
 "metadata": {
  "kernelspec": {
   "display_name": "Scala",
   "language": "scala",
   "name": "scala"
  },
  "language_info": {
   "codemirror_mode": "text/x-scala",
   "file_extension": ".scala",
   "mimetype": "text/x-scala",
   "name": "scala211",
   "nbconvert_exporter": "script",
   "pygments_lexer": "scala",
   "version": "2.11.11"
  }
 },
 "nbformat": 4,
 "nbformat_minor": 1
}
