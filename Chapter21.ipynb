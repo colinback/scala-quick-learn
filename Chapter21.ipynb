{
 "cells": [
  {
   "cell_type": "markdown",
   "metadata": {},
   "source": [
    "# Chapter 21"
   ]
  },
  {
   "cell_type": "markdown",
   "metadata": {},
   "source": [
    "## 21.1\n",
    "->的工作原理是什么? 或者说, \"Hello\" -> 42 和 42 -> \"Hello\"怎么会和对偶扯上关系?"
   ]
  },
  {
   "cell_type": "markdown",
   "metadata": {},
   "source": [
    "A: \"hello\" -> 43会转化成(\"hello\",43)是由于隐式转化的原因。`ArrowAssoc[A]`内定义了名为 `-> [B](y: B): Tuple2[A, B]`的方法，当使用到类似于 \"hello\" -> 43 的实例时函数被调用, 返回Tuple对象"
   ]
  },
  {
   "cell_type": "markdown",
   "metadata": {},
   "source": [
    "## 21.2\n",
    "定义一个操作符+%, 将一个给定的百分比添加到某个值. 举例来说,120 +% 10 等于132. 提示: 由于操作符是方法, 而不是函数, 你需要提供一个implicit"
   ]
  },
  {
   "cell_type": "code",
   "execution_count": 1,
   "metadata": {},
   "outputs": [
    {
     "data": {
      "text/plain": [
       "defined \u001b[32mclass\u001b[39m \u001b[36mMyInt\u001b[39m\n",
       "defined \u001b[32mfunction\u001b[39m \u001b[36mint2MyInt\u001b[39m\n",
       "\u001b[36mres0_2\u001b[39m: \u001b[32mDouble\u001b[39m = \u001b[32m132.0\u001b[39m"
      ]
     },
     "execution_count": 1,
     "metadata": {},
     "output_type": "execute_result"
    }
   ],
   "source": [
    "case class MyInt(v: Int) {\n",
    "    def +%(percent: Int) = v + v / 100.0 * percent\n",
    "}\n",
    "  \n",
    "implicit def int2MyInt(v: Int) = new MyInt(v)\n",
    "\n",
    "120 +% 10"
   ]
  },
  {
   "cell_type": "markdown",
   "metadata": {},
   "source": [
    "## 21.3\n",
    "定义一个!操作符, 计算某个整数的阶乘. 举例来说, 5!应得到120. 你将会需要一个经过丰富的类和一个隐式转换."
   ]
  },
  {
   "cell_type": "code",
   "execution_count": 3,
   "metadata": {},
   "outputs": [
    {
     "data": {
      "text/plain": [
       "defined \u001b[32mclass\u001b[39m \u001b[36mMyInt\u001b[39m\n",
       "defined \u001b[32mfunction\u001b[39m \u001b[36mint2MyInt\u001b[39m\n",
       "\u001b[36mres2_2\u001b[39m: \u001b[32mInt\u001b[39m = \u001b[32m120\u001b[39m"
      ]
     },
     "execution_count": 3,
     "metadata": {},
     "output_type": "execute_result"
    }
   ],
   "source": [
    "case class MyInt(v: Int) {\n",
    "    def !(): Int = {\n",
    "        if (v == 1) 1\n",
    "        else v * (MyInt(v-1)!)\n",
    "    }\n",
    "}\n",
    "  \n",
    "implicit def int2MyInt(v: Int) = new MyInt(v)\n",
    "\n",
    "5!"
   ]
  },
  {
   "cell_type": "markdown",
   "metadata": {},
   "source": [
    "## 21.4\n",
    "有些人很喜欢那些读起来隐约像英语句子的流利API. 创建一个这样的API, 用来从控制台读取整数、浮点数以及字符串. 例如:\n",
    "```\n",
    "Read in aString askingFor \"Your Name\" and anInt askingFor \"Your age\" and aDouble askingFor \"Your Weight\"\n",
    "```"
   ]
  },
  {
   "cell_type": "code",
   "execution_count": 3,
   "metadata": {},
   "outputs": [
    {
     "data": {
      "text/plain": [
       "defined \u001b[32mclass\u001b[39m \u001b[36mReadOP\u001b[39m\n",
       "defined \u001b[32mobject\u001b[39m \u001b[36maString\u001b[39m\n",
       "defined \u001b[32mobject\u001b[39m \u001b[36manInt\u001b[39m\n",
       "defined \u001b[32mobject\u001b[39m \u001b[36maDouble\u001b[39m\n",
       "defined \u001b[32mclass\u001b[39m \u001b[36mRead\u001b[39m\n",
       "defined \u001b[32mobject\u001b[39m \u001b[36mRead\u001b[39m\n",
       "\u001b[36mr\u001b[39m: \u001b[32mwrapper\u001b[39m.\u001b[32mwrapper\u001b[39m.\u001b[32mRead\u001b[39m = $sess.cmd2Wrapper$Helper$Read@62de9c0a\n",
       "\u001b[36mres2_7\u001b[39m: \u001b[32mwrapper\u001b[39m.\u001b[32mwrapper\u001b[39m.\u001b[32mRead\u001b[39m = $sess.cmd2Wrapper$Helper$Read@62de9c0a\n",
       "\u001b[36mres2_8\u001b[39m: \u001b[32mString\u001b[39m = \u001b[32m\"shizy\"\u001b[39m\n",
       "\u001b[36mres2_9\u001b[39m: \u001b[32mInt\u001b[39m = \u001b[32m35\u001b[39m\n",
       "\u001b[36mres2_10\u001b[39m: \u001b[32mDouble\u001b[39m = \u001b[32m144.4\u001b[39m"
      ]
     },
     "execution_count": 3,
     "metadata": {},
     "output_type": "execute_result"
    }
   ],
   "source": [
    "class ReadOP {}\n",
    "case object aString extends ReadOP\n",
    "case object anInt extends ReadOP\n",
    "case object aDouble extends ReadOP\n",
    "\n",
    "class Read {\n",
    "    private var typeOP: ReadOP = _\n",
    "    var name = \"\"\n",
    "    var age = 0\n",
    "    var weight = 0.0\n",
    "    \n",
    "    def in(op: ReadOP): this.type = {\n",
    "        typeOP = op\n",
    "        this\n",
    "    }\n",
    "    \n",
    "    def and(op: ReadOP): this.type = {\n",
    "        typeOP = op\n",
    "        this\n",
    "    }\n",
    "    \n",
    "    def askingFor(s: String): this.type = {\n",
    "        typeOP match {\n",
    "            case _: aString.type => name = s\n",
    "            case _: anInt.type => age = s.toInt\n",
    "            case _: aDouble.type => weight = s.toDouble\n",
    "        }\n",
    "        this\n",
    "    }\n",
    "}\n",
    "\n",
    "object Read { \n",
    "    def apply() = new Read() \n",
    "}\n",
    "\n",
    "val r = Read()\n",
    "r in aString askingFor \"shizy\" and anInt askingFor \"35\" and aDouble askingFor \"144.4\"\n",
    "r.name\n",
    "r.age\n",
    "r.weight"
   ]
  },
  {
   "cell_type": "markdown",
   "metadata": {},
   "source": [
    "## 21.5\n",
    "提供执行下述运算所需要的代码:\n",
    "```\n",
    "smaller(Fraction(1,3), Fraction(3,1))\n",
    "```\n",
    "给出一个扩展自Ordered[Fraction]的RichFraction类"
   ]
  },
  {
   "cell_type": "code",
   "execution_count": 8,
   "metadata": {},
   "outputs": [
    {
     "data": {
      "text/plain": [
       "defined \u001b[32mclass\u001b[39m \u001b[36mFraction\u001b[39m\n",
       "defined \u001b[32mfunction\u001b[39m \u001b[36msmaller\u001b[39m\n",
       "defined \u001b[32mclass\u001b[39m \u001b[36mRichFraction\u001b[39m\n",
       "defined \u001b[32mfunction\u001b[39m \u001b[36mfraction2RichFraction\u001b[39m\n",
       "\u001b[36mres7_4\u001b[39m: \u001b[32mwrapper\u001b[39m.\u001b[32mwrapper\u001b[39m.\u001b[32mFraction\u001b[39m = Fraction(1, 3)"
      ]
     },
     "execution_count": 8,
     "metadata": {},
     "output_type": "execute_result"
    }
   ],
   "source": [
    "case class Fraction(val n: Int, val d: Int) {\n",
    "    def *(that: Fraction) = new Fraction(this.n * that.n, this.d * that.d)\n",
    "    override def toString() = \"Fraction(\" + n + \", \" + d + \")\"\n",
    "}\n",
    "\n",
    "def smaller[T](a: T, b: T)(implicit order: T => Ordered[T]) = if (order(a) < b) a else b\n",
    "\n",
    "class RichFraction(val f: Fraction) extends Ordered[Fraction] {\n",
    "    def compare(that: Fraction):Int = (f.n * that.d) - (that.n * f.d)\n",
    "}\n",
    "\n",
    "implicit def fraction2RichFraction(f: Fraction) = new RichFraction(f)\n",
    "\n",
    "smaller(Fraction(3,1), Fraction(1,3))"
   ]
  },
  {
   "cell_type": "markdown",
   "metadata": {},
   "source": [
    "## 21.6\n",
    "比较java.awt.Point类的对象, 按词典顺序比较(即依次比较x坐标和y坐标的值)"
   ]
  },
  {
   "cell_type": "code",
   "execution_count": 19,
   "metadata": {},
   "outputs": [
    {
     "data": {
      "text/plain": [
       "\u001b[32mimport \u001b[39m\u001b[36mjava.awt.Point\n",
       "\u001b[39m\n",
       "\u001b[32mimport \u001b[39m\u001b[36mscala.util.Sorting._\n",
       "\n",
       "\u001b[39m\n",
       "defined \u001b[32mobject\u001b[39m \u001b[36mLexicalPointOrdering\u001b[39m\n",
       "\u001b[36mpoints\u001b[39m: \u001b[32mArray\u001b[39m[\u001b[32mPoint\u001b[39m] = \u001b[33mArray\u001b[39m(\n",
       "  java.awt.Point[x=1,y=100],\n",
       "  java.awt.Point[x=4,y=5],\n",
       "  java.awt.Point[x=6,y=4],\n",
       "  java.awt.Point[x=6,y=5]\n",
       ")"
      ]
     },
     "execution_count": 19,
     "metadata": {},
     "output_type": "execute_result"
    }
   ],
   "source": [
    "import java.awt.Point\n",
    "import scala.util.Sorting._\n",
    "\n",
    "implicit object LexicalPointOrdering extends Ordering[Point] {\n",
    "    def compare(a: Point, b: Point): Int = (a.x - b.x).signum match {\n",
    "        case 0 => (a.y - b.y).signum\n",
    "        case r => r\n",
    "    }\n",
    "}\n",
    "\n",
    "val points = Array(new Point(4, 5), new Point(6, 5), new Point(1, 100), new Point(6, 4))\n",
    "\n",
    "quickSort(points)(LexicalPointOrdering)"
   ]
  },
  {
   "cell_type": "markdown",
   "metadata": {},
   "source": [
    "## 21.7\n",
    "继续前一个练习, 根据两个点到原点的距离进行比较. 你如何在两种排序之间切换?"
   ]
  },
  {
   "cell_type": "code",
   "execution_count": 22,
   "metadata": {},
   "outputs": [
    {
     "data": {
      "text/plain": [
       "\u001b[32mimport \u001b[39m\u001b[36mjava.awt.Point\n",
       "\u001b[39m\n",
       "\u001b[32mimport \u001b[39m\u001b[36mscala.util.Sorting._\n",
       "\n",
       "\u001b[39m\n",
       "defined \u001b[32mclass\u001b[39m \u001b[36mLexicalOrdered\u001b[39m\n",
       "defined \u001b[32mclass\u001b[39m \u001b[36mOriginOrdered\u001b[39m\n",
       "defined \u001b[32mclass\u001b[39m \u001b[36mOrderPointBy\u001b[39m\n",
       "\u001b[36mpoints\u001b[39m: \u001b[32mArray\u001b[39m[\u001b[32mPoint\u001b[39m] = \u001b[33mArray\u001b[39m(\n",
       "  java.awt.Point[x=4,y=5],\n",
       "  java.awt.Point[x=6,y=4],\n",
       "  java.awt.Point[x=6,y=5],\n",
       "  java.awt.Point[x=1,y=100]\n",
       ")"
      ]
     },
     "execution_count": 22,
     "metadata": {},
     "output_type": "execute_result"
    }
   ],
   "source": [
    "import java.awt.Point\n",
    "import scala.util.Sorting._\n",
    "\n",
    "class LexicalOrdered(val p: Point) extends Ordered[Point] {\n",
    "    def compare(that: Point): Int = (p.x - that.x).signum match {\n",
    "        case 0 => (p.y - that.y).signum\n",
    "        case r => r\n",
    "    }\n",
    "}\n",
    "\n",
    "class OriginOrdered(val p: Point) extends Ordered[Point] {\n",
    "    private def distanceToOrigin(p: Point): Double = math.sqrt(math.pow(p.x, 2) + math.pow(p.y, 2))\n",
    "    def compare(that: Point): Int = (distanceToOrigin(p) - distanceToOrigin(that)).signum\n",
    "}\n",
    "\n",
    "class OrderPointBy(val f: (Point) => Ordered[Point]) extends Ordering[Point] {\n",
    "    implicit def point2Ordered(pt: Point): Ordered[Point] = f(pt)\n",
    "    def compare(a: Point, b: Point): Int = a compare b\n",
    "}\n",
    "\n",
    "val points = Array(new Point(4, 5), new Point(6, 5), new Point(1, 100), new Point(6, 4))\n",
    "\n",
    "quickSort(points)(new OrderPointBy((pt:Point) => new OriginOrdered(pt)))"
   ]
  },
  {
   "cell_type": "markdown",
   "metadata": {},
   "source": [
    "## 21.8\n",
    "在REPL中使用implicitly命令来召唤隐式对象. 你得到了哪些对象?"
   ]
  },
  {
   "cell_type": "markdown",
   "metadata": {},
   "source": [
    "## 21.9\n",
    "在Predef.scala中查找=:=对象,解释它的的工作原理"
   ]
  },
  {
   "cell_type": "markdown",
   "metadata": {},
   "source": [
    "## 21.10\n",
    "表达式`\"abc\".map(_.toUpper)`的结果是一个String, 但`\"abc\".map(_.toInt)`的结果是一个Vector. 为什么会这样?"
   ]
  },
  {
   "cell_type": "code",
   "execution_count": 23,
   "metadata": {},
   "outputs": [
    {
     "data": {
      "text/plain": [
       "\u001b[36mres22_0\u001b[39m: \u001b[32mString\u001b[39m = \u001b[32m\"ABC\"\u001b[39m\n",
       "\u001b[36mres22_1\u001b[39m: \u001b[32mcollection\u001b[39m.\u001b[32mimmutable\u001b[39m.\u001b[32mIndexedSeq\u001b[39m[\u001b[32mInt\u001b[39m] = \u001b[33mVector\u001b[39m(\u001b[32m97\u001b[39m, \u001b[32m98\u001b[39m, \u001b[32m99\u001b[39m)"
      ]
     },
     "execution_count": 23,
     "metadata": {},
     "output_type": "execute_result"
    }
   ],
   "source": [
    "\"abc\".map(_.toUpper)\n",
    "\"abc\".map(_.toInt)"
   ]
  },
  {
   "cell_type": "markdown",
   "metadata": {},
   "source": [
    "A: Builder[Char,B] += Char 后的结果 TraversableLike[Char, That] 会隐式转化成 String. 而Int 没有"
   ]
  },
  {
   "cell_type": "code",
   "execution_count": null,
   "metadata": {
    "collapsed": true
   },
   "outputs": [],
   "source": []
  }
 ],
 "metadata": {
  "kernelspec": {
   "display_name": "Scala",
   "language": "scala",
   "name": "scala"
  },
  "language_info": {
   "codemirror_mode": "text/x-scala",
   "file_extension": ".scala",
   "mimetype": "text/x-scala",
   "name": "scala211",
   "nbconvert_exporter": "script",
   "pygments_lexer": "scala",
   "version": "2.11.11"
  }
 },
 "nbformat": 4,
 "nbformat_minor": 1
}
