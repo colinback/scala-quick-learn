{
 "cells": [
  {
   "cell_type": "markdown",
   "metadata": {},
   "source": [
    "# Chapter 10"
   ]
  },
  {
   "cell_type": "markdown",
   "metadata": {},
   "source": [
    "## 10.1\n",
    "java.awt.Rectangle类有两个很有用的方法translate和grow,但可惜的是像java.awt.geom.Ellipse2D这样的类没有。在Scala中，你可以解决掉这个问题。定义一个RectangleLike特质,加入具体的translate和grow方法。提供任何你需要用来实现的抽象方法,以便你可以像如下代码这样混入该特质:\n",
    "```scala\n",
    "val egg = new java.awt.geom.Ellipse2D.Double(5,10,20,30) with RectangleLike\n",
    "egg.translate(10,-10)\n",
    "egg.grow(10,20)\n",
    "```\n",
    "使用自身类型使得trait可以操作x,y"
   ]
  },
  {
   "cell_type": "code",
   "execution_count": 4,
   "metadata": {},
   "outputs": [
    {
     "name": "stdout",
     "output_type": "stream",
     "text": [
      "20.0, 10.0\n"
     ]
    },
    {
     "data": {
      "text/plain": [
       "\u001b[32mimport \u001b[39m\u001b[36mjava.awt.geom.Ellipse2D\n",
       "\n",
       "\u001b[39m\n",
       "defined \u001b[32mtrait\u001b[39m \u001b[36mRectangleLike\u001b[39m\n",
       "\u001b[36megg\u001b[39m: \u001b[32mEllipse2D\u001b[39m.\u001b[32mDouble\u001b[39m with \u001b[32mwrapper\u001b[39m.\u001b[32mwrapper\u001b[39m.\u001b[32mRectangleLike\u001b[39m = $sess.cmd3Wrapper$Helper$$anon$1@19860000"
      ]
     },
     "execution_count": 4,
     "metadata": {},
     "output_type": "execute_result"
    }
   ],
   "source": [
    "import java.awt.geom.Ellipse2D\n",
    "\n",
    "trait RectangleLike {\n",
    "    this: Ellipse2D.Double =>\n",
    "    def translate(x:Double, y:Double) {\n",
    "        this.x = x;\n",
    "        this.y = y;\n",
    "    }\n",
    "    \n",
    "    def grow(x:Double, y:Double) {\n",
    "        this.x += x\n",
    "        this.y += y\n",
    "    }\n",
    "}\n",
    "\n",
    "val egg = new Ellipse2D.Double(5,10,20,30) with RectangleLike\n",
    "egg.translate(10, -10)\n",
    "egg.grow(10, 20)\n",
    "println(egg.x + \", \" + egg.y)"
   ]
  },
  {
   "cell_type": "markdown",
   "metadata": {},
   "source": [
    "## 10.2\n",
    "通过把scala.math.Ordered[Point]混入java.awt.Point的方式, 定义OrderedPoint类, 按辞典方式排序, 也就是说, 如果x < x' 或者x = x'且 y < y' 则 (x,y) < (x', y')"
   ]
  },
  {
   "cell_type": "code",
   "execution_count": 7,
   "metadata": {},
   "outputs": [
    {
     "name": "stdout",
     "output_type": "stream",
     "text": [
      "true\n"
     ]
    },
    {
     "data": {
      "text/plain": [
       "\u001b[32mimport \u001b[39m\u001b[36mjava.awt.Point\n",
       "\n",
       "\u001b[39m\n",
       "defined \u001b[32mclass\u001b[39m \u001b[36mOrderedPoint\u001b[39m"
      ]
     },
     "execution_count": 7,
     "metadata": {},
     "output_type": "execute_result"
    }
   ],
   "source": [
    "import java.awt.Point\n",
    "\n",
    "class OrderedPoint(x: Int, y: Int) extends Point(x, y) with Ordered[Point] {\n",
    "    def compare(that: Point): Int = {\n",
    "        if (this.x <= that.x && this.y < that.y) -1\n",
    "        else if (this.x == that.x && this.y == that.y) 0\n",
    "        else 1\n",
    "    }\n",
    "}\n",
    "\n",
    "println (new OrderedPoint(1, 2) > new OrderedPoint(0, 1))"
   ]
  },
  {
   "cell_type": "markdown",
   "metadata": {},
   "source": [
    "## 10.3\n",
    "查看BitSet类,将它的所有超类和特质绘制成一张图, 忽略类型参数, 然后给出该特质的线性化规格说明"
   ]
  },
  {
   "cell_type": "markdown",
   "metadata": {},
   "source": [
    "## 10.4\n",
    "提供一个CryptoLogger类, 将日志消息以凯撒密码加密, 缺省情况下密钥为3, 不过使用者也可以重写它, 提供缺省密钥和-3作为密钥时的使用示例"
   ]
  },
  {
   "cell_type": "code",
   "execution_count": 9,
   "metadata": {},
   "outputs": [
    {
     "name": "stdout",
     "output_type": "stream",
     "text": [
      "明文为：shizhenyu\n",
      "加密后为：vklckhqbx\n",
      "加密后为：pefwebkvr\n"
     ]
    },
    {
     "data": {
      "text/plain": [
       "defined \u001b[32mtrait\u001b[39m \u001b[36mLogger\u001b[39m\n",
       "defined \u001b[32mclass\u001b[39m \u001b[36mCryptoLogger\u001b[39m\n",
       "\u001b[36mplain\u001b[39m: \u001b[32mString\u001b[39m = \u001b[32m\"shizhenyu\"\u001b[39m"
      ]
     },
     "execution_count": 9,
     "metadata": {},
     "output_type": "execute_result"
    }
   ],
   "source": [
    "trait Logger {\n",
    "    def log(str: String, key: Int = 3):String\n",
    "}\n",
    "\n",
    "class CryptoLogger extends Logger {\n",
    "    def log(str: String, key: Int): String = {\n",
    "        for (i <- str) yield (97 + (i - 97 + key + (if (key < 0) 26 else 0)) % 26).toChar\n",
    "    }\n",
    "}\n",
    "\n",
    "val plain = \"shizhenyu\";\n",
    "println(\"明文为：\" + plain);\n",
    "println(\"加密后为：\" + new CryptoLogger().log(plain));\n",
    "println(\"加密后为：\" + new CryptoLogger().log(plain, -3));"
   ]
  },
  {
   "cell_type": "markdown",
   "metadata": {},
   "source": [
    "## 10.5\n",
    "JavaBean规范里有一种提法叫做属性变更监听器(property change listener)，这是bean用来通知其属性变更的标准方式。PropertyChangeSupport类对于任何想要支持属性变更通知其属性变更监听器的bean而言是个便捷的超类。但可惜已有其他超类的类, 比如JComponent, 必须重新实现相应的方法。将PropertyChangeSupport重新实现为一个特质,然后将它混入到java.awt.Point类中"
   ]
  },
  {
   "cell_type": "code",
   "execution_count": 12,
   "metadata": {},
   "outputs": [
    {
     "name": "stdout",
     "output_type": "stream",
     "text": [
      "x: oldValue = 0.0 newValue = 20\n"
     ]
    },
    {
     "data": {
      "text/plain": [
       "\u001b[32mimport \u001b[39m\u001b[36mjava.awt.Point\n",
       "\u001b[39m\n",
       "\u001b[32mimport \u001b[39m\u001b[36mjava.beans.{PropertyChangeSupport, PropertyChangeEvent, PropertyChangeListener}\n",
       "\n",
       "\u001b[39m\n",
       "defined \u001b[32mtrait\u001b[39m \u001b[36mPropertyChange\u001b[39m\n",
       "\u001b[36mp\u001b[39m: \u001b[32mPoint\u001b[39m with \u001b[32mwrapper\u001b[39m.\u001b[32mwrapper\u001b[39m.\u001b[32mPropertyChange\u001b[39m = $sess.cmd11Wrapper$Helper$$anon$1[x=20,y=30]\n",
       "\u001b[36mnewX\u001b[39m: \u001b[32mInt\u001b[39m = \u001b[32m20\u001b[39m"
      ]
     },
     "execution_count": 12,
     "metadata": {},
     "output_type": "execute_result"
    }
   ],
   "source": [
    "import java.awt.Point\n",
    "import java.beans.{PropertyChangeSupport, PropertyChangeEvent, PropertyChangeListener}\n",
    "\n",
    "trait PropertyChange {\n",
    "    val propertyChangeSupport : PropertyChangeSupport\n",
    "}\n",
    "\n",
    "val p = new Point() with PropertyChange {\n",
    "    val propertyChangeSupport = new PropertyChangeSupport(this)\n",
    "    propertyChangeSupport.addPropertyChangeListener(new PropertyChangeListener {\n",
    "        override def propertyChange(evt: PropertyChangeEvent): Unit = {\n",
    "          println(evt.getPropertyName\n",
    "            + \": oldValue = \" + evt.getOldValue\n",
    "            + \" newValue = \" + evt.getNewValue)\n",
    "        }\n",
    "      })\n",
    "}\n",
    "\n",
    "val newX : Int = 20\n",
    "p.propertyChangeSupport.firePropertyChange(\"x\", p.getX, newX)\n",
    "p.move(newX, 30)"
   ]
  },
  {
   "cell_type": "markdown",
   "metadata": {},
   "source": [
    "## 10.6\n",
    "在Java AWT类库中,我们有一个Container类，一个可以用于各种组件的Component子类。举例来说，Button是一个Component,但Panel是Container。这是一个运转中的组合模式。Swing有JComponent和JContainer，但如果你仔细看的话，你会发现一些奇怪的细节。尽管把其他组件添加到比如JButton中毫无意义,JComponent依然扩展自Container。Swing的设计者们理想情况下应该会更倾向于图10-4中的设计。但在Java中那是不可能的。请解释这是为什么？Scala中如何用特质来设计出这样的效果?"
   ]
  },
  {
   "cell_type": "markdown",
   "metadata": {},
   "source": [
    "A: Java只能单继承,JContainer不能同时继承自Container和JComponent。Scala可以通过特质解决这个问题.\n",
    "```scala\n",
    "trait Component {}\n",
    "trait JComponent extends Component {}\n",
    "class JButton extends JComponent {}\n",
    "\n",
    "trait Container extends Component {}\n",
    "trait JContainer extends JComponent with Container {}\n",
    "class JPanel extends JContainer {}\n",
    "```"
   ]
  },
  {
   "cell_type": "markdown",
   "metadata": {},
   "source": [
    "## 10.7\n",
    "市面上有不下数十种关于Scala特质的教程,用的都是些\"在叫的狗\"啦，\"讲哲学的青蛙\"啦之类的傻乎乎的例子。阅读和理解这些机巧的继承层级很乏味且对于理解问题没什么帮助,但自己设计一套继承层级就不同了,会很有启发。做一个你自己的关于特质的继承层级，要求体现出叠加在一起的特质,具体的和抽象的方法，以及具体的和抽象的字段"
   ]
  },
  {
   "cell_type": "code",
   "execution_count": 13,
   "metadata": {},
   "outputs": [
    {
     "name": "stdout",
     "output_type": "stream",
     "text": [
      "walk\n",
      "BlueBird flywithnowing\n",
      "flying\n"
     ]
    },
    {
     "data": {
      "text/plain": [
       "defined \u001b[32mtrait\u001b[39m \u001b[36mFly\u001b[39m\n",
       "defined \u001b[32mtrait\u001b[39m \u001b[36mWalk\u001b[39m\n",
       "defined \u001b[32mclass\u001b[39m \u001b[36mBird\u001b[39m\n",
       "defined \u001b[32mclass\u001b[39m \u001b[36mBlueBird\u001b[39m\n",
       "\u001b[36mb\u001b[39m: \u001b[32mBlueBird\u001b[39m = $sess.cmd12Wrapper$Helper$BlueBird@54c72117"
      ]
     },
     "execution_count": 13,
     "metadata": {},
     "output_type": "execute_result"
    }
   ],
   "source": [
    "trait Fly{\n",
    "  def fly() {\n",
    "    println(\"flying\")\n",
    "  }\n",
    "\n",
    "  def flywithnowing()\n",
    "}\n",
    "\n",
    "trait Walk{\n",
    "  def walk(){\n",
    "    println(\"walk\")\n",
    "  }\n",
    "}\n",
    "\n",
    "class Bird{\n",
    "  var name:String = _\n",
    "}\n",
    "\n",
    "class BlueBird extends Bird with Fly with Walk{\n",
    "  def flywithnowing() {\n",
    "    println(\"BlueBird flywithnowing\")\n",
    "  }\n",
    "}\n",
    "\n",
    "val b = new BlueBird()\n",
    "b.walk()\n",
    "b.flywithnowing()\n",
    "b.fly()"
   ]
  },
  {
   "cell_type": "markdown",
   "metadata": {},
   "source": [
    "## 10.8\n",
    "在java.io类库中，你可以通过BufferedInputStream修饰器来给输入流增加缓冲机制。用特质来重新实现缓冲。简单起见，重写read方法"
   ]
  },
  {
   "cell_type": "code",
   "execution_count": 18,
   "metadata": {},
   "outputs": [
    {
     "name": "stdout",
     "output_type": "stream",
     "text": [
      "T\n",
      "h\n",
      "i\n",
      "s\n",
      " \n",
      "i\n",
      "s\n",
      " \n",
      "s\n",
      "c\n",
      "a\n",
      "l\n",
      "a\n",
      " \n",
      "e\n",
      "x\n",
      "c\n",
      "e\n",
      "r\n",
      "s\n",
      "i\n",
      "e\n",
      " \n",
      "o\n",
      "f\n",
      " \n",
      "c\n",
      "h\n",
      "a\n",
      "p\n"
     ]
    },
    {
     "data": {
      "text/plain": [
       "\u001b[32mimport \u001b[39m\u001b[36mjava.io.{FileInputStream, InputStream}\n",
       "\n",
       "\u001b[39m\n",
       "defined \u001b[32mtrait\u001b[39m \u001b[36mBuffering\u001b[39m\n",
       "\u001b[36mf\u001b[39m: \u001b[32mFileInputStream\u001b[39m with \u001b[32mwrapper\u001b[39m.\u001b[32mwrapper\u001b[39m.\u001b[32mBuffering\u001b[39m = $sess.cmd17Wrapper$Helper$$anon$1@1a4e24"
      ]
     },
     "execution_count": 18,
     "metadata": {},
     "output_type": "execute_result"
    }
   ],
   "source": [
    "import java.io.{FileInputStream, InputStream}\n",
    "\n",
    "trait Buffering {\n",
    "    this: InputStream =>\n",
    "\n",
    "    val BUF_SIZE: Int = 5\n",
    "    val buf: Array[Byte] = new Array[Byte](BUF_SIZE)\n",
    "    var bufsize: Int = 0 // 缓存数据大小\n",
    "    var pos: Int = 0 // 当前位置\n",
    "    \n",
    "    override def read(): Int = {\n",
    "        if (pos >= bufsize) { // 读取数据\n",
    "            bufsize = this.read(buf, 0, BUF_SIZE)\n",
    "            if (bufsize <= 0) return bufsize\n",
    "            pos = 0\n",
    "        }\n",
    "        pos += 1 // 移位\n",
    "        buf(pos - 1) // 返回数据\n",
    "    }\n",
    "}\n",
    "\n",
    "val f = new FileInputStream(\"myfile.txt\") with Buffering\n",
    "for (i <- 1 to 30) println(f.read() toChar)"
   ]
  },
  {
   "cell_type": "markdown",
   "metadata": {},
   "source": [
    "## 10.9\n",
    "使用本章的日志生成器特质, 给前一个练习中的方案增加日志功能, 要求体现出缓冲的效果"
   ]
  },
  {
   "cell_type": "code",
   "execution_count": 23,
   "metadata": {},
   "outputs": [
    {
     "name": "stdout",
     "output_type": "stream",
     "text": [
      "buffered 5 bytes: This \n",
      "T\n",
      "h\n",
      "i\n",
      "s\n",
      " \n",
      "buffered 5 bytes: is sc\n",
      "i\n",
      "s\n",
      " \n",
      "s\n",
      "c\n",
      "buffered 5 bytes: ala e\n",
      "a\n",
      "l\n",
      "a\n",
      " \n",
      "e\n",
      "buffered 5 bytes: xcers\n",
      "x\n",
      "c\n",
      "e\n",
      "r\n",
      "s\n",
      "buffered 5 bytes: ie of\n",
      "i\n",
      "e\n",
      " \n",
      "o\n",
      "f\n",
      "buffered 5 bytes:  chap\n",
      " \n",
      "c\n",
      "h\n",
      "a\n",
      "p\n"
     ]
    },
    {
     "data": {
      "text/plain": [
       "\u001b[32mimport \u001b[39m\u001b[36mjava.io.{FileInputStream, InputStream}\n",
       "\n",
       "\u001b[39m\n",
       "defined \u001b[32mtrait\u001b[39m \u001b[36mLogger\u001b[39m\n",
       "defined \u001b[32mtrait\u001b[39m \u001b[36mPrintLogger\u001b[39m\n",
       "defined \u001b[32mtrait\u001b[39m \u001b[36mBuffering\u001b[39m\n",
       "\u001b[36mf\u001b[39m: \u001b[32mFileInputStream\u001b[39m with \u001b[32mwrapper\u001b[39m.\u001b[32mwrapper\u001b[39m.\u001b[32mBuffering\u001b[39m with \u001b[32mwrapper\u001b[39m.\u001b[32mwrapper\u001b[39m.\u001b[32mPrintLogger\u001b[39m = $sess.cmd22Wrapper$Helper$$anon$1@62dbfad2"
      ]
     },
     "execution_count": 23,
     "metadata": {},
     "output_type": "execute_result"
    }
   ],
   "source": [
    "import java.io.{FileInputStream, InputStream}\n",
    "\n",
    "trait Logger {\n",
    "    def log(msg: String)\n",
    "}\n",
    "\n",
    "trait PrintLogger extends Logger {\n",
    "    def log(msg: String) = println(msg)\n",
    "}\n",
    "\n",
    "trait Buffering {\n",
    "    this: InputStream with Logger =>\n",
    "\n",
    "    val BUF_SIZE: Int = 5\n",
    "    val buf: Array[Byte] = new Array[Byte](BUF_SIZE)\n",
    "    var bufsize: Int = 0 // 缓存数据大小\n",
    "    var pos: Int = 0 // 当前位置\n",
    "    \n",
    "    override def read(): Int = {\n",
    "        if (pos >= bufsize) { // 读取数据\n",
    "            bufsize = this.read(buf, 0, BUF_SIZE)\n",
    "            if (bufsize <= 0) return bufsize\n",
    "            log(\"buffered %d bytes: %s\".format(bufsize, buf.map(_.toChar).mkString(\"\")))\n",
    "            pos = 0\n",
    "        }\n",
    "        pos += 1 // 移位\n",
    "        buf(pos - 1) // 返回数据\n",
    "    }\n",
    "}\n",
    "\n",
    "val f = new FileInputStream(\"myfile.txt\") with Buffering with PrintLogger\n",
    "for (i <- 1 to 30) println(f.read() toChar)"
   ]
  },
  {
   "cell_type": "markdown",
   "metadata": {},
   "source": [
    "## 10.10\n",
    "实现一个IterableInputStream类，扩展java.io.InputStream并混入Iterable[Byte]特质"
   ]
  },
  {
   "cell_type": "code",
   "execution_count": 29,
   "metadata": {},
   "outputs": [
    {
     "name": "stdout",
     "output_type": "stream",
     "text": [
      "T\n",
      "h\n",
      "i\n",
      "s\n",
      " \n",
      "i\n",
      "s\n",
      " \n",
      "s\n",
      "c\n",
      "a\n",
      "l\n",
      "a\n",
      " \n",
      "e\n",
      "x\n",
      "c\n",
      "e\n",
      "r\n",
      "s\n",
      "i\n",
      "e\n",
      " \n",
      "o\n",
      "f\n",
      " \n",
      "c\n",
      "h\n",
      "a\n",
      "p\n",
      "t\n",
      "e\n",
      "r\n",
      " \n",
      "3\n",
      " \n",
      "i\n",
      "n\n",
      " \n",
      "j\n",
      "u\n",
      "p\n",
      "y\n",
      "t\n",
      "e\n",
      "r\n",
      " \n",
      "n\n",
      "o\n",
      "t\n",
      "e\n",
      "b\n",
      "o\n",
      "o\n",
      "k\n",
      " \n",
      "s\n",
      "c\n",
      "a\n",
      "l\n",
      "a\n",
      " \n",
      "e\n",
      "n\n",
      "v\n",
      "i\n",
      "r\n",
      "o\n",
      "n\n",
      "m\n",
      "e\n",
      "n\n",
      "t\n",
      "\n",
      "\n"
     ]
    },
    {
     "data": {
      "text/plain": [
       "\u001b[32mimport \u001b[39m\u001b[36mjava.io.{FileInputStream, InputStream}\n",
       "\n",
       "\u001b[39m\n",
       "defined \u001b[32mtrait\u001b[39m \u001b[36mIterableInputStream\u001b[39m\n",
       "\u001b[36mfis\u001b[39m: \u001b[32mFileInputStream\u001b[39m with \u001b[32mIterableInputStream\u001b[39m = \u001b[33mcmd28Wrapper\u001b[39m()\n",
       "\u001b[36mit\u001b[39m: \u001b[32mIterator\u001b[39m[\u001b[32mByte\u001b[39m] = empty iterator"
      ]
     },
     "execution_count": 29,
     "metadata": {},
     "output_type": "execute_result"
    }
   ],
   "source": [
    "import java.io.{FileInputStream, InputStream}\n",
    "\n",
    "trait IterableInputStream extends InputStream with Iterable[Byte] {\n",
    "    class InputStreamIterator(outer: IterableInputStream) extends Iterator[Byte] {\n",
    "        def hasNext: Boolean = outer.available() > 0\n",
    "        \n",
    "        def next: Byte = outer.read().toByte\n",
    "    }\n",
    "    \n",
    "    override def iterator: Iterator[Byte] = new InputStreamIterator(this)\n",
    "}\n",
    "\n",
    "val fis = new FileInputStream(\"myfile.txt\") with IterableInputStream\n",
    "val it = fis.iterator\n",
    "while (it.hasNext) {\n",
    "    println(it.next() toChar)\n",
    "}\n",
    "// fis.close()"
   ]
  },
  {
   "cell_type": "code",
   "execution_count": null,
   "metadata": {
    "collapsed": true
   },
   "outputs": [],
   "source": []
  }
 ],
 "metadata": {
  "kernelspec": {
   "display_name": "Scala",
   "language": "scala",
   "name": "scala"
  },
  "language_info": {
   "codemirror_mode": "text/x-scala",
   "file_extension": ".scala",
   "mimetype": "text/x-scala",
   "name": "scala211",
   "nbconvert_exporter": "script",
   "pygments_lexer": "scala",
   "version": "2.11.11"
  }
 },
 "nbformat": 4,
 "nbformat_minor": 1
}
