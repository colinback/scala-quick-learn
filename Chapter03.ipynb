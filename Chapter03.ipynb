{
 "cells": [
  {
   "cell_type": "markdown",
   "metadata": {},
   "source": [
    "# Chapter 3"
   ]
  },
  {
   "cell_type": "markdown",
   "metadata": {},
   "source": [
    "## 3.1\n",
    "编写一段代码，将a设置为一个n个随机整数的数组，要求随机数介于0和n之间。"
   ]
  },
  {
   "cell_type": "code",
   "execution_count": 7,
   "metadata": {},
   "outputs": [
    {
     "name": "stdout",
     "output_type": "stream",
     "text": [
      "0,2,0,4,1\n"
     ]
    },
    {
     "data": {
      "text/plain": [
       "defined \u001b[32mfunction\u001b[39m \u001b[36mgenerateRandomNumber\u001b[39m"
      ]
     },
     "execution_count": 7,
     "metadata": {},
     "output_type": "execute_result"
    }
   ],
   "source": [
    "def generateRandomNumber(n: Int) = {\n",
    "    (for(i <- 1 to n) yield util.Random.nextInt(n)) toArray\n",
    "}\n",
    "\n",
    "println(generateRandomNumber(5).mkString(\",\"))"
   ]
  },
  {
   "cell_type": "markdown",
   "metadata": {},
   "source": [
    "## 3.2\n",
    "编写一个循环，将整数数组中相邻的元素置换。"
   ]
  },
  {
   "cell_type": "code",
   "execution_count": 17,
   "metadata": {},
   "outputs": [
    {
     "name": "stdout",
     "output_type": "stream",
     "text": [
      "4 3 2 1 3\n"
     ]
    },
    {
     "data": {
      "text/plain": [
       "\u001b[32mimport \u001b[39m\u001b[36mscala.collection.mutable.ArrayBuffer\n",
       "\n",
       "\u001b[39m\n",
       "defined \u001b[32mfunction\u001b[39m \u001b[36mswapElementInArray\u001b[39m"
      ]
     },
     "execution_count": 17,
     "metadata": {},
     "output_type": "execute_result"
    }
   ],
   "source": [
    "import scala.collection.mutable.ArrayBuffer\n",
    "\n",
    "def swapElementInArray(arr: Array[Int]): Array[Int] = {\n",
    "    val result = ArrayBuffer[Int]()\n",
    "    for (i <- 0 until (arr.length, 2)) {\n",
    "        if(i+1 < arr.length)\n",
    "            result += (arr(i+1), arr(i))\n",
    "        else\n",
    "            result += arr(i)\n",
    "    }\n",
    "    result toArray\n",
    "}\n",
    "println(swapElementInArray(Array(3,4,1,2,3)).mkString(\" \"))"
   ]
  },
  {
   "cell_type": "code",
   "execution_count": 18,
   "metadata": {},
   "outputs": [
    {
     "name": "stdout",
     "output_type": "stream",
     "text": [
      "4 3 2 1 3\n"
     ]
    },
    {
     "data": {
      "text/plain": [
       "defined \u001b[32mfunction\u001b[39m \u001b[36mswapElementInArray\u001b[39m"
      ]
     },
     "execution_count": 18,
     "metadata": {},
     "output_type": "execute_result"
    }
   ],
   "source": [
    "def swapElementInArray(arr: Array[Int]): Array[Int] = {\n",
    "    val length = arr.length\n",
    "    for (i <- 0 until (if(length % 2 == 0) length else length-1, 2)) {\n",
    "        val tmp = arr(i)\n",
    "        arr(i) = arr(i+1)\n",
    "        arr(i+1) = tmp\n",
    "    }\n",
    "    arr\n",
    "}\n",
    "println(swapElementInArray(Array(3,4,1,2,3)).mkString(\" \"))"
   ]
  },
  {
   "cell_type": "markdown",
   "metadata": {},
   "source": [
    "## 3.3\n",
    "重复前一个练习，不过这次生成一个新的值交换过的数组。用for/yield。"
   ]
  },
  {
   "cell_type": "code",
   "execution_count": 22,
   "metadata": {},
   "outputs": [
    {
     "name": "stdout",
     "output_type": "stream",
     "text": [
      "4 3 2 1 3\n"
     ]
    },
    {
     "data": {
      "text/plain": [
       "defined \u001b[32mfunction\u001b[39m \u001b[36mswapElementInArray\u001b[39m"
      ]
     },
     "execution_count": 22,
     "metadata": {},
     "output_type": "execute_result"
    }
   ],
   "source": [
    "def swapElementInArray(arr: Array[Int]): Array[Int] = {\n",
    "    // yield 返回类型为scala.collection.immutable.IndexedSeq[Int]\n",
    "    (for (i <- 0 until arr.length) yield {\n",
    "        if(i % 2 == 0)\n",
    "            if (i + 1 < arr.length) arr(i+1) else arr(i)\n",
    "        else\n",
    "            arr(i-1)\n",
    "    }) toArray\n",
    "}\n",
    "\n",
    "println(swapElementInArray(Array(3,4,1,2,3)).mkString(\" \"))"
   ]
  },
  {
   "cell_type": "markdown",
   "metadata": {},
   "source": [
    "## 3.4\n",
    "给定一个整数数组，产出一个新的数组，包含元数组中的所有正值，\n",
    "以原有顺序排列，之后的元素是所有零或负值，以原有顺序排列。"
   ]
  },
  {
   "cell_type": "code",
   "execution_count": 29,
   "metadata": {},
   "outputs": [
    {
     "name": "stdout",
     "output_type": "stream",
     "text": [
      "1 5 7 -3 0 -10\n"
     ]
    },
    {
     "data": {
      "text/plain": [
       "defined \u001b[32mfunction\u001b[39m \u001b[36mPositiveNegativeArray\u001b[39m"
      ]
     },
     "execution_count": 29,
     "metadata": {},
     "output_type": "execute_result"
    }
   ],
   "source": [
    "def PositiveNegativeArray(arr: Array[Int]): Array[Int] = {\n",
    "    arr.filter( _ > 0 ) ++ (arr filter { _ <= 0 })\n",
    "}\n",
    "\n",
    "println(PositiveNegativeArray(Array(1, -3, 5, 0, -10, 7)).mkString(\" \"))"
   ]
  },
  {
   "cell_type": "markdown",
   "metadata": {},
   "source": [
    "## 3.5\n",
    "如何计算Array[Double]的平均值？"
   ]
  },
  {
   "cell_type": "code",
   "execution_count": 33,
   "metadata": {},
   "outputs": [
    {
     "name": "stdout",
     "output_type": "stream",
     "text": [
      "2.6666666666666665\n"
     ]
    },
    {
     "data": {
      "text/plain": [
       "defined \u001b[32mfunction\u001b[39m \u001b[36msumOfArray\u001b[39m"
      ]
     },
     "execution_count": 33,
     "metadata": {},
     "output_type": "execute_result"
    }
   ],
   "source": [
    "def sumOfArray(arr: Array[Double]) = {\n",
    "    arr.sum / arr.length\n",
    "}\n",
    "\n",
    "println(sumOfArray(Array(1, -3, 5, 0, 6, 7)))"
   ]
  },
  {
   "cell_type": "markdown",
   "metadata": {},
   "source": [
    "## 3.6\n",
    "如何重新组织Array[Int]的元素将它们反序排列？对于ArrayBuffer[Int]你又会怎么做呢？"
   ]
  },
  {
   "cell_type": "code",
   "execution_count": 34,
   "metadata": {},
   "outputs": [
    {
     "name": "stdout",
     "output_type": "stream",
     "text": [
      "7 6 0 5 -3 1\n"
     ]
    },
    {
     "data": {
      "text/plain": [
       "defined \u001b[32mfunction\u001b[39m \u001b[36mreverseArray\u001b[39m"
      ]
     },
     "execution_count": 34,
     "metadata": {},
     "output_type": "execute_result"
    }
   ],
   "source": [
    "def reverseArray(arr: Array[Int]) = {\n",
    "    arr.reverse\n",
    "}\n",
    "\n",
    "println(reverseArray(Array(1, -3, 5, 0, 6, 7)).mkString(\" \"))"
   ]
  },
  {
   "cell_type": "markdown",
   "metadata": {},
   "source": [
    "## 3.7\n",
    "编写一段代码，产出数组中的所有值，去掉重复项。"
   ]
  },
  {
   "cell_type": "code",
   "execution_count": 36,
   "metadata": {},
   "outputs": [
    {
     "name": "stdout",
     "output_type": "stream",
     "text": [
      "1 -3 7 6\n"
     ]
    },
    {
     "data": {
      "text/plain": [
       "defined \u001b[32mfunction\u001b[39m \u001b[36mdistinctArray\u001b[39m"
      ]
     },
     "execution_count": 36,
     "metadata": {},
     "output_type": "execute_result"
    }
   ],
   "source": [
    "def distinctArray(arr: Array[Int]) = {\n",
    "    arr distinct\n",
    "}\n",
    "\n",
    "println(distinctArray(Array(1, -3, 1, 7, 6, 7)).mkString(\" \"))"
   ]
  },
  {
   "cell_type": "markdown",
   "metadata": {},
   "source": [
    "## 3.8\n",
    "重新编写3.4节结尾的示例。收集负值元素的下标，反序，去掉最后一个下标，\n",
    "然后对每一个下标调用a.remove(i)。比较这样做的效率和3.4节中另外两种方法的效率。"
   ]
  },
  {
   "cell_type": "code",
   "execution_count": 44,
   "metadata": {},
   "outputs": [
    {
     "name": "stdout",
     "output_type": "stream",
     "text": [
      "1 -3 7\n"
     ]
    },
    {
     "data": {
      "text/plain": [
       "\u001b[32mimport \u001b[39m\u001b[36mscala.collection.mutable.ArrayBuffer\n",
       "\n",
       "\u001b[39m\n",
       "defined \u001b[32mfunction\u001b[39m \u001b[36mkeepFirstNegative\u001b[39m"
      ]
     },
     "execution_count": 44,
     "metadata": {},
     "output_type": "execute_result"
    }
   ],
   "source": [
    "import scala.collection.mutable.ArrayBuffer\n",
    "\n",
    "def keepFirstNegative(arr: ArrayBuffer[Int]) = {\n",
    "    (for (i <- 0 until arr.length if (arr(i) < 0)) yield i).reverse.init foreach { arr remove _ }\n",
    "    arr\n",
    "}\n",
    "\n",
    "println(keepFirstNegative(ArrayBuffer(1, -3, -4, -5, 7)).mkString(\" \"))"
   ]
  },
  {
   "cell_type": "markdown",
   "metadata": {},
   "source": [
    "## 3.9\n",
    "创建一个由java.util.TimeZone.getAvailableIDs返回的时区集合，判断条件是它们在美洲，去掉”America/“前缀并排序。"
   ]
  },
  {
   "cell_type": "code",
   "execution_count": 51,
   "metadata": {},
   "outputs": [
    {
     "data": {
      "text/plain": [
       "\u001b[32mimport \u001b[39m\u001b[36mjava.util.TimeZone\n",
       "\n",
       "\u001b[39m\n",
       "defined \u001b[32mfunction\u001b[39m \u001b[36msortTimezone\u001b[39m\n",
       "\u001b[36mres50_2\u001b[39m: \u001b[32mArray\u001b[39m[\u001b[32mString\u001b[39m] = \u001b[33mArray\u001b[39m(\n",
       "  \u001b[32m\"Adak\"\u001b[39m,\n",
       "  \u001b[32m\"Anchorage\"\u001b[39m,\n",
       "  \u001b[32m\"Anguilla\"\u001b[39m,\n",
       "  \u001b[32m\"Antigua\"\u001b[39m,\n",
       "  \u001b[32m\"Araguaina\"\u001b[39m,\n",
       "  \u001b[32m\"Argentina/Buenos_Aires\"\u001b[39m,\n",
       "  \u001b[32m\"Argentina/Catamarca\"\u001b[39m,\n",
       "  \u001b[32m\"Argentina/ComodRivadavia\"\u001b[39m,\n",
       "  \u001b[32m\"Argentina/Cordoba\"\u001b[39m,\n",
       "  \u001b[32m\"Argentina/Jujuy\"\u001b[39m,\n",
       "  \u001b[32m\"Argentina/La_Rioja\"\u001b[39m,\n",
       "\u001b[33m...\u001b[39m"
      ]
     },
     "execution_count": 51,
     "metadata": {},
     "output_type": "execute_result"
    }
   ],
   "source": [
    "import java.util.TimeZone\n",
    "\n",
    "def sortTimezone() = {\n",
    "    TimeZone.getAvailableIDs filter { _ startsWith \"America\" } map { _.drop(8) } sortBy { x => x }\n",
    "}\n",
    "\n",
    "sortTimezone"
   ]
  },
  {
   "cell_type": "markdown",
   "metadata": {},
   "source": [
    "## 3.10\n",
    "引入java.awt.datatransfer._并构建一个类型为SystemFlavorMap类型的对象，\n",
    "然后以DataFlavor.imageFlavor为参数调用getNativesForFlavor方法，以Scala缓冲保存返回值。"
   ]
  },
  {
   "cell_type": "code",
   "execution_count": 53,
   "metadata": {},
   "outputs": [
    {
     "name": "stdout",
     "output_type": "stream",
     "text": [
      "PNG | JFIF | TIFF\n"
     ]
    },
    {
     "data": {
      "text/plain": [
       "\u001b[32mimport \u001b[39m\u001b[36mjava.awt.datatransfer._\n",
       "\n",
       "\u001b[39m\n",
       "\u001b[36mflavorMap\u001b[39m: \u001b[32mSystemFlavorMap\u001b[39m = java.awt.datatransfer.SystemFlavorMap@642b7358\n",
       "\u001b[36mflavors\u001b[39m: \u001b[32mjava\u001b[39m.\u001b[32mutil\u001b[39m.\u001b[32mList\u001b[39m[\u001b[32mString\u001b[39m] = [PNG, JFIF, TIFF]"
      ]
     },
     "execution_count": 53,
     "metadata": {},
     "output_type": "execute_result"
    }
   ],
   "source": [
    "import java.awt.datatransfer._\n",
    "\n",
    "val flavorMap = SystemFlavorMap.getDefaultFlavorMap().asInstanceOf[SystemFlavorMap]\n",
    "val flavors = flavorMap.getNativesForFlavor(DataFlavor.imageFlavor)\n",
    "println(flavors.toArray.mkString(\" | \")) "
   ]
  },
  {
   "cell_type": "code",
   "execution_count": null,
   "metadata": {
    "collapsed": true
   },
   "outputs": [],
   "source": []
  }
 ],
 "metadata": {
  "kernelspec": {
   "display_name": "Scala",
   "language": "scala",
   "name": "scala"
  },
  "language_info": {
   "codemirror_mode": "text/x-scala",
   "file_extension": ".scala",
   "mimetype": "text/x-scala",
   "name": "scala211",
   "nbconvert_exporter": "script",
   "pygments_lexer": "scala",
   "version": "2.11.11"
  }
 },
 "nbformat": 4,
 "nbformat_minor": 1
}
