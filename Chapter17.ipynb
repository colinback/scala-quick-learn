{
 "cells": [
  {
   "cell_type": "markdown",
   "metadata": {},
   "source": [
    "# Chapter 17"
   ]
  },
  {
   "cell_type": "markdown",
   "metadata": {},
   "source": [
    "## 17.1\n",
    "定义一个不可变类Pair[T,S]，带一个swap方法，返回组件交换过位置的新对偶。"
   ]
  },
  {
   "cell_type": "code",
   "execution_count": 3,
   "metadata": {},
   "outputs": [
    {
     "data": {
      "text/plain": [
       "defined \u001b[32mclass\u001b[39m \u001b[36mPair\u001b[39m\n",
       "\u001b[36mpair\u001b[39m: \u001b[32mwrapper\u001b[39m.\u001b[32mwrapper\u001b[39m.\u001b[32mPair\u001b[39m[\u001b[32mInt\u001b[39m, \u001b[32mChar\u001b[39m] = $sess.cmd2Wrapper$Helper$Pair@3fedb245\n",
       "\u001b[36mres2_2\u001b[39m: (\u001b[32mChar\u001b[39m, \u001b[32mInt\u001b[39m) = (\u001b[32m'a'\u001b[39m, \u001b[32m97\u001b[39m)"
      ]
     },
     "execution_count": 3,
     "metadata": {},
     "output_type": "execute_result"
    }
   ],
   "source": [
    "/*\n",
    "import scala.Tuple2;\n",
    "\n",
    "public class Pair<T, S>\n",
    "{\n",
    "    private final Tuple2<T, S> p;\n",
    "\n",
    "    public Tuple2<T, S> p() {\n",
    "        return this.p;\n",
    "    }\n",
    "\n",
    "    public Tuple2<S, T> swap() {\n",
    "        return (Tuple2<S, T>)new Tuple2(this.p()._2(), this.p()._1());\n",
    "    }\n",
    "\n",
    "    public Pair(final Tuple2<T, S> p) {\n",
    "        this.p = p;\n",
    "    }\n",
    "}\n",
    "*/\n",
    "class Pair[T, S](val p: (T, S)) {\n",
    "  def swap = {\n",
    "    (p._2, p._1)\n",
    "  }\n",
    "}\n",
    "\n",
    "val pair = new Pair(97 -> 'a')\n",
    "pair.swap"
   ]
  },
  {
   "cell_type": "markdown",
   "metadata": {},
   "source": [
    "## 17.2\n",
    "定义一个可变类Pair[T]，带一个swap方法，交换对偶中组件的位置。"
   ]
  },
  {
   "cell_type": "code",
   "execution_count": 5,
   "metadata": {},
   "outputs": [
    {
     "data": {
      "text/plain": [
       "defined \u001b[32mclass\u001b[39m \u001b[36mPair\u001b[39m\n",
       "\u001b[36mpair\u001b[39m: \u001b[32mwrapper\u001b[39m.\u001b[32mwrapper\u001b[39m.\u001b[32mPair\u001b[39m[\u001b[32mAnyVal\u001b[39m] = $sess.cmd4Wrapper$Helper$Pair@52e5e608\n",
       "\u001b[36mres4_2\u001b[39m: (\u001b[32mAnyVal\u001b[39m, \u001b[32mAnyVal\u001b[39m) = (a, 97)"
      ]
     },
     "execution_count": 5,
     "metadata": {},
     "output_type": "execute_result"
    }
   ],
   "source": [
    "class Pair[T](var p: (T, T)) {\n",
    "  def swap = {\n",
    "    (p._2, p._1)\n",
    "  }\n",
    "}\n",
    "\n",
    "val pair = new Pair(97 -> 'a')\n",
    "pair.swap"
   ]
  },
  {
   "cell_type": "markdown",
   "metadata": {},
   "source": [
    "## 17.3\n",
    "给定类Pair[T,S]，编写一个泛型方法swap，接受对偶作为参数并返回组件交换过位置的新对偶。"
   ]
  },
  {
   "cell_type": "code",
   "execution_count": 6,
   "metadata": {},
   "outputs": [
    {
     "data": {
      "text/plain": [
       "defined \u001b[32mclass\u001b[39m \u001b[36mPair\u001b[39m\n",
       "\u001b[36mpair\u001b[39m: \u001b[32mwrapper\u001b[39m.\u001b[32mwrapper\u001b[39m.\u001b[32mPair\u001b[39m[\u001b[32mNothing\u001b[39m, \u001b[32mNothing\u001b[39m] = $sess.cmd5Wrapper$Helper$Pair@2af941a0\n",
       "\u001b[36mres5_2\u001b[39m: (\u001b[32mChar\u001b[39m, \u001b[32mInt\u001b[39m) = (\u001b[32m'a'\u001b[39m, \u001b[32m97\u001b[39m)"
      ]
     },
     "execution_count": 6,
     "metadata": {},
     "output_type": "execute_result"
    }
   ],
   "source": [
    "class Pair[T, S] {\n",
    "  def swap[T, S] (p : (T, S)) = {\n",
    "    (p._2, p._1)\n",
    "  }\n",
    "}\n",
    "\n",
    "val pair = new Pair\n",
    "pair.swap(97 -> 'a')"
   ]
  },
  {
   "cell_type": "markdown",
   "metadata": {},
   "source": [
    "## 17.4\n",
    "在17.3节中，如果我们想把Pair[Person]的第一个组件替换成Student，为什么不需要给replaceFirst方法定一个下界？"
   ]
  },
  {
   "cell_type": "markdown",
   "metadata": {},
   "source": [
    "A: 因为Student是Pair的子类，所以不需要给replaceFirst方法定一个下界即可把Pair[Person]的第一个组件替换成Student。"
   ]
  },
  {
   "cell_type": "code",
   "execution_count": 7,
   "metadata": {},
   "outputs": [
    {
     "data": {
      "text/plain": [
       "defined \u001b[32mclass\u001b[39m \u001b[36mPerson\u001b[39m\n",
       "defined \u001b[32mclass\u001b[39m \u001b[36mStudent\u001b[39m\n",
       "defined \u001b[32mclass\u001b[39m \u001b[36mPair\u001b[39m\n",
       "\u001b[36mp1\u001b[39m: \u001b[32mPerson\u001b[39m = $sess.cmd6Wrapper$Helper$Person@955db38\n",
       "\u001b[36mp2\u001b[39m: \u001b[32mPerson\u001b[39m = $sess.cmd6Wrapper$Helper$Person@db45909\n",
       "\u001b[36ms1\u001b[39m: \u001b[32mStudent\u001b[39m = $sess.cmd6Wrapper$Helper$Student@628c9a96\n",
       "\u001b[36mpair\u001b[39m: \u001b[32mwrapper\u001b[39m.\u001b[32mwrapper\u001b[39m.\u001b[32mPair\u001b[39m[\u001b[32mPerson\u001b[39m] = $sess.cmd6Wrapper$Helper$Pair@75627a56\n",
       "\u001b[36mres6_7\u001b[39m: \u001b[32mwrapper\u001b[39m.\u001b[32mwrapper\u001b[39m.\u001b[32mPair\u001b[39m[\u001b[32mPerson\u001b[39m] = $sess.cmd6Wrapper$Helper$Pair@52c9e3d9"
      ]
     },
     "execution_count": 7,
     "metadata": {},
     "output_type": "execute_result"
    }
   ],
   "source": [
    "class Person\n",
    "class Student extends Person\n",
    "\n",
    "class Pair[T](val first: T, val second: T) {\n",
    "  def replaceFirst(newFirst: T) = new Pair[T](newFirst, second)\n",
    "}\n",
    "\n",
    "val p1 = new Person\n",
    "val p2 = new Person\n",
    "val s1 = new Student\n",
    "val pair = new Pair(p1, p2)\n",
    "pair.replaceFirst(s1) //返回值类型为  Pair[Person]"
   ]
  },
  {
   "cell_type": "markdown",
   "metadata": {},
   "source": [
    "## 17.5\n",
    "为什么RichInt实现的是 Comparable[Int]而不是Comparable[RichInt]？"
   ]
  },
  {
   "cell_type": "markdown",
   "metadata": {},
   "source": [
    "A: 由于隐式转换的原因, Int可以被隐式转换成RinchInt, 所以实现Comparable[Int]可以更通用, 调用compareTo(Int)也可以调用compareTo(RichInt)"
   ]
  },
  {
   "cell_type": "code",
   "execution_count": 8,
   "metadata": {},
   "outputs": [
    {
     "data": {
      "text/plain": [
       "\u001b[32mimport \u001b[39m\u001b[36mscala.runtime.RichInt\n",
       "\n",
       "\u001b[39m\n",
       "\u001b[36ma\u001b[39m: \u001b[32mruntime\u001b[39m.\u001b[32mRichInt\u001b[39m = 1\n",
       "\u001b[36mb\u001b[39m: \u001b[32mruntime\u001b[39m.\u001b[32mRichInt\u001b[39m = 2\n",
       "\u001b[36mc\u001b[39m: \u001b[32mInt\u001b[39m = \u001b[32m3\u001b[39m\n",
       "\u001b[36mres7_4\u001b[39m: \u001b[32mInt\u001b[39m = \u001b[32m3\u001b[39m"
      ]
     },
     "execution_count": 8,
     "metadata": {},
     "output_type": "execute_result"
    }
   ],
   "source": [
    "import scala.runtime.RichInt\n",
    "\n",
    "val a = new RichInt(1)\n",
    "val b = new RichInt(2)\n",
    "val c = 3\n",
    "\n",
    "// type mismatch; found: scala.runtime.RichInt required: Int\n",
    "// a max b  \n",
    "a max c"
   ]
  },
  {
   "cell_type": "markdown",
   "metadata": {},
   "source": [
    "## 17.6\n",
    "编写一个泛型方法middle，返回任何Iterable[T]的中间元素。举例来说，middle[\"World\"]应得到'r'。"
   ]
  },
  {
   "cell_type": "code",
   "execution_count": 11,
   "metadata": {},
   "outputs": [
    {
     "data": {
      "text/plain": [
       "defined \u001b[32mfunction\u001b[39m \u001b[36mmiddle\u001b[39m\n",
       "\u001b[36mres10_1\u001b[39m: \u001b[32mChar\u001b[39m = \u001b[32m'r'\u001b[39m"
      ]
     },
     "execution_count": 11,
     "metadata": {},
     "output_type": "execute_result"
    }
   ],
   "source": [
    "def middle[T](iter: Iterable[T]): T = {\n",
    "    val lst = iter.toList\n",
    "    lst(lst.length / 2)\n",
    "}\n",
    "\n",
    "middle(\"World\")"
   ]
  },
  {
   "cell_type": "markdown",
   "metadata": {},
   "source": [
    "## 17.7\n",
    "查看Iterable[+A]特质。哪些方法使用了类型参数A？为什么在这些方法中类型参数位于协变点?"
   ]
  },
  {
   "cell_type": "markdown",
   "metadata": {},
   "source": [
    "A: foldLeft, foldRight, groupBy 等方法使用了类型参数A。因为在函数参数中，型变是反转过来的——它的参数是协变的。"
   ]
  },
  {
   "cell_type": "markdown",
   "metadata": {},
   "source": [
    "## 17.8\n",
    "在17.10节中，replaceFirst方法带有一个类型界定。为什么你不能对可变的Pair[T]定义一个等效的方法\n",
    "```\n",
    "def replaceFirst[R >: T](newFirst : R) { first = newFirst }  //错误\n",
    "```"
   ]
  },
  {
   "cell_type": "code",
   "execution_count": 12,
   "metadata": {},
   "outputs": [
    {
     "data": {
      "text/plain": [
       "defined \u001b[32mclass\u001b[39m \u001b[36mPair\u001b[39m"
      ]
     },
     "execution_count": 12,
     "metadata": {},
     "output_type": "execute_result"
    }
   ],
   "source": [
    "/*\n",
    "public class Pair<T>\n",
    "{\n",
    "    private T first;\n",
    "    private T second;\n",
    "\n",
    "    public T first() {\n",
    "        return this.first;\n",
    "    }\n",
    "\n",
    "    public void first_$eq(final T x$1) {\n",
    "        this.first = x$1;\n",
    "    }\n",
    "\n",
    "    public T second() {\n",
    "        return this.second;\n",
    "    }\n",
    "\n",
    "    public void second_$eq(final T x$1) {\n",
    "        this.second = x$1;\n",
    "    }\n",
    "\n",
    "    public <R extends T> void replaceFirst(final R newFirst) {\n",
    "        this.first_$eq(newFirst);\n",
    "    }\n",
    "\n",
    "    public Pair(final T first, final T second) {\n",
    "        this.first = first;\n",
    "        this.second = second;\n",
    "    }\n",
    "}\n",
    "*/\n",
    "class Pair[T](var first: T, var second: T) {\n",
    "  def replaceFirst[R <: T](newFirst: R) { first = newFirst }\n",
    "}"
   ]
  },
  {
   "cell_type": "markdown",
   "metadata": {},
   "source": [
    "A: first是T类型，则R必须是T的子类型，即R有一个上界T"
   ]
  },
  {
   "cell_type": "markdown",
   "metadata": {},
   "source": [
    "## 17.9\n",
    "在一个不可变类Pair[+T]中限制方法参数看上去可能有些奇怪。不过，先假定你可以在Pair[+T]中定义\n",
    "```\n",
    "def replaceFirst(newFirst : T)\n",
    "```\n",
    "问题在于，该方法可能会被重写（以某种不可靠的方式）。构造出这样的一个示例。定义一个Pair[Double]的子类NastyDoublePair，重写replaceFirst方法，用newFirst的平方根开做新对偶。然后对实际类型为 NastyDoublePair的 Pair[Any]调用 replaceFirst(\"Hello\")。"
   ]
  },
  {
   "cell_type": "code",
   "execution_count": 15,
   "metadata": {},
   "outputs": [
    {
     "data": {
      "text/plain": [
       "defined \u001b[32mclass\u001b[39m \u001b[36mPair\u001b[39m\n",
       "defined \u001b[32mclass\u001b[39m \u001b[36mNastyDoublePair\u001b[39m\n",
       "\u001b[36mres14_2\u001b[39m: (\u001b[32mDouble\u001b[39m, \u001b[32mDouble\u001b[39m) = (\u001b[32m4.0\u001b[39m, \u001b[32m1.0\u001b[39m)"
      ]
     },
     "execution_count": 15,
     "metadata": {},
     "output_type": "execute_result"
    }
   ],
   "source": [
    "class Pair[T] {\n",
    "    def replaceFirst(newFirst: T): Pair[T] = null\n",
    "}\n",
    "\n",
    "class NastyDoublePair[T >: Double](val p: (T, T)) extends Pair[T] {\n",
    "    override def replaceFirst(newFirst: T): NastyDoublePair[T] = new NastyDoublePair(math.sqrt(newFirst.asInstanceOf[Double]) -> p._2)\n",
    "}\n",
    "\n",
    "new NastyDoublePair[Double](2.0 -> 1.0).replaceFirst(16.0).p"
   ]
  },
  {
   "cell_type": "markdown",
   "metadata": {},
   "source": [
    "## 17.10\n",
    "给定可变类Pair[S, T]，使用类型约束定义一个swap方法，当类型参数相同时可以被调用。"
   ]
  },
  {
   "cell_type": "code",
   "execution_count": 16,
   "metadata": {},
   "outputs": [
    {
     "data": {
      "text/plain": [
       "defined \u001b[32mclass\u001b[39m \u001b[36mPair\u001b[39m\n",
       "\u001b[36mp\u001b[39m: \u001b[32mwrapper\u001b[39m.\u001b[32mwrapper\u001b[39m.\u001b[32mPair\u001b[39m[\u001b[32mChar\u001b[39m, \u001b[32mChar\u001b[39m] = $sess.cmd15Wrapper$Helper$Pair@5f92efa1\n",
       "\u001b[36mres15_2\u001b[39m: (\u001b[32mChar\u001b[39m, \u001b[32mChar\u001b[39m) = (\u001b[32m'a'\u001b[39m, \u001b[32m'b'\u001b[39m)"
      ]
     },
     "execution_count": 16,
     "metadata": {},
     "output_type": "execute_result"
    }
   ],
   "source": [
    "/*\n",
    "import scala.Predef;\n",
    "import scala.Tuple2;\n",
    "\n",
    "public class Pair<T, S>\n",
    "{\n",
    "    private Tuple2<T, S> p;\n",
    "\n",
    "    public Tuple2<T, S> p() {\n",
    "        return this.p;\n",
    "    }\n",
    "\n",
    "    public void p_$eq(final Tuple2<T, S> x$1) {\n",
    "        this.p = x$1;\n",
    "    }\n",
    "\n",
    "    public Tuple2<S, T> swap() {\n",
    "        return (Tuple2<S, T>)new Tuple2(this.p()._2(), this.p()._1());\n",
    "    }\n",
    "\n",
    "    public Pair(final Tuple2<T, S> p, final Predef.$eq$colon$eq<T, S> en) {\n",
    "        this.p = p;\n",
    "    }\n",
    "}\n",
    "*/\n",
    "class Pair[T, S](var p: (T, S))(implicit en: T =:= S) {\n",
    "  def swap = {\n",
    "    (p._2, p._1)\n",
    "  }\n",
    "}\n",
    "\n",
    "val p = new Pair('b' -> 'a')\n",
    "p.swap"
   ]
  },
  {
   "cell_type": "markdown",
   "metadata": {},
   "source": [
    "## 17.11\n",
    "协变表示它与T按同样的方向型变，比如Student是Person子类型，Pair[Student]也是Pair[Person]的子类型。"
   ]
  },
  {
   "cell_type": "code",
   "execution_count": 17,
   "metadata": {},
   "outputs": [
    {
     "data": {
      "text/plain": [
       "defined \u001b[32mclass\u001b[39m \u001b[36mPerson\u001b[39m\n",
       "defined \u001b[32mclass\u001b[39m \u001b[36mStudent\u001b[39m\n",
       "defined \u001b[32mclass\u001b[39m \u001b[36mPair\u001b[39m\n",
       "defined \u001b[32mfunction\u001b[39m \u001b[36mmakeFriends\u001b[39m\n",
       "\u001b[36mp1\u001b[39m: \u001b[32mwrapper\u001b[39m.\u001b[32mwrapper\u001b[39m.\u001b[32mStudent\u001b[39m = $sess.cmd16Wrapper$Helper$Student@7372639\n",
       "\u001b[36mp2\u001b[39m: \u001b[32mwrapper\u001b[39m.\u001b[32mwrapper\u001b[39m.\u001b[32mStudent\u001b[39m = $sess.cmd16Wrapper$Helper$Student@47dd38fa\n",
       "\u001b[36mpair\u001b[39m: \u001b[32mwrapper\u001b[39m.\u001b[32mwrapper\u001b[39m.\u001b[32mPair\u001b[39m[\u001b[32mwrapper\u001b[39m.\u001b[32mwrapper\u001b[39m.\u001b[32mStudent\u001b[39m] = $sess.cmd16Wrapper$Helper$Pair@287fc339"
      ]
     },
     "execution_count": 17,
     "metadata": {},
     "output_type": "execute_result"
    }
   ],
   "source": [
    "class Person\n",
    "class Student extends Person\n",
    "\n",
    "/*\n",
    "public class Pair<T>\n",
    "{\n",
    "    private final T first;\n",
    "    private final T second;\n",
    "\n",
    "    public T first() {\n",
    "        return this.first;\n",
    "    }\n",
    "\n",
    "    public T second() {\n",
    "        return this.second;\n",
    "    }\n",
    "\n",
    "    public Pair(final T first, final T second) {\n",
    "        this.first = first;\n",
    "        this.second = second;\n",
    "    }\n",
    "}\n",
    "*/\n",
    "class Pair[+T](val first: T, val second: T)\n",
    "\n",
    "def makeFriends(p: Pair[Person]) {}\n",
    "\n",
    "val p1 = new Student\n",
    "val p2 = new Student\n",
    "val pair = new Pair(p1, p2)\n",
    "makeFriends(pair)"
   ]
  },
  {
   "cell_type": "code",
   "execution_count": null,
   "metadata": {
    "collapsed": true
   },
   "outputs": [],
   "source": []
  }
 ],
 "metadata": {
  "kernelspec": {
   "display_name": "Scala",
   "language": "scala",
   "name": "scala"
  },
  "language_info": {
   "codemirror_mode": "text/x-scala",
   "file_extension": ".scala",
   "mimetype": "text/x-scala",
   "name": "scala211",
   "nbconvert_exporter": "script",
   "pygments_lexer": "scala",
   "version": "2.11.11"
  }
 },
 "nbformat": 4,
 "nbformat_minor": 1
}
