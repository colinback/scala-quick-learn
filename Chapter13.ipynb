{
 "cells": [
  {
   "cell_type": "markdown",
   "metadata": {},
   "source": [
    "# Chapter 13"
   ]
  },
  {
   "cell_type": "markdown",
   "metadata": {},
   "source": [
    "## 13.1\n",
    "编写一个函数,给定字符串, 产出一个包含所有字符的下标的映射. 举例来说,indexes(\"Mississippi\")应返回一个映射, 让'M'对应集{0}, 'i'对应集{1,4,7,10}, 以此类推。使用字符到可变集的映射, 另外, 你如何保证集是经过排序的?"
   ]
  },
  {
   "cell_type": "code",
   "execution_count": 3,
   "metadata": {},
   "outputs": [
    {
     "data": {
      "text/plain": [
       "\u001b[32mimport \u001b[39m\u001b[36mcollection.mutable.{Map, HashMap, SortedSet}\n",
       "\n",
       "\u001b[39m\n",
       "defined \u001b[32mfunction\u001b[39m \u001b[36mindexes\u001b[39m\n",
       "\u001b[36mres2_2\u001b[39m: \u001b[32mMap\u001b[39m[\u001b[32mChar\u001b[39m, \u001b[32mSortedSet\u001b[39m[\u001b[32mInt\u001b[39m]] = \u001b[33mMap\u001b[39m(\n",
       "  \u001b[32m'M'\u001b[39m -> \u001b[33mTreeSet\u001b[39m(\u001b[32m0\u001b[39m),\n",
       "  \u001b[32m's'\u001b[39m -> \u001b[33mTreeSet\u001b[39m(\u001b[32m2\u001b[39m, \u001b[32m3\u001b[39m, \u001b[32m5\u001b[39m, \u001b[32m6\u001b[39m),\n",
       "  \u001b[32m'p'\u001b[39m -> \u001b[33mTreeSet\u001b[39m(\u001b[32m8\u001b[39m, \u001b[32m9\u001b[39m),\n",
       "  \u001b[32m'i'\u001b[39m -> \u001b[33mTreeSet\u001b[39m(\u001b[32m1\u001b[39m, \u001b[32m4\u001b[39m, \u001b[32m7\u001b[39m, \u001b[32m10\u001b[39m)\n",
       ")"
      ]
     },
     "execution_count": 3,
     "metadata": {},
     "output_type": "execute_result"
    }
   ],
   "source": [
    "import collection.mutable.{Map, HashMap, SortedSet}\n",
    "\n",
    "def indexes(str: String): Map[Char, SortedSet[Int]] = {\n",
    "    val m = new HashMap[Char, SortedSet[Int]]()\n",
    "    for( i <- 0 until str.length) {\n",
    "        val c = str(i)\n",
    "         m.get(c) match {\n",
    "             case Some(set) => m(c) = set + i\n",
    "             case None => m += {c -> SortedSet(i)}\n",
    "         }   \n",
    "    }\n",
    "    m\n",
    "}\n",
    "\n",
    "indexes(\"Mississippi\")"
   ]
  },
  {
   "cell_type": "markdown",
   "metadata": {},
   "source": [
    "## 13.2\n",
    "重复前一个练习，这次用字符到列表的不可变映射。"
   ]
  },
  {
   "cell_type": "code",
   "execution_count": 7,
   "metadata": {},
   "outputs": [
    {
     "data": {
      "text/plain": [
       "\u001b[32mimport \u001b[39m\u001b[36mcollection.immutable.Map\n",
       "\u001b[39m\n",
       "\u001b[32mimport \u001b[39m\u001b[36mcollection.mutable.LinkedList\n",
       "\n",
       "\u001b[39m\n",
       "defined \u001b[32mfunction\u001b[39m \u001b[36mindexes\u001b[39m\n",
       "\u001b[36mres6_3\u001b[39m: \u001b[32mMap\u001b[39m[\u001b[32mChar\u001b[39m, \u001b[32mLinkedList\u001b[39m[\u001b[32mInt\u001b[39m]] = \u001b[33mMap\u001b[39m(\n",
       "  \u001b[32m'M'\u001b[39m -> \u001b[33mLinkedList\u001b[39m(\u001b[32m0\u001b[39m),\n",
       "  \u001b[32m'i'\u001b[39m -> \u001b[33mLinkedList\u001b[39m(\u001b[32m1\u001b[39m, \u001b[32m4\u001b[39m, \u001b[32m7\u001b[39m, \u001b[32m10\u001b[39m),\n",
       "  \u001b[32m's'\u001b[39m -> \u001b[33mLinkedList\u001b[39m(\u001b[32m2\u001b[39m, \u001b[32m3\u001b[39m, \u001b[32m5\u001b[39m, \u001b[32m6\u001b[39m),\n",
       "  \u001b[32m'p'\u001b[39m -> \u001b[33mLinkedList\u001b[39m(\u001b[32m8\u001b[39m, \u001b[32m9\u001b[39m)\n",
       ")"
      ]
     },
     "execution_count": 7,
     "metadata": {},
     "output_type": "execute_result"
    }
   ],
   "source": [
    "import collection.immutable.Map\n",
    "import collection.mutable.LinkedList\n",
    "\n",
    "def indexes(str: String): Map[Char, LinkedList[Int]] = {\n",
    "    (Map[Char, LinkedList[Int]]() /: (str zip (0 until str.length))) {\n",
    "        (m, tuple) => {\n",
    "            // m + (tuple._1 -> (m.getOrElse(tuple._1, LinkedList[Int]()) ++ LinkedList[Int](tuple._2)))\n",
    "            m + (tuple._1 -> (m.getOrElse(tuple._1, LinkedList[Int]()) :+ tuple._2))\n",
    "        }\n",
    "    }\n",
    "}\n",
    "\n",
    "indexes(\"Mississippi\")"
   ]
  },
  {
   "cell_type": "markdown",
   "metadata": {
    "collapsed": true
   },
   "source": [
    "## 13.3\n",
    "编写一个函数, 从一个整型链表中去除所有0值"
   ]
  },
  {
   "cell_type": "code",
   "execution_count": 8,
   "metadata": {},
   "outputs": [
    {
     "data": {
      "text/plain": [
       "defined \u001b[32mfunction\u001b[39m \u001b[36mremoveAllZeros\u001b[39m\n",
       "\u001b[36mres7_1\u001b[39m: \u001b[32mList\u001b[39m[\u001b[32mInt\u001b[39m] = \u001b[33mList\u001b[39m(\u001b[32m1\u001b[39m, \u001b[32m3\u001b[39m, \u001b[32m5\u001b[39m, \u001b[32m9\u001b[39m)"
      ]
     },
     "execution_count": 8,
     "metadata": {},
     "output_type": "execute_result"
    }
   ],
   "source": [
    "def removeAllZeros(list: List[Int]) = {\n",
    "    // list filter { _ != 0 }\n",
    "    list.foldLeft(List[Int]()) { (l, n) => if (n == 0) l else l :+ n }\n",
    "}\n",
    "\n",
    "removeAllZeros(List[Int](1, 3, 0, 5, 0, 9))"
   ]
  },
  {
   "cell_type": "markdown",
   "metadata": {},
   "source": [
    "## 13.4\n",
    "编写一个函数,接受一个字符串的集合,以及一个字符串到整型值的映射, 返回整型集合, 其值为能和集合中某个字符串相对应的映射的值. 举例来说,给定Array(\"Tom\",\"Fred\",\"Harry\")和Map(\"Tom\"->3,\"Dick\"->4,\"Harry\"->5), 返回Array(3,5), 提示: 用flatMap将get返回的Option值组合在一起"
   ]
  },
  {
   "cell_type": "code",
   "execution_count": 9,
   "metadata": {},
   "outputs": [
    {
     "data": {
      "text/plain": [
       "\u001b[36mdict\u001b[39m: \u001b[32mMap\u001b[39m[\u001b[32mString\u001b[39m, \u001b[32mInt\u001b[39m] = \u001b[33mMap\u001b[39m(\u001b[32m\"Tom\"\u001b[39m -> \u001b[32m3\u001b[39m, \u001b[32m\"Dick\"\u001b[39m -> \u001b[32m4\u001b[39m, \u001b[32m\"Harry\"\u001b[39m -> \u001b[32m5\u001b[39m)\n",
       "\u001b[36mnames\u001b[39m: \u001b[32mArray\u001b[39m[\u001b[32mString\u001b[39m] = \u001b[33mArray\u001b[39m(\u001b[32m\"Tom\"\u001b[39m, \u001b[32m\"Fred\"\u001b[39m, \u001b[32m\"Harry\"\u001b[39m)\n",
       "\u001b[36mres8_2\u001b[39m: \u001b[32mArray\u001b[39m[\u001b[32mInt\u001b[39m] = \u001b[33mArray\u001b[39m(\u001b[32m3\u001b[39m, \u001b[32m5\u001b[39m)"
      ]
     },
     "execution_count": 9,
     "metadata": {},
     "output_type": "execute_result"
    }
   ],
   "source": [
    "val dict = Map(\"Tom\"->3,\"Dick\"->4,\"Harry\"->5)\n",
    "val names = Array(\"Tom\", \"Fred\", \"Harry\")\n",
    "\n",
    "names.flatMap(dict.get(_))"
   ]
  },
  {
   "cell_type": "markdown",
   "metadata": {},
   "source": [
    "## 13.5\n",
    "实现一个函数, 作用与mkString相同, 使用reduceLeft"
   ]
  },
  {
   "cell_type": "code",
   "execution_count": 11,
   "metadata": {},
   "outputs": [
    {
     "data": {
      "text/plain": [
       "\u001b[32mimport \u001b[39m\u001b[36mscala.collection.mutable.ArrayBuffer\n",
       "\n",
       "\u001b[39m\n",
       "defined \u001b[32mtrait\u001b[39m \u001b[36mIMakeString\u001b[39m\n",
       "\u001b[36marr\u001b[39m: \u001b[32mArrayBuffer\u001b[39m[\u001b[32mString\u001b[39m] with \u001b[32mwrapper\u001b[39m.\u001b[32mwrapper\u001b[39m.\u001b[32mIMakeString\u001b[39m = \u001b[33mArrayBuffer\u001b[39m(\u001b[32m\"Tom\"\u001b[39m, \u001b[32m\"Fred\"\u001b[39m, \u001b[32m\"Harry\"\u001b[39m)\n",
       "\u001b[36mres10_3\u001b[39m: \u001b[32mArrayBuffer\u001b[39m[\u001b[32mString\u001b[39m] with \u001b[32mwrapper\u001b[39m.\u001b[32mwrapper\u001b[39m.\u001b[32mIMakeString\u001b[39m = \u001b[33mArrayBuffer\u001b[39m(\u001b[32m\"Tom\"\u001b[39m, \u001b[32m\"Fred\"\u001b[39m, \u001b[32m\"Harry\"\u001b[39m)\n",
       "\u001b[36mres10_4\u001b[39m: \u001b[32mArrayBuffer\u001b[39m[\u001b[32mString\u001b[39m] with \u001b[32mwrapper\u001b[39m.\u001b[32mwrapper\u001b[39m.\u001b[32mIMakeString\u001b[39m = \u001b[33mArrayBuffer\u001b[39m(\u001b[32m\"Tom\"\u001b[39m, \u001b[32m\"Fred\"\u001b[39m, \u001b[32m\"Harry\"\u001b[39m)\n",
       "\u001b[36mres10_5\u001b[39m: \u001b[32mArrayBuffer\u001b[39m[\u001b[32mString\u001b[39m] with \u001b[32mwrapper\u001b[39m.\u001b[32mwrapper\u001b[39m.\u001b[32mIMakeString\u001b[39m = \u001b[33mArrayBuffer\u001b[39m(\u001b[32m\"Tom\"\u001b[39m, \u001b[32m\"Fred\"\u001b[39m, \u001b[32m\"Harry\"\u001b[39m)\n",
       "\u001b[36mres10_6\u001b[39m: \u001b[32mString\u001b[39m = \u001b[32m\"Tom&Fred&Harry\"\u001b[39m"
      ]
     },
     "execution_count": 11,
     "metadata": {},
     "output_type": "execute_result"
    }
   ],
   "source": [
    "import scala.collection.mutable.ArrayBuffer\n",
    "\n",
    "trait IMakeString {\n",
    "    this: Iterable[String] =>\n",
    "    def makeString(joinStr: String = \"\"): String = this reduceLeft  { _ + joinStr + _ }\n",
    "}\n",
    "\n",
    "val arr = new ArrayBuffer[String]() with IMakeString\n",
    "arr += \"Tom\"\n",
    "arr += \"Fred\"\n",
    "arr += \"Harry\"\n",
    "\n",
    "arr.makeString(\"&\")"
   ]
  },
  {
   "cell_type": "markdown",
   "metadata": {},
   "source": [
    "## 13.6\n",
    "给定整型列表lst, `(lst :\\ List[Int]())(_ :: _ )`得到什么? `(List[Int]() /: lst)(_ :+ _)`又得到什么？如何修改它们中的一个，以对原列表进行反向排序？"
   ]
  },
  {
   "cell_type": "code",
   "execution_count": 17,
   "metadata": {},
   "outputs": [
    {
     "data": {
      "text/plain": [
       "\u001b[36mlst\u001b[39m: \u001b[32mList\u001b[39m[\u001b[32mInt\u001b[39m] = \u001b[33mList\u001b[39m(\u001b[32m1\u001b[39m, \u001b[32m2\u001b[39m, \u001b[32m3\u001b[39m, \u001b[32m4\u001b[39m)\n",
       "\u001b[36mres16_1\u001b[39m: \u001b[32mList\u001b[39m[\u001b[32mInt\u001b[39m] = \u001b[33mList\u001b[39m(\u001b[32m1\u001b[39m, \u001b[32m2\u001b[39m, \u001b[32m3\u001b[39m, \u001b[32m4\u001b[39m)\n",
       "\u001b[36mres16_2\u001b[39m: \u001b[32mList\u001b[39m[\u001b[32mInt\u001b[39m] = \u001b[33mList\u001b[39m(\u001b[32m1\u001b[39m, \u001b[32m2\u001b[39m, \u001b[32m3\u001b[39m, \u001b[32m4\u001b[39m)\n",
       "\u001b[36mres16_3\u001b[39m: \u001b[32mList\u001b[39m[\u001b[32mInt\u001b[39m] = \u001b[33mList\u001b[39m(\u001b[32m4\u001b[39m, \u001b[32m3\u001b[39m, \u001b[32m2\u001b[39m, \u001b[32m1\u001b[39m)\n",
       "\u001b[36mres16_4\u001b[39m: \u001b[32mList\u001b[39m[\u001b[32mInt\u001b[39m] = \u001b[33mList\u001b[39m(\u001b[32m4\u001b[39m, \u001b[32m3\u001b[39m, \u001b[32m2\u001b[39m, \u001b[32m1\u001b[39m)"
      ]
     },
     "execution_count": 17,
     "metadata": {},
     "output_type": "execute_result"
    }
   ],
   "source": [
    "val lst = List(1, 2, 3, 4)\n",
    "\n",
    "(lst :\\ List[Int]())(_ :: _)\n",
    "(List[Int]() /: lst)(_ :+ _)\n",
    "\n",
    "\n",
    "(lst :\\ List[Int]()) {\n",
    "    (n, l) => l :+ n\n",
    "}\n",
    "\n",
    "(List[Int]() /: lst) {\n",
    "    (l, n) => n :: l\n",
    "}"
   ]
  },
  {
   "cell_type": "markdown",
   "metadata": {},
   "source": [
    "## 13.7\n",
    "在13.11节中，表达式`(prices zip quantities) map { p => p._1 * p._2}`有些不够优雅。我们不能用`(prices zip quantities) map { _ * _}`，因为 `_ * _` 是一个带两个参数的函数，而我们需要的是一个带单个类型为元组的参数的函数，Function对象的tupled方法可以将带两个参数的函数改为以元组为参数的函数。将tupled应用于乘法函数，以使我们可以用它来映射由对偶组成的列表。"
   ]
  },
  {
   "cell_type": "code",
   "execution_count": 18,
   "metadata": {},
   "outputs": [
    {
     "data": {
      "text/plain": [
       "\u001b[36mprices\u001b[39m: \u001b[32mList\u001b[39m[\u001b[32mDouble\u001b[39m] = \u001b[33mList\u001b[39m(\u001b[32m5.0\u001b[39m, \u001b[32m20.0\u001b[39m, \u001b[32m9.95\u001b[39m)\n",
       "\u001b[36mquantities\u001b[39m: \u001b[32mList\u001b[39m[\u001b[32mInt\u001b[39m] = \u001b[33mList\u001b[39m(\u001b[32m10\u001b[39m, \u001b[32m2\u001b[39m, \u001b[32m1\u001b[39m)\n",
       "\u001b[36mres17_2\u001b[39m: \u001b[32mList\u001b[39m[\u001b[32mDouble\u001b[39m] = \u001b[33mList\u001b[39m(\u001b[32m50.0\u001b[39m, \u001b[32m40.0\u001b[39m, \u001b[32m9.95\u001b[39m)"
      ]
     },
     "execution_count": 18,
     "metadata": {},
     "output_type": "execute_result"
    }
   ],
   "source": [
    "val prices = List(5.0, 20.0, 9.95)\n",
    "val quantities = List(10, 2, 1)\n",
    "\n",
    "(prices zip quantities) map { Function.tupled(_ * _) }"
   ]
  },
  {
   "cell_type": "markdown",
   "metadata": {},
   "source": [
    "## 13.8\n",
    "编写一个函数。将Double数组转换成二维数组。传入列数作为参数。举例来说，Array(1,2,3,4,5,6)和三列，返回Array(Array(1,2,3),Array(4,5,6))。用grouped方法。"
   ]
  },
  {
   "cell_type": "code",
   "execution_count": 19,
   "metadata": {},
   "outputs": [
    {
     "data": {
      "text/plain": [
       "defined \u001b[32mfunction\u001b[39m \u001b[36mparseArrays\u001b[39m\n",
       "\u001b[36mres18_1\u001b[39m: \u001b[32mArray\u001b[39m[\u001b[32mArray\u001b[39m[\u001b[32mInt\u001b[39m]] = \u001b[33mArray\u001b[39m(\u001b[33mArray\u001b[39m(\u001b[32m1\u001b[39m, \u001b[32m2\u001b[39m, \u001b[32m3\u001b[39m), \u001b[33mArray\u001b[39m(\u001b[32m4\u001b[39m, \u001b[32m5\u001b[39m, \u001b[32m6\u001b[39m))"
      ]
     },
     "execution_count": 19,
     "metadata": {},
     "output_type": "execute_result"
    }
   ],
   "source": [
    "def parseArrays(arr: Array[Int], i: Int): Array[Array[Int]] = {\n",
    "    arr.grouped(i) toArray\n",
    "}\n",
    "\n",
    "parseArrays(Array(1,2,3,4,5,6), 3)"
   ]
  },
  {
   "cell_type": "markdown",
   "metadata": {},
   "source": [
    "## 13.9\n",
    "Harry Hacker写了一个从命令行接受一系列文件名的程序。对每个文件名，他都启动一个新的线程来读取文件内容并更新一个字母出现频率映射，声明为\n",
    "```scala\n",
    "val frequencies = new scala.collection.mutable.HashMap[Char, Int]\n",
    "    with scala.collection.mutable.SynchronizedMap[Char,Int]\n",
    "```\n",
    "当读到字母c时，他调用\n",
    "```scala\n",
    "frequencies(c) = frequencies.getOrElse(c,0) + 1\n",
    "```\n",
    "为什么这样做得不到正确答案？如果他用如下方式实现呢:\n",
    "```scala\n",
    "import scala.collection.JavaConversions.asScalaConcurrentMap  \n",
    "val frequencies:scala.collection.mutable.ConcurrentMap[Char,Int] = \n",
    "    new java.util.concurrent.ConcurrentHashMap[Char,Int]\n",
    "```"
   ]
  },
  {
   "cell_type": "markdown",
   "metadata": {},
   "source": [
    "A: 并发问题，并发修改集合不安全"
   ]
  },
  {
   "cell_type": "markdown",
   "metadata": {},
   "source": [
    "## 13.10\n",
    "Harry Hacker把文件读取到字符串中，然后想对字符串的不同部分用并行集合来并发地更新字母出现频率映射。他用了如下代码：\n",
    "```scala\n",
    "val frequencies = new scala.collection.mutable.HashMap[Char, Int]\n",
    "for (c <- str.par) frequencies(c) = frequencies.getOrElse(c,0) + 1\n",
    "```\n",
    "为什么说这个想法很糟糕? 要真正地并行化这个计算, 他该怎么做呢? (提示：用aggregate)"
   ]
  },
  {
   "cell_type": "code",
   "execution_count": 20,
   "metadata": {},
   "outputs": [
    {
     "data": {
      "text/plain": [
       "defined \u001b[32mfunction\u001b[39m \u001b[36mcalcFrequencies\u001b[39m\n",
       "\u001b[36mres19_1\u001b[39m: \u001b[32mMap\u001b[39m[\u001b[32mChar\u001b[39m, \u001b[32mInt\u001b[39m] = \u001b[33mMap\u001b[39m(\u001b[32m'a'\u001b[39m -> \u001b[32m3\u001b[39m, \u001b[32m'b'\u001b[39m -> \u001b[32m2\u001b[39m, \u001b[32m'c'\u001b[39m -> \u001b[32m3\u001b[39m)"
      ]
     },
     "execution_count": 20,
     "metadata": {},
     "output_type": "execute_result"
    }
   ],
   "source": [
    "def calcFrequencies(str: String): Map[Char, Int] = {\n",
    "    str.par.aggregate(Map[Char, Int]())(\n",
    "        (m, c) => m + (c -> (m.getOrElse(c, 0) + 1)),\n",
    "        (m1, m2) => (Map[Char, Int]() /: (m1.keys ++ m2.keys)) {\n",
    "            (m, k) => m + (k -> (m1.getOrElse(k, 0) + m2.getOrElse(k, 0)))\n",
    "        }\n",
    "    )\n",
    "}\n",
    "\n",
    "calcFrequencies(\"abcabcac\")"
   ]
  },
  {
   "cell_type": "code",
   "execution_count": null,
   "metadata": {
    "collapsed": true
   },
   "outputs": [],
   "source": []
  }
 ],
 "metadata": {
  "kernelspec": {
   "display_name": "Scala",
   "language": "scala",
   "name": "scala"
  },
  "language_info": {
   "codemirror_mode": "text/x-scala",
   "file_extension": ".scala",
   "mimetype": "text/x-scala",
   "name": "scala211",
   "nbconvert_exporter": "script",
   "pygments_lexer": "scala",
   "version": "2.11.11"
  }
 },
 "nbformat": 4,
 "nbformat_minor": 1
}
