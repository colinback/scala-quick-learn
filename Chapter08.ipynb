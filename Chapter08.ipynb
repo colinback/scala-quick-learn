{
 "cells": [
  {
   "cell_type": "markdown",
   "metadata": {},
   "source": [
    "# Chapter 8"
   ]
  },
  {
   "cell_type": "markdown",
   "metadata": {},
   "source": [
    "## 8.1\n",
    "扩展如下的BankAccount类, 新类CheckingAcount对每次存款和取款都收取1美元的手续费。\n",
    "```scala\n",
    "class BankAccount(initialBalance: Double) {\n",
    "    private var balance = initialBalance\n",
    "    def deposit(amount: Double) = { balance += amount; balance }\n",
    "    def withdraw(amount: Double) = { balance -= amount; balance }\n",
    "}\n",
    "```"
   ]
  },
  {
   "cell_type": "code",
   "execution_count": 4,
   "metadata": {},
   "outputs": [
    {
     "data": {
      "text/plain": [
       "defined \u001b[32mclass\u001b[39m \u001b[36mBankAccount\u001b[39m\n",
       "defined \u001b[32mclass\u001b[39m \u001b[36mCheckingAccount\u001b[39m\n",
       "\u001b[36mca\u001b[39m: \u001b[32mwrapper\u001b[39m.\u001b[32mwrapper\u001b[39m.\u001b[32mCheckingAccount\u001b[39m = $sess.cmd3Wrapper$Helper$CheckingAccount@27f01a3\n",
       "\u001b[36mres3_3\u001b[39m: \u001b[32mDouble\u001b[39m = \u001b[32m99.0\u001b[39m"
      ]
     },
     "execution_count": 4,
     "metadata": {},
     "output_type": "execute_result"
    }
   ],
   "source": [
    "class BankAccount(initialBalance: Double) {\n",
    "    private var balance = initialBalance\n",
    "    def deposit(amount: Double) = { balance += amount; balance }\n",
    "    def withdraw(amount: Double) = { balance -= amount; balance }\n",
    "}\n",
    "\n",
    "class CheckingAccount(initialBalance: Double) extends BankAccount(initialBalance) {\n",
    "    override def deposit(amount: Double) = { super.deposit(amount - 1) }\n",
    "    override def withdraw(amount: Double) = { super.withdraw(amount + 1) }\n",
    "}\n",
    "\n",
    "val ca = new CheckingAccount(0.0)\n",
    "ca.deposit(100)  // balance is now 99 "
   ]
  },
  {
   "cell_type": "markdown",
   "metadata": {},
   "source": [
    "## 8.2\n",
    "扩展前一个练习的BankAccount类, 新类SavingsAccount每个月都有利息产生(earnMonthlyInterest方法被调用),并且有每月三次免手续费的存款或取款, 在earnMonthlyInterest方法中重置交易计数。"
   ]
  },
  {
   "cell_type": "code",
   "execution_count": 7,
   "metadata": {},
   "outputs": [
    {
     "name": "stdout",
     "output_type": "stream",
     "text": [
      "104.0\n"
     ]
    },
    {
     "data": {
      "text/plain": [
       "defined \u001b[32mclass\u001b[39m \u001b[36mBankAccount\u001b[39m\n",
       "defined \u001b[32mclass\u001b[39m \u001b[36mSavingAccount\u001b[39m\n",
       "\u001b[36msa\u001b[39m: \u001b[32mwrapper\u001b[39m.\u001b[32mwrapper\u001b[39m.\u001b[32mSavingAccount\u001b[39m = $sess.cmd6Wrapper$Helper$SavingAccount@6e70ac9c\n",
       "\u001b[36mres6_4\u001b[39m: \u001b[32mDouble\u001b[39m = \u001b[32m115.0\u001b[39m\n",
       "\u001b[36mres6_5\u001b[39m: \u001b[32mDouble\u001b[39m = \u001b[32m125.0\u001b[39m\n",
       "\u001b[36mres6_6\u001b[39m: \u001b[32mDouble\u001b[39m = \u001b[32m135.0\u001b[39m\n",
       "\u001b[36mres6_7\u001b[39m: \u001b[32mDouble\u001b[39m = \u001b[32m104.0\u001b[39m"
      ]
     },
     "execution_count": 7,
     "metadata": {},
     "output_type": "execute_result"
    }
   ],
   "source": [
    "class BankAccount(initialBalance: Double) {\n",
    "    protected var balance = initialBalance\n",
    "    def deposit(amount: Double) = { balance += amount; balance }\n",
    "    def withdraw(amount: Double) = { balance -= amount; balance }\n",
    "}\n",
    "\n",
    "class SavingAccount(initialBalance: Double) extends BankAccount(initialBalance) {\n",
    "    private var freeMonthly: Int = _\n",
    "    private val per: Double = 1.05;\n",
    "    \n",
    "    def earnMonthlyInterest() {\n",
    "        freeMonthly = 3\n",
    "        balance *= per\n",
    "    }\n",
    "    \n",
    "    override def deposit(amount: Double) = {\n",
    "        freeMonthly -= 1\n",
    "        if (freeMonthly < 0) \n",
    "            balance += amount - 1 \n",
    "        else \n",
    "            balance += amount\n",
    "        balance\n",
    "    }\n",
    "    \n",
    "    override def withdraw(amount: Double) = { \n",
    "        freeMonthly -= 1\n",
    "        if (freeMonthly < 0) super.withdraw(amount + 1) else super.withdraw(amount)\n",
    "    }\n",
    "    \n",
    "    def getBalance = balance\n",
    "}\n",
    "\n",
    "val sa = new SavingAccount(100.0)\n",
    "sa.earnMonthlyInterest()  // balance = 105\n",
    "sa.deposit(10)\n",
    "sa.deposit(10)\n",
    "sa.deposit(10)\n",
    "sa.withdraw(30)\n",
    "println(sa.getBalance)"
   ]
  },
  {
   "cell_type": "markdown",
   "metadata": {
    "collapsed": true
   },
   "source": [
    "## 8.3\n",
    "翻开你喜欢的Java或C++教科书, 一会找到用来讲解继承层级的示例, 可能是员工、宠物、图形或者类似的东西， 用Scala来实现这个示例\n",
    "```java\n",
    "class Art{\n",
    "    Art(){System.out.println(\"Art constructor\");}\n",
    "}\n",
    "class Drawing extends Art{\n",
    "    Drawing() {System.out.println(\"Drawing constructor\");}\n",
    "}\n",
    "public class Cartoon extends Drawing{\n",
    "    public Cartoon() { System.out.println(\"Cartoon constructor\");}\n",
    "}\n",
    "```"
   ]
  },
  {
   "cell_type": "code",
   "execution_count": 1,
   "metadata": {},
   "outputs": [
    {
     "name": "stdout",
     "output_type": "stream",
     "text": [
      "Art constructor\n",
      "Drawing constructor\n",
      "Cartoon constructor\n"
     ]
    },
    {
     "data": {
      "text/plain": [
       "defined \u001b[32mclass\u001b[39m \u001b[36mArt\u001b[39m\n",
       "defined \u001b[32mclass\u001b[39m \u001b[36mDrawing\u001b[39m\n",
       "defined \u001b[32mclass\u001b[39m \u001b[36mCartoon\u001b[39m\n",
       "\u001b[36mcartoon\u001b[39m: \u001b[32mCartoon\u001b[39m = $sess.cmd0Wrapper$Helper$Cartoon@3e07ed91"
      ]
     },
     "execution_count": 1,
     "metadata": {},
     "output_type": "execute_result"
    }
   ],
   "source": [
    "class Art {\n",
    "    println(\"Art constructor\")\n",
    "}\n",
    "\n",
    "class Drawing extends Art {\n",
    "    println(\"Drawing constructor\")\n",
    "}\n",
    "\n",
    "class Cartoon extends Drawing {\n",
    "    println(\"Cartoon constructor\")\n",
    "}\n",
    "\n",
    "val cartoon = new Cartoon"
   ]
  },
  {
   "cell_type": "markdown",
   "metadata": {},
   "source": [
    "## 8.4\n",
    "定义一个抽象类Item, 加入方法price和description, SimpleItem是一个在构造器中给出价格和描述的物件, 利用val可以重写def这个事实, Bundle是一个可以包含其他物件的物件, 其价格是所有打包物件的价格之和, 同时提供一个将物件添加到打包当中的机制, 以及一个合适的description方法。"
   ]
  },
  {
   "cell_type": "code",
   "execution_count": 7,
   "metadata": {},
   "outputs": [
    {
     "name": "stdout",
     "output_type": "stream",
     "text": [
      "description:SimpleItem  price:10.0\n",
      "description:description:simpleItem-1  price:10.0 | description:simpleItem-2  price:20.0  price:30.0\n"
     ]
    },
    {
     "data": {
      "text/plain": [
       "\u001b[32mimport \u001b[39m\u001b[36mcollection.mutable.ArrayBuffer\n",
       "\n",
       "\u001b[39m\n",
       "defined \u001b[32mclass\u001b[39m \u001b[36mItem\u001b[39m\n",
       "defined \u001b[32mclass\u001b[39m \u001b[36mSimpleItem\u001b[39m\n",
       "\u001b[36msi\u001b[39m: \u001b[32mwrapper\u001b[39m.\u001b[32mwrapper\u001b[39m.\u001b[32mSimpleItem\u001b[39m = description:SimpleItem  price:10.0\n",
       "defined \u001b[32mclass\u001b[39m \u001b[36mBundle\u001b[39m\n",
       "\u001b[36mbundle\u001b[39m: \u001b[32mwrapper\u001b[39m.\u001b[32mwrapper\u001b[39m.\u001b[32mBundle\u001b[39m = description:description:simpleItem-1  price:10.0 | description:simpleItem-2  price:20.0  price:30.0"
      ]
     },
     "execution_count": 7,
     "metadata": {},
     "output_type": "execute_result"
    }
   ],
   "source": [
    "import collection.mutable.ArrayBuffer\n",
    "\n",
    "abstract class Item {\n",
    "    def price(): Double\n",
    "    def description(): String\n",
    "    \n",
    "    override def toString():String = {\n",
    "        \"description:\" + description() + \"  price:\" + price()\n",
    "    }\n",
    "}\n",
    "\n",
    "class SimpleItem(val price: Double, val description: String) extends Item {\n",
    "}\n",
    "\n",
    "val si = new SimpleItem(10.0, \"SimpleItem\")\n",
    "println(si)\n",
    "\n",
    "class Bundle extends Item {\n",
    "    val items = new ArrayBuffer[Item]()\n",
    "    \n",
    "    def addItem(item: Item) {\n",
    "        items += item\n",
    "    }\n",
    "    \n",
    "    override def price():Double = {\n",
    "        var sum = 0.0\n",
    "        items.foreach {\n",
    "            x => sum += x.price\n",
    "        }\n",
    "        sum\n",
    "    }\n",
    "    \n",
    "    override def description():String = {\n",
    "        items.mkString(\" | \")\n",
    "    }\n",
    "}\n",
    "\n",
    "val bundle = new Bundle()\n",
    "bundle.addItem(new SimpleItem(10.0, \"simpleItem-1\"))\n",
    "bundle.addItem(new SimpleItem(20.0, \"simpleItem-2\"))\n",
    "println(bundle)"
   ]
  },
  {
   "cell_type": "markdown",
   "metadata": {},
   "source": [
    "## 8.5\n",
    "设计一个Point类, 其x和y坐标可以通过构造器提供, 提供一个子类LabelPoint, 其构造器接受一个标签值和x & y坐标,\n",
    "比如: new LabeledPoint(\"Black Thursday\", 1929, 230.07)"
   ]
  },
  {
   "cell_type": "code",
   "execution_count": 9,
   "metadata": {},
   "outputs": [
    {
     "data": {
      "text/plain": [
       "defined \u001b[32mclass\u001b[39m \u001b[36mPoint\u001b[39m\n",
       "defined \u001b[32mclass\u001b[39m \u001b[36mLabelPoint\u001b[39m\n",
       "\u001b[36mlp\u001b[39m: \u001b[32mwrapper\u001b[39m.\u001b[32mwrapper\u001b[39m.\u001b[32mLabelPoint\u001b[39m = $sess.cmd8Wrapper$Helper$LabelPoint@21f9b11a"
      ]
     },
     "execution_count": 9,
     "metadata": {},
     "output_type": "execute_result"
    }
   ],
   "source": [
    "class Point(val x: Double, val y: Double) {}\n",
    "\n",
    "class LabelPoint(val label: String, x: Double, y: Double) extends Point(x, y) {}\n",
    "\n",
    "val lp = new LabelPoint(\"Black Thursday\", 1929, 230.07)"
   ]
  },
  {
   "cell_type": "markdown",
   "metadata": {},
   "source": [
    "## 8.6\n",
    "定义一个抽象类Shape，一个抽象方法centerPoint，以及该抽象类的子类Rectangle和Circle。为子类提供合适的构造器，并重写centerPoint方法"
   ]
  },
  {
   "cell_type": "code",
   "execution_count": 10,
   "metadata": {},
   "outputs": [
    {
     "name": "stdout",
     "output_type": "stream",
     "text": [
      "calculate Rectangle center point\n",
      "(2.5,3.5)\n",
      "calculate Circle center point\n",
      "(0.0,0.0)\n"
     ]
    },
    {
     "data": {
      "text/plain": [
       "defined \u001b[32mclass\u001b[39m \u001b[36mShape\u001b[39m\n",
       "defined \u001b[32mclass\u001b[39m \u001b[36mRectangle\u001b[39m\n",
       "defined \u001b[32mclass\u001b[39m \u001b[36mCircle\u001b[39m\n",
       "\u001b[36mrect\u001b[39m: \u001b[32mRectangle\u001b[39m = $sess.cmd9Wrapper$Helper$Rectangle@319a472b\n",
       "\u001b[36mcircle\u001b[39m: \u001b[32mCircle\u001b[39m = $sess.cmd9Wrapper$Helper$Circle@11369014"
      ]
     },
     "execution_count": 10,
     "metadata": {},
     "output_type": "execute_result"
    }
   ],
   "source": [
    "abstract class Shape {\n",
    "    def centerPoint(): (Double, Double)\n",
    "}\n",
    "\n",
    "class Rectangle(val startX: Double, val startY: Double, val endX: Double, val endY: Double) extends Shape {\n",
    "    override def centerPoint() = {\n",
    "        println(\"calculate Rectangle center point\")\n",
    "        ((startX + endX)/2, (startY + endY)/2)\n",
    "    }\n",
    "}\n",
    "\n",
    "class Circle(val centerX: Double, val centerY: Double, val radius: Double) extends Shape {\n",
    "    override def centerPoint() = {\n",
    "        println(\"calculate Circle center point\")\n",
    "        (centerX, centerY)\n",
    "    }\n",
    "}\n",
    "\n",
    "val rect = new Rectangle(1.0, 1.0, 4.0, 6.0)\n",
    "println(rect.centerPoint)\n",
    "\n",
    "val circle = new Circle(0.0, 0.0, 5.0)\n",
    "println(circle.centerPoint)"
   ]
  },
  {
   "cell_type": "markdown",
   "metadata": {},
   "source": [
    "## 8.7\n",
    "提供一个Square类，扩展自java.awt.Rectangle并且是三个构造器：\n",
    "* 一个以给定的端点和宽度构造正方形\n",
    "* 一个以(0,0)为端点和给定的宽度构造正方形\n",
    "* 一个以(0,0)为端点,0为宽度构造正方形"
   ]
  },
  {
   "cell_type": "code",
   "execution_count": 13,
   "metadata": {},
   "outputs": [
    {
     "name": "stdout",
     "output_type": "stream",
     "text": [
      "$sess.cmd12Wrapper$Helper$Square[x=0,y=0,width=5,height=5]\n"
     ]
    },
    {
     "data": {
      "text/plain": [
       "\u001b[32mimport \u001b[39m\u001b[36mjava.awt.{Point, Rectangle}\n",
       "\n",
       "\u001b[39m\n",
       "defined \u001b[32mclass\u001b[39m \u001b[36mSquare\u001b[39m\n",
       "\u001b[36msquare\u001b[39m: \u001b[32mwrapper\u001b[39m.\u001b[32mwrapper\u001b[39m.\u001b[32mSquare\u001b[39m = $sess.cmd12Wrapper$Helper$Square[x=0,y=0,width=5,height=5]"
      ]
     },
     "execution_count": 13,
     "metadata": {},
     "output_type": "execute_result"
    }
   ],
   "source": [
    "import java.awt.{Point, Rectangle}\n",
    "\n",
    "class Square(point: Point, width: Int) extends Rectangle(point.x, point.y, width, width) {\n",
    "    def this() {\n",
    "        this(new Point(0, 0), 0)\n",
    "    }\n",
    "    \n",
    "    def this(width: Int) {\n",
    "        this(new Point(0, 0), width)\n",
    "    }\n",
    "}\n",
    "\n",
    "val square = new Square(5)\n",
    "println(square)"
   ]
  },
  {
   "cell_type": "markdown",
   "metadata": {},
   "source": [
    "## 8.8\n",
    "编译8.6节中的Person和SecretAgent类并使用javap分析类文件。总共有多少name的getter方法？它们分别取什么值？(提示：可以使用-c和-private选项)\n",
    "```scala\n",
    "class Person(val name: String) {\n",
    "    override def toString = getClass.getName + \"[name=\" + name + \"]\"\n",
    "}\n",
    "\n",
    "class SecretAgent(codename: String) extends Person(codename) {\n",
    "    override val name = \"secret\"\n",
    "    override def toString = \"secret\"\n",
    "}\n",
    "```"
   ]
  },
  {
   "cell_type": "markdown",
   "metadata": {},
   "source": [
    "A: 反编译Java代码\n",
    "```java\n",
    "public class Person\n",
    "{\n",
    "    private final String name;\n",
    "\n",
    "    public String name() {\n",
    "        return this.name;\n",
    "    }\n",
    "\n",
    "    @Override\n",
    "    public String toString() {\n",
    "        return this.getClass().getName() + \"[name=\" + this.name() + \"]\";\n",
    "    }\n",
    "\n",
    "    public Person(final String name) {\n",
    "        this.name = name;\n",
    "    }\n",
    "}\n",
    "\n",
    "public class SecretAgent extends Person\n",
    "{\n",
    "    private final String name;\n",
    "\n",
    "    @Override\n",
    "    public String name() {\n",
    "        return this.name;\n",
    "    }\n",
    "\n",
    "    @Override\n",
    "    public String toString() {\n",
    "        return \"secret\";\n",
    "    }\n",
    "\n",
    "    public SecretAgent(final String codename) {\n",
    "        super(codename);\n",
    "        this.name = \"secret\";\n",
    "    }\n",
    "}\n",
    "```"
   ]
  },
  {
   "cell_type": "code",
   "execution_count": 27,
   "metadata": {},
   "outputs": [
    {
     "name": "stdout",
     "output_type": "stream",
     "text": [
      "secret\n"
     ]
    },
    {
     "data": {
      "text/plain": [
       "defined \u001b[32mclass\u001b[39m \u001b[36mPerson\u001b[39m\n",
       "defined \u001b[32mclass\u001b[39m \u001b[36mSecretAgent\u001b[39m\n",
       "\u001b[36ms\u001b[39m: \u001b[32mwrapper\u001b[39m.\u001b[32mwrapper\u001b[39m.\u001b[32mSecretAgent\u001b[39m = secret"
      ]
     },
     "execution_count": 27,
     "metadata": {},
     "output_type": "execute_result"
    }
   ],
   "source": [
    "class Person(val name: String) {\n",
    "    override def toString = getClass.getName + \"[name=\" + name + \"]\"\n",
    "    def basename = this.name\n",
    "}\n",
    "\n",
    "class SecretAgent(codename: String) extends Person(codename) {\n",
    "    override val name = \"secret\"\n",
    "    override def toString = \"secret\"\n",
    "    def superName = super.basename\n",
    "}\n",
    "\n",
    "val s = new SecretAgent(\"abc\")\n",
    "println(s.superName)\n",
    "\n",
    "// s.superName返回居然是secret而不是abc，basename的方法调用的是this.name(),多态机制使得取回的又是SecretAgent的name\n",
    "/* Java\n",
    "class Person {\n",
    "    ...\n",
    "    public String basename() {\n",
    "        return this.name();\n",
    "    }\n",
    "}\n",
    "*/"
   ]
  },
  {
   "cell_type": "markdown",
   "metadata": {},
   "source": [
    "## 8.9\n",
    "在8.10节的Creature类中，将val range替换成一个def。如果你在Ant子类中也用def的话会有什么效果？如果在子类中使用val又会有什么效果？为什么？\n",
    "```scala\n",
    "class Creature {\n",
    "    val range: Int = 10\n",
    "    val env: Array[Int] = new Array[Int](range)\n",
    "}\n",
    "\n",
    "class Ant extends Creature {\n",
    "    override val range = 2\n",
    "}\n",
    "```"
   ]
  },
  {
   "cell_type": "markdown",
   "metadata": {},
   "source": [
    "A: 在Ant中使用def没有问题。使用val也可以编译,因为val能重写不带参数的def。但是env长度仍然是0"
   ]
  },
  {
   "cell_type": "code",
   "execution_count": 23,
   "metadata": {},
   "outputs": [
    {
     "name": "stdout",
     "output_type": "stream",
     "text": [
      "0\n"
     ]
    },
    {
     "data": {
      "text/plain": [
       "defined \u001b[32mclass\u001b[39m \u001b[36mCreature\u001b[39m\n",
       "defined \u001b[32mclass\u001b[39m \u001b[36mAnt\u001b[39m\n",
       "\u001b[36ma\u001b[39m: \u001b[32mwrapper\u001b[39m.\u001b[32mwrapper\u001b[39m.\u001b[32mAnt\u001b[39m = $sess.cmd22Wrapper$Helper$Ant@64ce5911"
      ]
     },
     "execution_count": 23,
     "metadata": {},
     "output_type": "execute_result"
    }
   ],
   "source": [
    "class Creature {\n",
    "    def range: Int = 10\n",
    "    val env: Array[Int] = new Array[Int](range)\n",
    "}\n",
    "\n",
    "class Ant extends Creature {\n",
    "    override val range = 2\n",
    "}\n",
    "\n",
    "val a = new Ant\n",
    "println(a.env.length)"
   ]
  },
  {
   "cell_type": "markdown",
   "metadata": {},
   "source": [
    "## 8.10\n",
    "文件scala/collection/immutable/Stack.scala包含如下定义:\n",
    "```scala\n",
    "class Stack[A] protected (protected val elems: List[A])\n",
    "```\n",
    "请解释protected关键字的含义"
   ]
  },
  {
   "cell_type": "markdown",
   "metadata": {},
   "source": [
    "A: 此构造方法只能被其子类来调用,而不能被外界直接调用"
   ]
  },
  {
   "cell_type": "code",
   "execution_count": null,
   "metadata": {
    "collapsed": true
   },
   "outputs": [],
   "source": []
  }
 ],
 "metadata": {
  "kernelspec": {
   "display_name": "Scala",
   "language": "scala",
   "name": "scala"
  },
  "language_info": {
   "codemirror_mode": "text/x-scala",
   "file_extension": ".scala",
   "mimetype": "text/x-scala",
   "name": "scala211",
   "nbconvert_exporter": "script",
   "pygments_lexer": "scala",
   "version": "2.11.11"
  }
 },
 "nbformat": 4,
 "nbformat_minor": 1
}
